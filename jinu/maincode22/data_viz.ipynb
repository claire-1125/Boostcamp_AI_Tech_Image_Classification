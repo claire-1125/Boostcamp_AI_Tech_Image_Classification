{
 "cells": [
  {
   "cell_type": "code",
   "execution_count": 1,
   "metadata": {},
   "outputs": [],
   "source": [
    "import torch\n",
    "import os\n",
    "from importlib import import_module"
   ]
  },
  {
   "cell_type": "code",
   "execution_count": 2,
   "metadata": {},
   "outputs": [],
   "source": [
    "# https://discuss.pytorch.org/t/simple-way-to-inverse-transform-normalization/4821/3\n",
    "class UnNormalize():\n",
    "    \"\"\"정규화 되었던 이미지를 복원하는 Transforms Function.\n",
    "\n",
    "    \"\"\"\n",
    "    def __init__(self, mean=(0.548, 0.504, 0.479), std=(0.237, 0.247, 0.246)):\n",
    "        self.mean = mean\n",
    "        self.std = std\n",
    "\n",
    "    def __call__(self, tensor):\n",
    "        \"\"\"\n",
    "        Args:\n",
    "            tensor (Tensor): Tensor image of size (C, H, W) to be normalized.\n",
    "        Returns:\n",
    "            Tensor: Normalized image.\n",
    "        \"\"\"\n",
    "        for t, m, s in zip(tensor, self.mean, self.std):\n",
    "            t.mul_(s).add_(m)\n",
    "            # The normalize code -> t.sub_(m).div_(s)\n",
    "        return tensor"
   ]
  },
  {
   "cell_type": "code",
   "execution_count": 3,
   "metadata": {},
   "outputs": [],
   "source": [
    "def load_model(saved_model, model:str, num_classes, device, **kwargs):\n",
    "    model_cls = getattr(import_module(\"model.model\"), model)\n",
    "    model = model_cls(\n",
    "        num_classes=num_classes,\n",
    "        # 아래는 model에 추가적인 파라미터가 필요할 때 사용하시면 됩니다.\n",
    "        # **kwargs\n",
    "    )\n",
    "\n",
    "    model_path = os.path.join(saved_model, 'best.pth')\n",
    "    model.load_state_dict(torch.load(model_path, map_location=device))\n",
    "\n",
    "    return model"
   ]
  },
  {
   "cell_type": "code",
   "execution_count": 4,
   "metadata": {},
   "outputs": [],
   "source": [
    "from sklearn.metrics import confusion_matrix\n",
    "import seaborn as sns\n",
    "from tqdm import tqdm\n",
    "import matplotlib.pyplot as plt\n",
    "import random\n",
    "\n",
    "def inference_model(loader, model_dir, model:str, num_classes, break_idx=300, **kwargs) -> list:\n",
    "    \"\"\"Confusion Matrix 출력 함수.\n",
    "    Args:\n",
    "        loader (dataloader)): dataloader\n",
    "        model_dir (str): 저장된 모델 경로.\n",
    "        num_classes (int): 클래스 갯수\n",
    "        model (str): 모델 클래스명. 단, 문자열로 줘야 함.\n",
    "        break_idx (int, optional): 모두 다 inference하는 것은 너무 오래 걸려서 끊어주기 위한 장치를 마련. Defaults to 300.\n",
    "        **kwargs : 모델에 들어가게 되는 추가적인 파라미터들.\n",
    "    Returns:\n",
    "        list: 튜플 (wrong_imgs, wrong_answers, wrong_labels)을 담아낸 리스트. 이미지에 종속된 라벨을 한꺼번에 묶음.\n",
    "    \"\"\"\n",
    "    use_cuda = torch.cuda.is_available()\n",
    "    device = torch.device(\"cuda\" if use_cuda else \"cpu\")\n",
    "    \n",
    "    model = load_model(model_dir, model, num_classes, device, **kwargs).to(device)\n",
    "    model.eval()\n",
    "\n",
    "    print(f\"Calculating inference results for {model_dir}..\")\n",
    "    \n",
    "    answers = []\n",
    "    preds = []\n",
    "    \n",
    "    # 오답 처리된 이미지들에 대해 (이미지, 정답, 오답)을 출력하기 위한 과정들.\n",
    "    wrong_imgs, wrong_answers, wrong_labels = [], [], []\n",
    "    with torch.no_grad():\n",
    "        for idx, (images, labels) in enumerate(tqdm(loader)):\n",
    "            # <계산 과정>\n",
    "            images = images.to(device)\n",
    "            pred = model(images)\n",
    "            pred = pred.argmax(dim=-1).cpu()\n",
    "            \n",
    "            # </계산 과정>\n",
    "            indices = np.array(range(len(answers), len(answers)+len(labels)+1))\n",
    "            answers.extend(labels)\n",
    "            preds.extend(pred.numpy()) \n",
    "            \n",
    "            # 오답 판별 과정.\n",
    "            wrong_ans = (pred != labels)\n",
    "            \n",
    "            # 오답 판별 결과 누적.\n",
    "            wrong_imgs.extend(images[wrong_ans].cpu())\n",
    "            wrong_answers.extend(labels[wrong_ans].cpu())\n",
    "            wrong_labels.extend(pred[wrong_ans].cpu())\n",
    "            \n",
    "            if idx >= break_idx:\n",
    "                break\n",
    "\n",
    "    return answers, preds, list(zip(wrong_imgs, wrong_answers, wrong_labels))\n",
    "    \n",
    "\n",
    "def display_cfmatrix(model_label, num_classes, answers, preds):\n",
    "    ax = plt.subplot(1,1,1)\n",
    "    \n",
    "    map_label = {\n",
    "        'gender':{0:'male', 1:'female'}, \n",
    "        'age':{0:'<30', 1:'>=30 and <60', 2:'>60'}, \n",
    "        'mask':{0:'mask', 1:'incorrect', 2:'normal'}\n",
    "    }\n",
    "    \n",
    "    # https://scikit-learn.org/stable/modules/generated/sklearn.metrics.confusion_matrix.html\n",
    "    # sklearn.metrics에서의 confusion_matrix 메서드 사용.\n",
    "    cf_matrix = confusion_matrix(answers, preds, labels=list(range(num_classes)))\n",
    "    sns.heatmap(cf_matrix, annot=True)\n",
    "    \n",
    "    # confusion_matrix의 첫 파라미터는 y축으로 두 번째 파라미터는 x축으로 감.\n",
    "    ax.xaxis.set_ticklabels(map_label[model_label].values())\n",
    "    ax.yaxis.set_ticklabels(map_label[model_label].values())\n",
    "    plt.xlabel('pred', fontsize=14)\n",
    "    plt.ylabel('answer', fontsize=14)\n",
    "    "
   ]
  },
  {
   "cell_type": "code",
   "execution_count": 21,
   "metadata": {},
   "outputs": [],
   "source": [
    "import matplotlib.pyplot as plt\n",
    "from einops import rearrange\n",
    "import random\n",
    "\n",
    "def show(pic, label, num=20, mean_std=None):\n",
    "    \"\"\"Confusion Matrix 출력을 위한 공간.\n",
    "\n",
    "    Args:\n",
    "        pic (List:[tuple(wrong_imgs, wrong_answers, wrong_labels)]): inference_model의 결과값.\n",
    "        num (int, optional): 출력하고 싶은 이미지 갯수. Defaults to 20.\n",
    "        mean_std (tuple, optional): ((Mean), (Std))). Defaults to None.\n",
    "    \"\"\"\n",
    "    # 출력할 때마다 다른 이미지 보여지도록 추가한 라인.\n",
    "    pic = random.choices(list(pic), k=num)\n",
    "    \n",
    "    for idx, (img, ans, preds) in enumerate(pic):\n",
    "        # 위에서 random.choices로 갯수 제한해서 필요없긴 한데 갯수 제한없이 출력했을 때,\n",
    "        # 컴퓨터 터질 뻔해서 이중으로 대비했습니다.\n",
    "        if idx >= num:\n",
    "            break\n",
    "        \n",
    "        # plt.imshow는 (H, W, C)만 출력 가능해서 추가한 라인.\n",
    "        img = rearrange(img, 'c h w -> h w c')\n",
    "        \n",
    "        # UnNormalize를 위해 추가한 코드.\n",
    "        if mean_std:\n",
    "            trfm = UnNormalize(*mean_std)\n",
    "            img = trfm(img)\n",
    "        \n",
    "        map_label = {\n",
    "        'gender':{0:'male', 1:'female'}, \n",
    "        'age':{0:'<30', 1:'>=30 and <60', 2:'>60'}, \n",
    "        'mask':{0:'mask', 1:'incorrect', 2:'normal'}\n",
    "        }\n",
    "        \n",
    "        answer = map_label[label][ans.item()]\n",
    "        prediction = map_label[label][preds.item()]\n",
    "        \n",
    "        # 이미지 출력 코드.\n",
    "        plt.imshow(img)\n",
    "        plt.title(f'num: {idx+1} answer: {answer}, pred: {prediction}')\n",
    "        plt.axis('off')\n",
    "        plt.show()"
   ]
  },
  {
   "cell_type": "markdown",
   "metadata": {},
   "source": [
    "---"
   ]
  },
  {
   "cell_type": "code",
   "execution_count": 6,
   "metadata": {},
   "outputs": [
    {
     "name": "stdout",
     "output_type": "stream",
     "text": [
      "/opt/ml/bc-ai-recsys3-lv1-imgclassification\n"
     ]
    }
   ],
   "source": [
    "!pwd"
   ]
  },
  {
   "cell_type": "code",
   "execution_count": 7,
   "metadata": {},
   "outputs": [],
   "source": [
    "import os\n",
    "import random\n",
    "from collections import defaultdict\n",
    "from enum import Enum\n",
    "from typing import Tuple, List\n",
    "\n",
    "import numpy as np\n",
    "import torch\n",
    "from PIL import Image\n",
    "from torch.utils.data import Dataset, Subset, random_split, WeightedRandomSampler\n",
    "# from torchvision import transforms\n",
    "# from torchvision.transforms import *\n",
    "from albumentations import *\n",
    "from albumentations.pytorch import ToTensorV2\n",
    "\n",
    "IMG_EXTENSIONS = [\n",
    "    \".jpg\", \".JPG\", \".jpeg\", \".JPEG\", \".png\",\n",
    "    \".PNG\", \".ppm\", \".PPM\", \".bmp\", \".BMP\",\n",
    "]\n",
    "\n",
    "\n",
    "def is_image_file(filename):\n",
    "    return any(filename.endswith(extension) for extension in IMG_EXTENSIONS)\n",
    "\n",
    "\n",
    "class BaseAugmentation:\n",
    "    def __init__(self, resize, mean, std, **args):\n",
    "        self.transform = Compose([\n",
    "            CenterCrop(320, 256, p=1.),\n",
    "            Resize(resize[0], resize[1], Image.BILINEAR, p=1.),\n",
    "            Normalize(mean=mean, std=std),\n",
    "            ToTensorV2(p=1.),\n",
    "        ], p=1.)\n",
    "\n",
    "    def __call__(self, image):\n",
    "        return self.transform(image=image)\n",
    "\n",
    "\n",
    "class AddGaussianNoise(object):\n",
    "    \"\"\"\n",
    "        transform 에 없는 기능들은 이런식으로 __init__, __call__, __repr__ 부분을\n",
    "        직접 구현하여 사용할 수 있습니다.\n",
    "    \"\"\"\n",
    "\n",
    "    def __init__(self, mean=0., std=1.):\n",
    "        self.std = std\n",
    "        self.mean = mean\n",
    "\n",
    "    def __call__(self, tensor):\n",
    "        return tensor + torch.randn(tensor.size()) * self.std + self.mean\n",
    "\n",
    "    def __repr__(self):\n",
    "        return self.__class__.__name__ + '(mean={0}, std={1})'.format(self.mean, self.std)\n",
    "\n",
    "\n",
    "class CustomAugmentation:\n",
    "    def __init__(self, resize, mean, std, **args):\n",
    "        self.resize = resize\n",
    "        self.mean = mean\n",
    "        self.std = std\n",
    "        self.transform =  Compose([\n",
    "            CenterCrop(320, 256, p=1.),\n",
    "            Resize(resize[0], resize[1], Image.BILINEAR, p=1.),\n",
    "            ShiftScaleRotate(shift_limit=0.05, rotate_limit=20, p=.7),\n",
    "            RandomBrightnessContrast(p=.7),\n",
    "            OneOf([\n",
    "                FancyPCA(p=.5),\n",
    "                GaussNoise(p=.2),\n",
    "            ], p=1.),\n",
    "            Normalize(mean=mean, std=std),\n",
    "            ToTensorV2(p=1.0),\n",
    "        ], p=1.)\n",
    "\n",
    "    def __call__(self, image):\n",
    "        return self.transform(image=image)\n",
    "\n",
    "class MaskLabels(int, Enum):\n",
    "    MASK = 0\n",
    "    INCORRECT = 1\n",
    "    NORMAL = 2\n",
    "\n",
    "\n",
    "class GenderLabels(int, Enum):\n",
    "    MALE = 0\n",
    "    FEMALE = 1\n",
    "\n",
    "    @classmethod\n",
    "    def from_str(cls, value: str) -> int:\n",
    "        value = value.lower()\n",
    "        if value == \"male\":\n",
    "            return cls.MALE\n",
    "        elif value == \"female\":\n",
    "            return cls.FEMALE\n",
    "        else:\n",
    "            raise ValueError(f\"Gender value should be either 'male' or 'female', {value}\")\n",
    "\n",
    "\n",
    "class AgeLabels(int, Enum):\n",
    "    YOUNG = 0\n",
    "    MIDDLE = 1\n",
    "    OLD = 2\n",
    "\n",
    "    @classmethod\n",
    "    def from_number(cls, value: str) -> int:\n",
    "        try:\n",
    "            value = int(value)\n",
    "        except Exception:\n",
    "            raise ValueError(f\"Age value should be numeric, {value}\")\n",
    "\n",
    "        if value < 30:\n",
    "            return cls.YOUNG\n",
    "        elif value < 60:\n",
    "            return cls.MIDDLE\n",
    "        else:\n",
    "            return cls.OLD\n",
    "\n",
    "\n",
    "class MaskBaseDataset(Dataset):\n",
    "    num_classes = 3 * 2 * 3\n",
    "\n",
    "    _file_names = {\n",
    "        \"mask1\": MaskLabels.MASK,\n",
    "        \"mask2\": MaskLabels.MASK,\n",
    "        \"mask3\": MaskLabels.MASK,\n",
    "        \"mask4\": MaskLabels.MASK,\n",
    "        \"mask5\": MaskLabels.MASK,\n",
    "        \"incorrect_mask\": MaskLabels.INCORRECT,\n",
    "        \"normal\": MaskLabels.NORMAL\n",
    "    }\n",
    "    \n",
    "    image_paths = []\n",
    "    \n",
    "    mask_labels = []\n",
    "    gender_labels = []\n",
    "    age_labels = []\n",
    "\n",
    "    def __init__(self, data_dir, mean=(0.548, 0.504, 0.479), std=(0.237, 0.247, 0.246), val_ratio=0.2):\n",
    "        self.data_dir = data_dir\n",
    "        self.mean = mean\n",
    "        self.std = std\n",
    "        self.val_ratio = val_ratio # validation ratio \n",
    "        \n",
    "        self.transform = None\n",
    "        self.setup()\n",
    "        self.calc_statistics()\n",
    "\n",
    "    def setup(self):\n",
    "        profiles = os.listdir(self.data_dir)\n",
    "        for profile in profiles:\n",
    "            if profile.startswith(\".\"):  # \".\" 로 시작하는 파일은 무시합니다\n",
    "                continue\n",
    "\n",
    "            img_folder = os.path.join(self.data_dir, profile)\n",
    "            for file_name in os.listdir(img_folder):\n",
    "                _file_name, ext = os.path.splitext(file_name)\n",
    "                if _file_name not in self._file_names:  # \".\" 로 시작하는 파일 및 invalid 한 파일들은 무시합니다\n",
    "                    continue\n",
    "\n",
    "                img_path = os.path.join(self.data_dir, profile, file_name)  # (resized_data, 000004_male_Asian_54, mask1.jpg)\n",
    "                mask_label = self._file_names[_file_name]\n",
    "\n",
    "                id, gender, race, age = profile.split(\"_\")\n",
    "                gender_label = GenderLabels.from_str(gender)\n",
    "                age_label = AgeLabels.from_number(age)\n",
    "\n",
    "                self.image_paths.append(img_path)\n",
    "                self.mask_labels.append(mask_label)\n",
    "                self.gender_labels.append(gender_label)\n",
    "                self.age_labels.append(age_label)\n",
    "\n",
    "    def calc_statistics(self):\n",
    "        has_statistics = self.mean is not None and self.std is not None\n",
    "        if not has_statistics:\n",
    "            print(\"[Warning] Calculating statistics... It can take a long time depending on your CPU machine\")\n",
    "            sums = []\n",
    "            squared = []\n",
    "            for image_path in self.image_paths[:3000]:\n",
    "                image = np.array(Image.open(image_path)).astype(np.int32)\n",
    "                sums.append(image.mean(axis=(0, 1)))\n",
    "                squared.append((image ** 2).mean(axis=(0, 1)))\n",
    "\n",
    "            self.mean = np.mean(sums, axis=0) / 255\n",
    "            self.std = (np.mean(squared, axis=0) - self.mean ** 2) ** 0.5 / 255\n",
    "            print(self.mean, self.std)\n",
    "\n",
    "    def set_transform(self, transform):\n",
    "        self.transform = transform\n",
    "\n",
    "    def __getitem__(self, index):\n",
    "        assert self.transform is not None, \".set_tranform 메소드를 이용하여 transform 을 주입해주세요\"\n",
    "\n",
    "        mask_label = self.get_mask_label(index)\n",
    "        gender_label = self.get_gender_label(index)\n",
    "        age_label = self.get_age_label(index)\n",
    "        multi_class_label = self.encode_multi_class(mask_label, gender_label, age_label)\n",
    "\n",
    "        image = self.read_image(index)\n",
    "        image_np = np.array(image)\n",
    "        image_transform = self.transform(image_np)['image']\n",
    "        return image_transform, multi_class_label\n",
    "\n",
    "    def __len__(self):\n",
    "        return len(self.image_paths)\n",
    "\n",
    "    def get_mask_label(self, index) -> MaskLabels:\n",
    "        return self.mask_labels[index]\n",
    "\n",
    "    def get_gender_label(self, index) -> GenderLabels:\n",
    "        return self.gender_labels[index]\n",
    "\n",
    "    def get_age_label(self, index) -> AgeLabels:\n",
    "        return self.age_labels[index]\n",
    "\n",
    "    def read_image(self, index):\n",
    "        \"\"\"\n",
    "        read an image from directory and return it as a numpy array\n",
    "        \"\"\"\n",
    "        image_path = self.image_paths[index]\n",
    "        return np.array(Image.open(image_path))\n",
    "\n",
    "    @staticmethod\n",
    "    def encode_multi_class(mask_label, gender_label, age_label) -> int:\n",
    "        return mask_label * 6 + gender_label * 3 + age_label\n",
    "\n",
    "    @staticmethod\n",
    "    def decode_multi_class(multi_class_label) -> Tuple[MaskLabels, GenderLabels, AgeLabels]:\n",
    "        mask_label = (multi_class_label // 6) % 3\n",
    "        gender_label = (multi_class_label // 3) % 2\n",
    "        age_label = multi_class_label % 3\n",
    "        return mask_label, gender_label, age_label\n",
    "\n",
    "    @staticmethod\n",
    "    def denormalize_image(image, mean, std):\n",
    "        img_cp = image.copy()\n",
    "        img_cp *= std\n",
    "        img_cp += mean\n",
    "        img_cp *= 255.0\n",
    "        img_cp = np.clip(img_cp, 0, 255).astype(np.uint8)\n",
    "        return img_cp\n",
    "\n",
    "    def split_dataset(self) -> Tuple[Subset, Subset]:\n",
    "        \"\"\"\n",
    "        데이터셋을 train 과 val 로 나눕니다,\n",
    "        pytorch 내부의 torch.utils.data.random_split 함수를 사용하여\n",
    "        torch.utils.data.Subset 클래스 둘로 나눕니다.\n",
    "        구현이 어렵지 않으니 구글링 혹은 IDE (e.g. pycharm) 의 navigation 기능을 통해 코드를 한 번 읽어보는 것을 추천드립니다^^\n",
    "        \"\"\"\n",
    "        n_val = int(len(self) * self.val_ratio)\n",
    "        n_train = len(self) - n_val\n",
    "        train_set, val_set = random_split(self, [n_train, n_val])\n",
    "        return train_set, val_set\n",
    "\n",
    "\n",
    "class MaskSplitByProfileDataset(MaskBaseDataset):\n",
    "    \"\"\"\n",
    "        train / val 나누는 기준을 이미지에 대해서 random 이 아닌\n",
    "        사람(profile)을 기준으로 나눕니다.\n",
    "        구현은 val_ratio 에 맞게 train / val 나누는 것을 이미지 전체가 아닌 사람(profile)에 대해서 진행하여 indexing 을 합니다\n",
    "        이후 `split_dataset` 에서 index 에 맞게 Subset 으로 dataset 을 분기합니다.\n",
    "    \"\"\"\n",
    "    # calc_statistics self.image_paths[:3000]:\n",
    "    #   [0.5573112  0.52429302 0.50174594] [0.61373778 0.58633636 0.56743769]\n",
    "    def __init__(self, data_dir, label='multi', mean=(0.548, 0.504, 0.479), std=(0.237, 0.247, 0.246), val_ratio=0.2):\n",
    "        self.indices = defaultdict(list)\n",
    "        self.label = label\n",
    "        self.multi_labels = []\n",
    "        self.downsample = True\n",
    "        \n",
    "        super().__init__(data_dir, mean, std, val_ratio)\n",
    "        \n",
    "        if self.label == 'multi':\n",
    "            self.num_classes = 3 * 2 * 3\n",
    "            self.target_label = self.multi_labels\n",
    "        elif self.label == 'mask':\n",
    "            self.num_classes = 3\n",
    "            self.target_label = self.mask_labels\n",
    "        elif self.label == 'gender':\n",
    "            self.num_classes = 2\n",
    "            self.target_label = self.gender_labels\n",
    "        elif self.label == 'age':\n",
    "            self.num_classes = 3\n",
    "            self.target_label = self.age_labels\n",
    "        else:\n",
    "            raise ValueError(f\"label must be 'multi', 'mask', 'gender', or 'age', {self.label}\")\n",
    "        self.class_weights = self.compute_class_weight()\n",
    "    \n",
    "    ### 이부분이 (__getitem__) 원래 dataset.py와 달라 부득이하게 복붙하였습니다 ###\n",
    "    def __getitem__(self, index):\n",
    "        img_np = self.read_image(index)\n",
    "        img = self.transform(image=img_np)['image']\n",
    "        return img, self.target_label[index]\n",
    "\n",
    "    @staticmethod\n",
    "    def _split_profile(profiles, val_ratio):\n",
    "        length = len(profiles)\n",
    "        n_val = int(length * val_ratio)\n",
    "\n",
    "        val_indices = set(random.sample(range(length), k=n_val))\n",
    "        train_indices = set(range(length)) - val_indices\n",
    "        return {\n",
    "            \"train\": train_indices,\n",
    "            \"val\": val_indices\n",
    "        }\n",
    "\n",
    "    def setup(self):\n",
    "        profiles = os.listdir(self.data_dir)\n",
    "        profiles = [profile for profile in profiles if not profile.startswith(\".\")]\n",
    "        split_profiles = self._split_profile(profiles, self.val_ratio)\n",
    "\n",
    "        cnt = 0\n",
    "        for phase, indices in split_profiles.items():\n",
    "            for _idx in indices:\n",
    "                include_mask = True\n",
    "                profile = profiles[_idx]\n",
    "                img_folder = os.path.join(self.data_dir, profile)\n",
    "                lst_dir = os.listdir(img_folder)\n",
    "                random.shuffle(lst_dir)  # in-place operation (add randomness in selected images with mask label)\n",
    "                for file_name in lst_dir:\n",
    "                    _file_name, ext = os.path.splitext(file_name)\n",
    "                    if _file_name not in self._file_names:  # \".\" 로 시작하는 파일 및 invalid 한 파일들은 무시합니다\n",
    "                        continue\n",
    "                    if ext != '.jpg':\n",
    "                        continue\n",
    "                    if self.downsample and file_name.startswith('mask'):\n",
    "                        if not include_mask:\n",
    "                            continue\n",
    "                        include_mask = False # include only 1 mask image per profile\n",
    "\n",
    "                    img_path = os.path.join(self.data_dir, profile, file_name)  # (resized_data, 000004_male_Asian_54, mask1.jpg)\n",
    "                    mask_label = self._file_names[_file_name]\n",
    "\n",
    "                    id, gender, race, age = profile.split(\"_\")\n",
    "                    gender_label = GenderLabels.from_str(gender)\n",
    "                    age_label = AgeLabels.from_number(age)\n",
    "\n",
    "                    self.image_paths.append(img_path)\n",
    "                    self.mask_labels.append(mask_label)\n",
    "                    self.gender_labels.append(gender_label)\n",
    "                    self.age_labels.append(age_label)\n",
    "                    self.multi_labels.append(self.encode_multi_class(mask_label, gender_label, age_label))\n",
    "\n",
    "                    self.indices[phase].append(cnt)\n",
    "                    cnt += 1\n",
    "\n",
    "    def split_dataset(self) -> List[Subset]:\n",
    "        return [Subset(self, indices) for phase, indices in self.indices.items()]\n",
    "    \n",
    "    def get_train_labels(self, label):\n",
    "        \"\"\"\n",
    "        returns train data of the input label\n",
    "        \"\"\"\n",
    "        train_index = self.indices['train']\n",
    "        return [label[idx] for idx in train_index]\n",
    "    \n",
    "    def get_classweight_label(self, label) -> torch.tensor:\n",
    "        \"\"\"\n",
    "        returns class weight of a label within train dataset\n",
    "        \"\"\"\n",
    "        train_labels = self.get_train_labels(label)\n",
    "        _, n_samples = np.unique(train_labels, return_counts=True)\n",
    "        weights = 1. / torch.tensor(n_samples, dtype=torch.float)\n",
    "        return weights\n",
    "    \n",
    "    def normalize_weight(self, n_samples):\n",
    "        norm_weights = [1 - (sample / sum(n_samples)) for sample in n_samples]\n",
    "        return torch.tensor(norm_weights, dtype=torch.float)\n",
    "\n",
    "    ##################### need refactoring ##################### \n",
    "    def get_weighted_sampler(self) -> WeightedRandomSampler:  \n",
    "        \"\"\"\n",
    "        returns WeightedRandomSampler based on the distribution of the train label\n",
    "        used to prevent overfitting due to unbalanced dataset\n",
    "        \"\"\"\n",
    "        # # v0: weights on target label\n",
    "        # train_index = self.indices['train'] # indices of train dataset\n",
    "        # train_labels = [self.target_label[idx] for idx in train_index] # target_label of train dataset\n",
    "        # class_counts = np.array([len(np.where(train_labels==t)[0]) for t in np.unique(train_labels)]) # get counts of each class \n",
    "        # weights = 1. / torch.tensor(class_counts, dtype=torch.float) # get weights (more class count == less weight(frequent) it will be sampled)\n",
    "        # samples_weights = weights[train_labels] # map weights for each train dataset, len(samples_weights) == len(train dataset)\n",
    "        # return WeightedRandomSampler(weights=samples_weights, num_samples=len(samples_weights), replacement=True)\n",
    "        \n",
    "        # # v1: normalized weights on target label (better than v0)\n",
    "        # sample_weight = [self.class_weights[self.target_label[idx]] for idx in self.indices['train']]\n",
    "        # return WeightedRandomSampler(weights=sample_weight, num_samples=len(sample_weight), replacement=True)\n",
    "        \n",
    "        # # v2: normalized weights on of specific ratio ``age=.9 : gender=.1``\n",
    "        # age_weight = self.get_classweight_label(self.age_labels)\n",
    "        # gender_weight = self.get_classweight_label(self.gender_labels)\n",
    "        # weights = [age_weight[self.age_labels[idx]]*.9 + gender_weight[self.gender_labels[idx]]*.1 for idx in self.indices['train']]\n",
    "        # return WeightedRandomSampler(weights=weights, num_samples=len(weights), replacement=True)\n",
    "\n",
    "        # v3: normalized weights on multi label\n",
    "        multi_weight = self.get_classweight_label(self.multi_labels)\n",
    "        multi_weight = self.normalize_weight(multi_weight)\n",
    "        sample_weight = [multi_weight[self.multi_labels[idx]] for idx in self.indices['train']]\n",
    "        return WeightedRandomSampler(weights=sample_weight, num_samples=len(sample_weight), replacement=True)\n",
    "\n",
    "    def compute_class_weight(self) -> torch.tensor:\n",
    "        \"\"\"\n",
    "        estimate class weights for unbalanced dataset\n",
    "        `` 1 - n_sample / sum(n_samples) ````\n",
    "        used for loss function: weighted_cross_entropy\n",
    "        \"\"\"\n",
    "        train_index = self.indices['train']\n",
    "        train_labels = [self.target_label[idx] for idx in train_index]\n",
    "        _, n_samples = np.unique(train_labels, return_counts=True)\n",
    "        norm_weights = [1 - (sample / sum(n_samples)) for sample in n_samples]\n",
    "        return torch.tensor(norm_weights, dtype=torch.float).to(device='cuda')"
   ]
  },
  {
   "cell_type": "code",
   "execution_count": 8,
   "metadata": {},
   "outputs": [],
   "source": [
    "# from dataset import MaskSplitByProfileDataset, BaseAugmentation\n",
    "from PIL import Image\n",
    "import multiprocessing\n",
    "from torch.utils.data import DataLoader\n",
    "\n",
    "def seed_everything(seed):\n",
    "    torch.manual_seed(seed)\n",
    "    torch.cuda.manual_seed(seed)\n",
    "    torch.cuda.manual_seed_all(seed)  # if use multi-GPU\n",
    "    torch.backends.cudnn.deterministic = True\n",
    "    torch.backends.cudnn.benchmark = False\n",
    "    np.random.seed(seed)\n",
    "    random.seed(seed)\n",
    "\n",
    "def get_dataloader(label: str='multi'):\n",
    "    seed_everything(42)\n",
    "\n",
    "    # -- settings\n",
    "    use_cuda = torch.cuda.is_available()\n",
    "    device = torch.device(\"cuda\" if use_cuda else \"cpu\")\n",
    "\n",
    "    # -- dataset\n",
    "    data_dir = '/opt/ml/input/data/train/images'\n",
    "    dataset = MaskSplitByProfileDataset(\n",
    "        data_dir=data_dir,\n",
    "        label=label,\n",
    "    )\n",
    "    \n",
    "    # -- augmentation\n",
    "    resize = (224, 224)\n",
    "    transform = BaseAugmentation(\n",
    "        resize=resize,\n",
    "        mean=dataset.mean,\n",
    "        std=dataset.std,\n",
    "    )\n",
    "    dataset.set_transform(transform)\n",
    "\n",
    "    # -- data_loader\n",
    "    dataloader = DataLoader(\n",
    "        dataset,\n",
    "        # batch_size=64, #args.batch_size,\n",
    "        num_workers=multiprocessing.cpu_count()//2,\n",
    "        shuffle=True,\n",
    "        pin_memory=use_cuda,\n",
    "        drop_last=True,\n",
    "        # sampler=sampler,\n",
    "    )\n",
    "    \n",
    "    # resize = [224, 224]\n",
    "    # batch_size = 1000\n",
    "\n",
    "    # data_dir = '/opt/ml/input/data/train/images'\n",
    "    # dataset = MaskSplitByProfileDataset(data_dir, label, resize)\n",
    "    # transform = BaseAugmentation(resize, dataset.mean, dataset.std)\n",
    "    # dataset.set_transform(transform)\n",
    "    # dataloader = torch.utils.data.DataLoader(\n",
    "    #         dataset,\n",
    "    #         # batch_size=batch_size,\n",
    "    #         # num_workers=8,\n",
    "    #         shuffle=False,\n",
    "    #         pin_memory=torch.cuda.is_available(),\n",
    "    #         drop_last=False,\n",
    "    #     )\n",
    "    return dataloader"
   ]
  },
  {
   "cell_type": "code",
   "execution_count": 9,
   "metadata": {},
   "outputs": [],
   "source": [
    "from train import parse_model_param\n",
    "\n",
    "class ModelEvaluator:\n",
    "    def __init__(self, script: str, inference: bool=False):\n",
    "        self.script = script\n",
    "        self.model_param = self.parse_script()\n",
    "        self.num_classes_label = {\n",
    "            'multi': 18,\n",
    "            'age': 3,\n",
    "            'gender': 2,\n",
    "            'mask': 3\n",
    "        }\n",
    "        self.dataloader = None\n",
    "        if inference:\n",
    "            self.inference\n",
    "        \n",
    "\n",
    "    def parse_script(self, script: str=None):\n",
    "        \"\"\"\n",
    "        takes as input a script to generate a model\n",
    "        returns a prediction made using the model\n",
    "        \"\"\"\n",
    "        # i.e. python train.py --epochs 120 --dataset MaskSplitByProfileDataset --augmentation CustomAugmentation --model PretrainedModels --model_param resnet false --optimizer SGD --name ResNet_Ep120_SplitProf_Downsample_CustAugv1_WeightedCEnSamplev2_SGD_MASK --label mask\n",
    "        if script is None:\n",
    "            script = self.script\n",
    "        \n",
    "        model_param = {}\n",
    "        lst_param = script.split(sep=' ')\n",
    "        # default params\n",
    "        model_param['label'] = 'multi'\n",
    "        for idx, param in enumerate(lst_param):\n",
    "            if param == '--model':\n",
    "                model_param['model'] = lst_param[idx+1]\n",
    "            if param == '--label':\n",
    "                model_param['label'] = lst_param[idx+1]\n",
    "            if param == '--name':\n",
    "                model_param['name'] = lst_param[idx+1]\n",
    "            if param == '--model_param':\n",
    "                model_param['model_param'] = lst_param[idx+1]\n",
    "        model_param['model_dir'] = os.path.join('./model', model_param['label'], model_param['name'])\n",
    "        # print(model_param)\n",
    "        return model_param\n",
    "\n",
    "    def get_dataloader(self):\n",
    "        self.dataloader = get_dataloader(self.model_param['label'])\n",
    "\n",
    "    def inference(self, n_samples: int=5000, model_param: dict=None):\n",
    "        if model_param is None:\n",
    "            model_param = self.model_param\n",
    "\n",
    "        model_dir = self.model_param['model_dir']\n",
    "        label = self.model_param['label']\n",
    "        model = self.model_param['model']\n",
    "        \n",
    "        self.model_param['num_classes'] = self.num_classes_label[label]\n",
    "        params = parse_model_param(self.model_param['model_param'], pretrained=True)\n",
    "\n",
    "        if self.dataloader is None:\n",
    "            self.get_dataloader()\n",
    "        self.ans, self.preds, self.wrong = inference_model(self.dataloader, model_dir, model, self.num_classes_label[label], 10000, **params)\n",
    "\n",
    "    def display_cfmatrix(self):\n",
    "        display_cfmatrix(\n",
    "            self.model_param['label'], \n",
    "            self.model_param['num_classes'], \n",
    "            self.ans,\n",
    "            self.preds\n",
    "        )\n",
    "    \n",
    "    def display_incorrect(self, n_display: int=10):\n",
    "        show(self.wrong, self.model_param['label'], n_display)"
   ]
  },
  {
   "cell_type": "code",
   "execution_count": 10,
   "metadata": {},
   "outputs": [
    {
     "data": {
      "text/plain": [
       "True"
      ]
     },
     "execution_count": 10,
     "metadata": {},
     "output_type": "execute_result"
    }
   ],
   "source": [
    "torch.cuda.is_available()"
   ]
  },
  {
   "cell_type": "code",
   "execution_count": 11,
   "metadata": {},
   "outputs": [
    {
     "name": "stdout",
     "output_type": "stream",
     "text": [
      "[Errno 2] No such file or directory: 'bc-ai-recsys3-lv1-imgclassification'\n",
      "/opt/ml/bc-ai-recsys3-lv1-imgclassification\n"
     ]
    }
   ],
   "source": [
    "%cd bc-ai-recsys3-lv1-imgclassification"
   ]
  },
  {
   "cell_type": "code",
   "execution_count": 15,
   "metadata": {},
   "outputs": [],
   "source": [
    "script_age = 'python train.py --epochs 60 --dataset MaskSplitByProfileDataset --augmentation CustomAugmentation --model VGGFace --model_param false --optimizer SGD --name VGGFace_Ep60_Weightv3_AGE --label age'\n",
    "age_eval = ModelEvaluator(script_age)"
   ]
  },
  {
   "cell_type": "code",
   "execution_count": 16,
   "metadata": {},
   "outputs": [
    {
     "name": "stderr",
     "output_type": "stream",
     "text": [
      "  0%|          | 0/15466 [00:00<?, ?it/s]"
     ]
    },
    {
     "name": "stdout",
     "output_type": "stream",
     "text": [
      "Calculating inference results for ./model/age/VGGFace_Ep60_Weightv3_AGE..\n"
     ]
    },
    {
     "name": "stderr",
     "output_type": "stream",
     "text": [
      " 65%|██████▍   | 10000/15466 [04:14<02:19, 39.27it/s]\n"
     ]
    },
    {
     "data": {
      "image/png": "[encoded data removed]",
      "text/plain": [
       "<Figure size 432x288 with 2 Axes>"
      ]
     },
     "metadata": {
      "needs_background": "light"
     },
     "output_type": "display_data"
    }
   ],
   "source": [
    "age_eval.inference()\n",
    "age_eval.display_cfmatrix()"
   ]
  },
  {
   "cell_type": "code",
   "execution_count": 14,
   "metadata": {},
   "outputs": [
    {
     "name": "stderr",
     "output_type": "stream",
     "text": [
      "  0%|          | 0/7733 [00:00<?, ?it/s]"
     ]
    },
    {
     "name": "stdout",
     "output_type": "stream",
     "text": [
      "Calculating inference results for ./model/age/ResNet_Ep60_patience15_SplitProf_Downsample_CustAugv1_WeightedCEnSamplev3_SGD_AGE..\n"
     ]
    },
    {
     "name": "stderr",
     "output_type": "stream",
     "text": [
      "100%|██████████| 7733/7733 [04:31<00:00, 28.53it/s]\n"
     ]
    },
    {
     "data": {
      "image/png": "[encoded data removed]",
      "text/plain": [
       "<Figure size 432x288 with 2 Axes>"
      ]
     },
     "metadata": {
      "needs_background": "light"
     },
     "output_type": "display_data"
    }
   ],
   "source": [
    "age_eval.inference()\n",
    "age_eval.display_cfmatrix()"
   ]
  },
  {
   "cell_type": "code",
   "execution_count": 19,
   "metadata": {},
   "outputs": [
    {
     "name": "stdout",
     "output_type": "stream",
     "text": [
      "Total: 10001, Wrong: 403\n",
      "Accuracy: 0.9597040295970403\n"
     ]
    }
   ],
   "source": [
    "print(f'Total: {len(age_eval.ans)}, Wrong: {len(age_eval.wrong)}')\n",
    "print(f'Accuracy: {1-len(age_eval.wrong)/len(age_eval.ans)}')"
   ]
  },
  {
   "cell_type": "code",
   "execution_count": 22,
   "metadata": {},
   "outputs": [
    {
     "name": "stderr",
     "output_type": "stream",
     "text": [
      "Clipping input data to the valid range for imshow with RGB data ([0..1] for floats or [0..255] for integers).\n"
     ]
    },
    {
     "data": {
      "image/png": "[encoded data removed]",
      "text/plain": [
       "<Figure size 432x288 with 1 Axes>"
      ]
     },
     "metadata": {
      "needs_background": "light"
     },
     "output_type": "display_data"
    },
    {
     "name": "stderr",
     "output_type": "stream",
     "text": [
      "Clipping input data to the valid range for imshow with RGB data ([0..1] for floats or [0..255] for integers).\n"
     ]
    },
    {
     "data": {
      "image/png": "[encoded data removed]",
      "text/plain": [
       "<Figure size 432x288 with 1 Axes>"
      ]
     },
     "metadata": {
      "needs_background": "light"
     },
     "output_type": "display_data"
    }
   ],
   "source": [
    "age_eval.display_incorrect(2)"
   ]
  },
  {
   "cell_type": "code",
   "execution_count": 23,
   "metadata": {},
   "outputs": [],
   "source": [
    "script_gender = 'python train.py --epochs 60 --dataset MaskSplitByProfileDataset --augmentation CustomAugmentation --model VGGFace --model_param false --optimizer SGD --name VGGFace_Ep60_Weightv3_GENDER --label gender'\n",
    "gender_eval = ModelEvaluator(script_gender)"
   ]
  },
  {
   "cell_type": "code",
   "execution_count": 24,
   "metadata": {},
   "outputs": [
    {
     "name": "stderr",
     "output_type": "stream",
     "text": [
      "  0%|          | 0/23199 [00:00<?, ?it/s]"
     ]
    },
    {
     "name": "stdout",
     "output_type": "stream",
     "text": [
      "Calculating inference results for ./model/gender/VGGFace_Ep60_Weightv3_GENDER..\n"
     ]
    },
    {
     "name": "stderr",
     "output_type": "stream",
     "text": [
      " 43%|████▎     | 10000/23199 [03:55<05:11, 42.39it/s]\n"
     ]
    },
    {
     "data": {
      "image/png": "[encoded data removed]",
      "text/plain": [
       "<Figure size 432x288 with 2 Axes>"
      ]
     },
     "metadata": {
      "needs_background": "light"
     },
     "output_type": "display_data"
    }
   ],
   "source": [
    "gender_eval.inference()\n",
    "gender_eval.display_cfmatrix()"
   ]
  },
  {
   "cell_type": "code",
   "execution_count": null,
   "metadata": {},
   "outputs": [],
   "source": [
    "gender_eval.display_incorrect(2)"
   ]
  },
  {
   "cell_type": "code",
   "execution_count": null,
   "metadata": {},
   "outputs": [
    {
     "name": "stderr",
     "output_type": "stream",
     "text": [
      "  0%|          | 0/90175 [00:00<?, ?it/s]"
     ]
    },
    {
     "name": "stdout",
     "output_type": "stream",
     "text": [
      "Calculating inference results for ./model/mask/VGGFace_Ep60_patience15_SplitProf_Downsample_CustAugv1_WeightedCEnSamplev0_SGD_MASK..\n"
     ]
    },
    {
     "name": "stderr",
     "output_type": "stream",
     "text": [
      " 11%|█         | 10000/90175 [03:33<28:33, 46.80it/s]\n"
     ]
    }
   ],
   "source": [
    "script_mask = 'python train.py --epochs 60 --dataset MaskSplitByProfileDataset --augmentation CustomAugmentation --model VGGFace --model_param false --optimizer SGD --name VGGFace_Ep60_patience15_SplitProf_Downsample_CustAugv1_WeightedCEnSamplev0_SGD_MASK --label mask'\n",
    "mask_eval = ModelEvaluator(script_mask)"
   ]
  },
  {
   "cell_type": "code",
   "execution_count": null,
   "metadata": {},
   "outputs": [],
   "source": [
    "mask_eval.inference()\n",
    "mask_eval.display_cfmatrix()"
   ]
  },
  {
   "cell_type": "code",
   "execution_count": null,
   "metadata": {},
   "outputs": [],
   "source": [
    "mask_eval.display_incorrect(2)"
   ]
  },
  {
   "cell_type": "markdown",
   "metadata": {},
   "source": [
    "---\n",
    "\n",
    "https://scikit-learn.org/stable/modules/generated/sklearn.metrics.confusion_matrix.html\n",
    "\n"
   ]
  },
  {
   "cell_type": "code",
   "execution_count": null,
   "metadata": {},
   "outputs": [
    {
     "data": {
      "text/plain": [
       "array([[2, 0, 0],\n",
       "       [0, 0, 1],\n",
       "       [1, 0, 2]])"
      ]
     },
     "execution_count": 57,
     "metadata": {},
     "output_type": "execute_result"
    }
   ],
   "source": [
    "from sklearn.linear_model import LogisticRegression\n",
    "from sklearn.metrics import confusion_matrix\n",
    "#Fit the model\n",
    "y_true = [2, 0, 2, 2, 0, 1]\n",
    "y_pred = [0, 0, 2, 2, 0, 2]\n",
    "cf_matrix = confusion_matrix(y_true, y_pred)\n",
    "cf_matrix"
   ]
  },
  {
   "cell_type": "code",
   "execution_count": null,
   "metadata": {},
   "outputs": [
    {
     "data": {
      "text/plain": [
       "<matplotlib.axes._subplots.AxesSubplot at 0x7f26f67ee040>"
      ]
     },
     "execution_count": 58,
     "metadata": {},
     "output_type": "execute_result"
    },
    {
     "data": {
      "image/png": "[encoded data removed]",
      "text/plain": [
       "<Figure size 432x288 with 2 Axes>"
      ]
     },
     "metadata": {
      "needs_background": "light"
     },
     "output_type": "display_data"
    }
   ],
   "source": [
    "import seaborn as sns\n",
    "sns.heatmap(cf_matrix, annot=True)"
   ]
  },
  {
   "cell_type": "code",
   "execution_count": null,
   "metadata": {},
   "outputs": [],
   "source": []
  }
 ],
 "metadata": {
  "interpreter": {
   "hash": "d4d1e4263499bec80672ea0156c357c1ee493ec2b1c70f0acce89fc37c4a6abe"
  },
  "kernelspec": {
   "display_name": "Python 3.8.5 ('base')",
   "language": "python",
   "name": "python3"
  },
  "language_info": {
   "codemirror_mode": {
    "name": "ipython",
    "version": 3
   },
   "file_extension": ".py",
   "mimetype": "text/x-python",
   "name": "python",
   "nbconvert_exporter": "python",
   "pygments_lexer": "ipython3",
   "version": "3.8.5"
  },
  "orig_nbformat": 4
 },
 "nbformat": 4,
 "nbformat_minor": 2
}
