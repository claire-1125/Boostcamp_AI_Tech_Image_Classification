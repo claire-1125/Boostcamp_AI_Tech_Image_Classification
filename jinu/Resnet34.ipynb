{
 "cells": [
  {
   "cell_type": "code",
   "execution_count": 1,
   "id": "095d75aa-34cb-4a0f-844a-9cd97bcbeb89",
   "metadata": {},
   "outputs": [],
   "source": [
    "import os\n",
    "import numpy as np\n",
    "import pandas as pd\n",
    "import matplotlib.pyplot as plt\n",
    "from PIL import Image\n",
    "\n",
    "import torch\n",
    "\n",
    "import torchvision\n",
    "import torch.nn as nn\n",
    "import torch.optim as optim\n",
    "import torch.nn.functional as F\n",
    "from torchvision import transforms, utils\n",
    "from torchvision.transforms import Resize, ToTensor, Normalize\n",
    "from torch.utils.data import Dataset, DataLoader, random_split, SubsetRandomSampler, WeightedRandomSampler"
   ]
  },
  {
   "cell_type": "code",
   "execution_count": 2,
   "id": "909f3ad5-ed9a-4b6f-b821-aed1fad58dc6",
   "metadata": {},
   "outputs": [],
   "source": [
    "train_path = '/opt/ml/input/data/train'\n",
    "train_image_dir_path = os.path.join(train_path, 'images')"
   ]
  },
  {
   "cell_type": "code",
   "execution_count": 3,
   "id": "fbbfbfe8-d0d7-4d85-9aeb-b2526c900fe6",
   "metadata": {},
   "outputs": [],
   "source": [
    "def search(dirname, result):\n",
    "    try:\n",
    "        filenames = os.listdir(dirname)\n",
    "        for filename in filenames:\n",
    "            if filename[0] == \".\":\n",
    "                continue\n",
    "            full_filename = os.path.join(dirname, filename)\n",
    "            if os.path.isdir(full_filename):\n",
    "                search(full_filename, result)\n",
    "            else:\n",
    "                ext = os.path.splitext(full_filename)[-1]\n",
    "                if ext:\n",
    "                    result.append(full_filename)\n",
    "    except PermissionError:\n",
    "        pass"
   ]
  },
  {
   "cell_type": "code",
   "execution_count": 4,
   "id": "3bf2ed36-4543-448f-88d1-8cc67a21e93a",
   "metadata": {},
   "outputs": [],
   "source": [
    "all_path = []\n",
    "search(train_image_dir_path, all_path)"
   ]
  },
  {
   "cell_type": "code",
   "execution_count": 5,
   "id": "394b79d5-354a-4426-a857-af567bfb9e8d",
   "metadata": {},
   "outputs": [
    {
     "data": {
      "text/plain": [
       "18900"
      ]
     },
     "execution_count": 5,
     "metadata": {},
     "output_type": "execute_result"
    }
   ],
   "source": [
    "len(all_path)"
   ]
  },
  {
   "cell_type": "code",
   "execution_count": 6,
   "id": "1dd399e8-065b-46db-9cc2-a394ae1e2ef1",
   "metadata": {},
   "outputs": [
    {
     "data": {
      "text/plain": [
       "['/opt/ml/input/data/train/images/006730_male_Asian_19/incorrect_mask.jpg',\n",
       " '/opt/ml/input/data/train/images/006730_male_Asian_19/mask5.jpg',\n",
       " '/opt/ml/input/data/train/images/006730_male_Asian_19/normal.jpg',\n",
       " '/opt/ml/input/data/train/images/006730_male_Asian_19/mask4.jpg',\n",
       " '/opt/ml/input/data/train/images/006730_male_Asian_19/mask3.jpg',\n",
       " '/opt/ml/input/data/train/images/006730_male_Asian_19/mask2.jpg',\n",
       " '/opt/ml/input/data/train/images/006730_male_Asian_19/mask1.jpg',\n",
       " '/opt/ml/input/data/train/images/006959_male_Asian_19/incorrect_mask.jpg',\n",
       " '/opt/ml/input/data/train/images/006959_male_Asian_19/mask5.jpg',\n",
       " '/opt/ml/input/data/train/images/006959_male_Asian_19/normal.jpg']"
      ]
     },
     "execution_count": 6,
     "metadata": {},
     "output_type": "execute_result"
    }
   ],
   "source": [
    "all_path[:10]"
   ]
  },
  {
   "cell_type": "code",
   "execution_count": 7,
   "id": "5110f0a8-56df-496a-b1b6-a7d9fb1b6d17",
   "metadata": {},
   "outputs": [
    {
     "name": "stdout",
     "output_type": "stream",
     "text": [
      "['.jpg', '.jpeg', '.png']\n"
     ]
    }
   ],
   "source": [
    "exts = []\n",
    "for i in all_path:\n",
    "    ext = os.path.splitext(i)[-1]\n",
    "    if ext not in exts:\n",
    "        exts.append(ext)\n",
    "print(exts)"
   ]
  },
  {
   "cell_type": "code",
   "execution_count": 8,
   "id": "d6e1587a-b353-4d17-8eb8-d5d5d3099bf0",
   "metadata": {},
   "outputs": [],
   "source": [
    "all_path = sorted(all_path)"
   ]
  },
  {
   "cell_type": "code",
   "execution_count": 9,
   "id": "78fc9cfb-f6a2-4bef-95d8-77bacdbcc0cb",
   "metadata": {},
   "outputs": [],
   "source": [
    "def labeling(name):\n",
    "    label = 0\n",
    "    info, mask_type = name.split('/')[-2:]\n",
    "    info = info.split('_')\n",
    "    gender, age = info[1], int(info[3])\n",
    "    if 'incorrect' in mask_type:\n",
    "        label += 6\n",
    "    elif 'normal' in mask_type:\n",
    "        label += 3\n",
    "    \n",
    "    if gender == 'female':\n",
    "        label += 3\n",
    "    if 30 <= age and age < 60:\n",
    "        label += 1\n",
    "    elif age >= 60:\n",
    "        label +=2\n",
    "    return label"
   ]
  },
  {
   "cell_type": "code",
   "execution_count": 10,
   "id": "e915230b-e375-40bc-a2b9-9ee23f02a9e7",
   "metadata": {},
   "outputs": [
    {
     "data": {
      "text/html": [
       "<div>\n",
       "<style scoped>\n",
       "    .dataframe tbody tr th:only-of-type {\n",
       "        vertical-align: middle;\n",
       "    }\n",
       "\n",
       "    .dataframe tbody tr th {\n",
       "        vertical-align: top;\n",
       "    }\n",
       "\n",
       "    .dataframe thead th {\n",
       "        text-align: right;\n",
       "    }\n",
       "</style>\n",
       "<table border=\"1\" class=\"dataframe\">\n",
       "  <thead>\n",
       "    <tr style=\"text-align: right;\">\n",
       "      <th></th>\n",
       "      <th>path</th>\n",
       "      <th>label</th>\n",
       "    </tr>\n",
       "  </thead>\n",
       "  <tbody>\n",
       "    <tr>\n",
       "      <th>0</th>\n",
       "      <td>/opt/ml/input/data/train/images/000001_female_...</td>\n",
       "      <td>10</td>\n",
       "    </tr>\n",
       "    <tr>\n",
       "      <th>1</th>\n",
       "      <td>/opt/ml/input/data/train/images/000001_female_...</td>\n",
       "      <td>4</td>\n",
       "    </tr>\n",
       "    <tr>\n",
       "      <th>2</th>\n",
       "      <td>/opt/ml/input/data/train/images/000001_female_...</td>\n",
       "      <td>4</td>\n",
       "    </tr>\n",
       "    <tr>\n",
       "      <th>3</th>\n",
       "      <td>/opt/ml/input/data/train/images/000001_female_...</td>\n",
       "      <td>4</td>\n",
       "    </tr>\n",
       "    <tr>\n",
       "      <th>4</th>\n",
       "      <td>/opt/ml/input/data/train/images/000001_female_...</td>\n",
       "      <td>4</td>\n",
       "    </tr>\n",
       "    <tr>\n",
       "      <th>...</th>\n",
       "      <td>...</td>\n",
       "      <td>...</td>\n",
       "    </tr>\n",
       "    <tr>\n",
       "      <th>18895</th>\n",
       "      <td>/opt/ml/input/data/train/images/006959_male_As...</td>\n",
       "      <td>0</td>\n",
       "    </tr>\n",
       "    <tr>\n",
       "      <th>18896</th>\n",
       "      <td>/opt/ml/input/data/train/images/006959_male_As...</td>\n",
       "      <td>0</td>\n",
       "    </tr>\n",
       "    <tr>\n",
       "      <th>18897</th>\n",
       "      <td>/opt/ml/input/data/train/images/006959_male_As...</td>\n",
       "      <td>0</td>\n",
       "    </tr>\n",
       "    <tr>\n",
       "      <th>18898</th>\n",
       "      <td>/opt/ml/input/data/train/images/006959_male_As...</td>\n",
       "      <td>0</td>\n",
       "    </tr>\n",
       "    <tr>\n",
       "      <th>18899</th>\n",
       "      <td>/opt/ml/input/data/train/images/006959_male_As...</td>\n",
       "      <td>3</td>\n",
       "    </tr>\n",
       "  </tbody>\n",
       "</table>\n",
       "<p>18900 rows × 2 columns</p>\n",
       "</div>"
      ],
      "text/plain": [
       "                                                    path  label\n",
       "0      /opt/ml/input/data/train/images/000001_female_...     10\n",
       "1      /opt/ml/input/data/train/images/000001_female_...      4\n",
       "2      /opt/ml/input/data/train/images/000001_female_...      4\n",
       "3      /opt/ml/input/data/train/images/000001_female_...      4\n",
       "4      /opt/ml/input/data/train/images/000001_female_...      4\n",
       "...                                                  ...    ...\n",
       "18895  /opt/ml/input/data/train/images/006959_male_As...      0\n",
       "18896  /opt/ml/input/data/train/images/006959_male_As...      0\n",
       "18897  /opt/ml/input/data/train/images/006959_male_As...      0\n",
       "18898  /opt/ml/input/data/train/images/006959_male_As...      0\n",
       "18899  /opt/ml/input/data/train/images/006959_male_As...      3\n",
       "\n",
       "[18900 rows x 2 columns]"
      ]
     },
     "execution_count": 10,
     "metadata": {},
     "output_type": "execute_result"
    }
   ],
   "source": [
    "train_path_label = pd.DataFrame(all_path, columns = ['path'])\n",
    "train_path_label['label'] = train_path_label['path'].map(lambda x : labeling(x))\n",
    "train_path_label"
   ]
  },
  {
   "cell_type": "code",
   "execution_count": 11,
   "id": "c0fcb6be-2f74-4676-bb0d-07ba5bfe2170",
   "metadata": {},
   "outputs": [],
   "source": [
    "class CustomDataset(Dataset):\n",
    "    def __init__(self, img_paths_label, transform):\n",
    "        self.x = img_paths_label['path']\n",
    "        self.y = img_paths_label['label']\n",
    "        self.transform = transform\n",
    "    def __getitem__(self, index):\n",
    "        image = Image.open(self.x.iloc[index])\n",
    "        label = self.y.iloc[index]\n",
    "        \n",
    "        if self.transform:\n",
    "            image = self.transform(image)\n",
    "        return image, torch.tensor(label)\n",
    "    \n",
    "    def __len__(self):\n",
    "        return len(self.x)"
   ]
  },
  {
   "cell_type": "code",
   "execution_count": 12,
   "id": "9f201717-3ff4-438f-924e-d7b37baaf8d4",
   "metadata": {},
   "outputs": [],
   "source": [
    "transform = transforms.Compose([\n",
    "    Resize((512,384), Image.BILINEAR),\n",
    "    ToTensor(),\n",
    "    Normalize(mean = (0.5,0.5,0.5), std = (0.2,0.2,0.2)),])"
   ]
  },
  {
   "cell_type": "code",
   "execution_count": 13,
   "id": "a20c2f68-4fc0-408a-b4ea-1b6798d755cc",
   "metadata": {},
   "outputs": [],
   "source": [
    "from sklearn.model_selection import train_test_split\n",
    "train, valid = train_test_split(train_path_label, \n",
    "                                test_size = 0.1,\n",
    "                                shuffle = True,\n",
    "                                stratify = train_path_label['label'],\n",
    "                                random_state = 34)"
   ]
  },
  {
   "cell_type": "code",
   "execution_count": 14,
   "id": "a9182d4f-a4de-4935-b14b-16f9ec2f9c75",
   "metadata": {},
   "outputs": [
    {
     "data": {
      "text/plain": [
       "((17010, 2), (1890, 2))"
      ]
     },
     "execution_count": 14,
     "metadata": {},
     "output_type": "execute_result"
    }
   ],
   "source": [
    "train.shape, valid.shape"
   ]
  },
  {
   "cell_type": "code",
   "execution_count": 15,
   "id": "7972d742-218f-495e-a58a-81b29ea22de4",
   "metadata": {},
   "outputs": [],
   "source": [
    "BATCH_SIZE = 64"
   ]
  },
  {
   "cell_type": "code",
   "execution_count": 16,
   "id": "9c43fa50-5225-467c-bb8e-435ec9c09536",
   "metadata": {},
   "outputs": [],
   "source": [
    "train_dataset = CustomDataset(train, transform)\n",
    "train_dataloader = DataLoader(train_dataset,\n",
    "                              batch_size = BATCH_SIZE,\n",
    "                              shuffle = True)"
   ]
  },
  {
   "cell_type": "code",
   "execution_count": 17,
   "id": "0205bcf7-225a-45cb-a895-999116176036",
   "metadata": {},
   "outputs": [],
   "source": [
    "valid_dataset = CustomDataset(valid, transform)\n",
    "valid_dataloader = DataLoader(valid_dataset,\n",
    "                              batch_size = BATCH_SIZE,\n",
    "                              shuffle = True)"
   ]
  },
  {
   "cell_type": "code",
   "execution_count": 18,
   "id": "d0cce913-2624-4cfa-9122-ad0cd4412d36",
   "metadata": {},
   "outputs": [
    {
     "data": {
      "text/plain": [
       "torch.Size([64, 3, 512, 384])"
      ]
     },
     "execution_count": 18,
     "metadata": {},
     "output_type": "execute_result"
    }
   ],
   "source": [
    "next(iter(train_dataloader))[0].shape"
   ]
  },
  {
   "cell_type": "code",
   "execution_count": 19,
   "id": "16b023f0-8d28-4f40-805f-9c66ca7a349e",
   "metadata": {},
   "outputs": [
    {
     "name": "stderr",
     "output_type": "stream",
     "text": [
      "Downloading: \"https://download.pytorch.org/models/resnet34-333f7ec4.pth\" to /opt/ml/.cache/torch/hub/checkpoints/resnet34-333f7ec4.pth\n"
     ]
    },
    {
     "data": {
      "application/vnd.jupyter.widget-view+json": {
       "model_id": "a05358ec817b479fb63a34d370228f02",
       "version_major": 2,
       "version_minor": 0
      },
      "text/plain": [
       "HBox(children=(HTML(value=''), FloatProgress(value=0.0, max=87306240.0), HTML(value='')))"
      ]
     },
     "metadata": {},
     "output_type": "display_data"
    },
    {
     "name": "stdout",
     "output_type": "stream",
     "text": [
      "\n"
     ]
    }
   ],
   "source": [
    "resnet34 = torchvision.models.resnet34(pretrained=True)"
   ]
  },
  {
   "cell_type": "code",
   "execution_count": 20,
   "id": "faef7f83-c76a-4db0-82e0-86375498582d",
   "metadata": {},
   "outputs": [
    {
     "data": {
      "text/plain": [
       "18"
      ]
     },
     "execution_count": 20,
     "metadata": {},
     "output_type": "execute_result"
    }
   ],
   "source": [
    "import math\n",
    "OUTPUT_CLASS_NUM = 18\n",
    "resnet34.fc = torch.nn.Linear(in_features = 512, out_features = OUTPUT_CLASS_NUM, bias = True)\n",
    "torch.nn.init.xavier_uniform_(resnet34.fc.weight)\n",
    "stdv = 1. / math.sqrt(resnet34.fc.weight.size(1))\n",
    "resnet34.fc.bias.data.uniform_(-stdv, stdv)\n",
    "\n",
    "resnet34.fc.weight.shape[0]"
   ]
  },
  {
   "cell_type": "code",
   "execution_count": 21,
   "id": "3f92608c-b6b4-4dbf-a4e1-2edd451f8f47",
   "metadata": {},
   "outputs": [
    {
     "data": {
      "text/plain": [
       "device(type='cuda', index=0)"
      ]
     },
     "execution_count": 21,
     "metadata": {},
     "output_type": "execute_result"
    }
   ],
   "source": [
    "device = torch.device(\"cuda:0\" if torch.cuda.is_available() else \"cpu\")\n",
    "device"
   ]
  },
  {
   "cell_type": "code",
   "execution_count": 22,
   "id": "019b3c01-8336-4f57-8990-6b3768c12654",
   "metadata": {
    "collapsed": true,
    "jupyter": {
     "outputs_hidden": true
    },
    "tags": []
   },
   "outputs": [
    {
     "data": {
      "text/plain": [
       "ResNet(\n",
       "  (conv1): Conv2d(3, 64, kernel_size=(7, 7), stride=(2, 2), padding=(3, 3), bias=False)\n",
       "  (bn1): BatchNorm2d(64, eps=1e-05, momentum=0.1, affine=True, track_running_stats=True)\n",
       "  (relu): ReLU(inplace=True)\n",
       "  (maxpool): MaxPool2d(kernel_size=3, stride=2, padding=1, dilation=1, ceil_mode=False)\n",
       "  (layer1): Sequential(\n",
       "    (0): BasicBlock(\n",
       "      (conv1): Conv2d(64, 64, kernel_size=(3, 3), stride=(1, 1), padding=(1, 1), bias=False)\n",
       "      (bn1): BatchNorm2d(64, eps=1e-05, momentum=0.1, affine=True, track_running_stats=True)\n",
       "      (relu): ReLU(inplace=True)\n",
       "      (conv2): Conv2d(64, 64, kernel_size=(3, 3), stride=(1, 1), padding=(1, 1), bias=False)\n",
       "      (bn2): BatchNorm2d(64, eps=1e-05, momentum=0.1, affine=True, track_running_stats=True)\n",
       "    )\n",
       "    (1): BasicBlock(\n",
       "      (conv1): Conv2d(64, 64, kernel_size=(3, 3), stride=(1, 1), padding=(1, 1), bias=False)\n",
       "      (bn1): BatchNorm2d(64, eps=1e-05, momentum=0.1, affine=True, track_running_stats=True)\n",
       "      (relu): ReLU(inplace=True)\n",
       "      (conv2): Conv2d(64, 64, kernel_size=(3, 3), stride=(1, 1), padding=(1, 1), bias=False)\n",
       "      (bn2): BatchNorm2d(64, eps=1e-05, momentum=0.1, affine=True, track_running_stats=True)\n",
       "    )\n",
       "    (2): BasicBlock(\n",
       "      (conv1): Conv2d(64, 64, kernel_size=(3, 3), stride=(1, 1), padding=(1, 1), bias=False)\n",
       "      (bn1): BatchNorm2d(64, eps=1e-05, momentum=0.1, affine=True, track_running_stats=True)\n",
       "      (relu): ReLU(inplace=True)\n",
       "      (conv2): Conv2d(64, 64, kernel_size=(3, 3), stride=(1, 1), padding=(1, 1), bias=False)\n",
       "      (bn2): BatchNorm2d(64, eps=1e-05, momentum=0.1, affine=True, track_running_stats=True)\n",
       "    )\n",
       "  )\n",
       "  (layer2): Sequential(\n",
       "    (0): BasicBlock(\n",
       "      (conv1): Conv2d(64, 128, kernel_size=(3, 3), stride=(2, 2), padding=(1, 1), bias=False)\n",
       "      (bn1): BatchNorm2d(128, eps=1e-05, momentum=0.1, affine=True, track_running_stats=True)\n",
       "      (relu): ReLU(inplace=True)\n",
       "      (conv2): Conv2d(128, 128, kernel_size=(3, 3), stride=(1, 1), padding=(1, 1), bias=False)\n",
       "      (bn2): BatchNorm2d(128, eps=1e-05, momentum=0.1, affine=True, track_running_stats=True)\n",
       "      (downsample): Sequential(\n",
       "        (0): Conv2d(64, 128, kernel_size=(1, 1), stride=(2, 2), bias=False)\n",
       "        (1): BatchNorm2d(128, eps=1e-05, momentum=0.1, affine=True, track_running_stats=True)\n",
       "      )\n",
       "    )\n",
       "    (1): BasicBlock(\n",
       "      (conv1): Conv2d(128, 128, kernel_size=(3, 3), stride=(1, 1), padding=(1, 1), bias=False)\n",
       "      (bn1): BatchNorm2d(128, eps=1e-05, momentum=0.1, affine=True, track_running_stats=True)\n",
       "      (relu): ReLU(inplace=True)\n",
       "      (conv2): Conv2d(128, 128, kernel_size=(3, 3), stride=(1, 1), padding=(1, 1), bias=False)\n",
       "      (bn2): BatchNorm2d(128, eps=1e-05, momentum=0.1, affine=True, track_running_stats=True)\n",
       "    )\n",
       "    (2): BasicBlock(\n",
       "      (conv1): Conv2d(128, 128, kernel_size=(3, 3), stride=(1, 1), padding=(1, 1), bias=False)\n",
       "      (bn1): BatchNorm2d(128, eps=1e-05, momentum=0.1, affine=True, track_running_stats=True)\n",
       "      (relu): ReLU(inplace=True)\n",
       "      (conv2): Conv2d(128, 128, kernel_size=(3, 3), stride=(1, 1), padding=(1, 1), bias=False)\n",
       "      (bn2): BatchNorm2d(128, eps=1e-05, momentum=0.1, affine=True, track_running_stats=True)\n",
       "    )\n",
       "    (3): BasicBlock(\n",
       "      (conv1): Conv2d(128, 128, kernel_size=(3, 3), stride=(1, 1), padding=(1, 1), bias=False)\n",
       "      (bn1): BatchNorm2d(128, eps=1e-05, momentum=0.1, affine=True, track_running_stats=True)\n",
       "      (relu): ReLU(inplace=True)\n",
       "      (conv2): Conv2d(128, 128, kernel_size=(3, 3), stride=(1, 1), padding=(1, 1), bias=False)\n",
       "      (bn2): BatchNorm2d(128, eps=1e-05, momentum=0.1, affine=True, track_running_stats=True)\n",
       "    )\n",
       "  )\n",
       "  (layer3): Sequential(\n",
       "    (0): BasicBlock(\n",
       "      (conv1): Conv2d(128, 256, kernel_size=(3, 3), stride=(2, 2), padding=(1, 1), bias=False)\n",
       "      (bn1): BatchNorm2d(256, eps=1e-05, momentum=0.1, affine=True, track_running_stats=True)\n",
       "      (relu): ReLU(inplace=True)\n",
       "      (conv2): Conv2d(256, 256, kernel_size=(3, 3), stride=(1, 1), padding=(1, 1), bias=False)\n",
       "      (bn2): BatchNorm2d(256, eps=1e-05, momentum=0.1, affine=True, track_running_stats=True)\n",
       "      (downsample): Sequential(\n",
       "        (0): Conv2d(128, 256, kernel_size=(1, 1), stride=(2, 2), bias=False)\n",
       "        (1): BatchNorm2d(256, eps=1e-05, momentum=0.1, affine=True, track_running_stats=True)\n",
       "      )\n",
       "    )\n",
       "    (1): BasicBlock(\n",
       "      (conv1): Conv2d(256, 256, kernel_size=(3, 3), stride=(1, 1), padding=(1, 1), bias=False)\n",
       "      (bn1): BatchNorm2d(256, eps=1e-05, momentum=0.1, affine=True, track_running_stats=True)\n",
       "      (relu): ReLU(inplace=True)\n",
       "      (conv2): Conv2d(256, 256, kernel_size=(3, 3), stride=(1, 1), padding=(1, 1), bias=False)\n",
       "      (bn2): BatchNorm2d(256, eps=1e-05, momentum=0.1, affine=True, track_running_stats=True)\n",
       "    )\n",
       "    (2): BasicBlock(\n",
       "      (conv1): Conv2d(256, 256, kernel_size=(3, 3), stride=(1, 1), padding=(1, 1), bias=False)\n",
       "      (bn1): BatchNorm2d(256, eps=1e-05, momentum=0.1, affine=True, track_running_stats=True)\n",
       "      (relu): ReLU(inplace=True)\n",
       "      (conv2): Conv2d(256, 256, kernel_size=(3, 3), stride=(1, 1), padding=(1, 1), bias=False)\n",
       "      (bn2): BatchNorm2d(256, eps=1e-05, momentum=0.1, affine=True, track_running_stats=True)\n",
       "    )\n",
       "    (3): BasicBlock(\n",
       "      (conv1): Conv2d(256, 256, kernel_size=(3, 3), stride=(1, 1), padding=(1, 1), bias=False)\n",
       "      (bn1): BatchNorm2d(256, eps=1e-05, momentum=0.1, affine=True, track_running_stats=True)\n",
       "      (relu): ReLU(inplace=True)\n",
       "      (conv2): Conv2d(256, 256, kernel_size=(3, 3), stride=(1, 1), padding=(1, 1), bias=False)\n",
       "      (bn2): BatchNorm2d(256, eps=1e-05, momentum=0.1, affine=True, track_running_stats=True)\n",
       "    )\n",
       "    (4): BasicBlock(\n",
       "      (conv1): Conv2d(256, 256, kernel_size=(3, 3), stride=(1, 1), padding=(1, 1), bias=False)\n",
       "      (bn1): BatchNorm2d(256, eps=1e-05, momentum=0.1, affine=True, track_running_stats=True)\n",
       "      (relu): ReLU(inplace=True)\n",
       "      (conv2): Conv2d(256, 256, kernel_size=(3, 3), stride=(1, 1), padding=(1, 1), bias=False)\n",
       "      (bn2): BatchNorm2d(256, eps=1e-05, momentum=0.1, affine=True, track_running_stats=True)\n",
       "    )\n",
       "    (5): BasicBlock(\n",
       "      (conv1): Conv2d(256, 256, kernel_size=(3, 3), stride=(1, 1), padding=(1, 1), bias=False)\n",
       "      (bn1): BatchNorm2d(256, eps=1e-05, momentum=0.1, affine=True, track_running_stats=True)\n",
       "      (relu): ReLU(inplace=True)\n",
       "      (conv2): Conv2d(256, 256, kernel_size=(3, 3), stride=(1, 1), padding=(1, 1), bias=False)\n",
       "      (bn2): BatchNorm2d(256, eps=1e-05, momentum=0.1, affine=True, track_running_stats=True)\n",
       "    )\n",
       "  )\n",
       "  (layer4): Sequential(\n",
       "    (0): BasicBlock(\n",
       "      (conv1): Conv2d(256, 512, kernel_size=(3, 3), stride=(2, 2), padding=(1, 1), bias=False)\n",
       "      (bn1): BatchNorm2d(512, eps=1e-05, momentum=0.1, affine=True, track_running_stats=True)\n",
       "      (relu): ReLU(inplace=True)\n",
       "      (conv2): Conv2d(512, 512, kernel_size=(3, 3), stride=(1, 1), padding=(1, 1), bias=False)\n",
       "      (bn2): BatchNorm2d(512, eps=1e-05, momentum=0.1, affine=True, track_running_stats=True)\n",
       "      (downsample): Sequential(\n",
       "        (0): Conv2d(256, 512, kernel_size=(1, 1), stride=(2, 2), bias=False)\n",
       "        (1): BatchNorm2d(512, eps=1e-05, momentum=0.1, affine=True, track_running_stats=True)\n",
       "      )\n",
       "    )\n",
       "    (1): BasicBlock(\n",
       "      (conv1): Conv2d(512, 512, kernel_size=(3, 3), stride=(1, 1), padding=(1, 1), bias=False)\n",
       "      (bn1): BatchNorm2d(512, eps=1e-05, momentum=0.1, affine=True, track_running_stats=True)\n",
       "      (relu): ReLU(inplace=True)\n",
       "      (conv2): Conv2d(512, 512, kernel_size=(3, 3), stride=(1, 1), padding=(1, 1), bias=False)\n",
       "      (bn2): BatchNorm2d(512, eps=1e-05, momentum=0.1, affine=True, track_running_stats=True)\n",
       "    )\n",
       "    (2): BasicBlock(\n",
       "      (conv1): Conv2d(512, 512, kernel_size=(3, 3), stride=(1, 1), padding=(1, 1), bias=False)\n",
       "      (bn1): BatchNorm2d(512, eps=1e-05, momentum=0.1, affine=True, track_running_stats=True)\n",
       "      (relu): ReLU(inplace=True)\n",
       "      (conv2): Conv2d(512, 512, kernel_size=(3, 3), stride=(1, 1), padding=(1, 1), bias=False)\n",
       "      (bn2): BatchNorm2d(512, eps=1e-05, momentum=0.1, affine=True, track_running_stats=True)\n",
       "    )\n",
       "  )\n",
       "  (avgpool): AdaptiveAvgPool2d(output_size=(1, 1))\n",
       "  (fc): Linear(in_features=512, out_features=18, bias=True)\n",
       ")"
      ]
     },
     "execution_count": 22,
     "metadata": {},
     "output_type": "execute_result"
    }
   ],
   "source": [
    "resnet34.to(device)"
   ]
  },
  {
   "cell_type": "code",
   "execution_count": 23,
   "id": "043fdf93-0051-4b03-8863-ff3c749a1847",
   "metadata": {},
   "outputs": [],
   "source": [
    "LEARNING_RATE = 0.0001\n",
    "NUM_EPOCH = 20\n",
    "loss_fn = torch.nn.CrossEntropyLoss()\n",
    "optimizer = torch.optim.Adam(resnet34.parameters(), lr = LEARNING_RATE)\n",
    "\n",
    "dataloaders = {\n",
    "    \"train\" : train_dataloader,\n",
    "    \"test\" : valid_dataloader}"
   ]
  },
  {
   "cell_type": "code",
   "execution_count": 24,
   "id": "8bb4a87a-a5b4-40ed-81e2-f4de97fb8393",
   "metadata": {},
   "outputs": [
    {
     "name": "stdout",
     "output_type": "stream",
     "text": [
      "현재 epoch-0의 train-데이터 셋에서 평균 Loss : 0.393, 평균 Accuracy : 0.879\n",
      "현재 epoch-0의 test-데이터 셋에서 평균 Loss : 0.153, 평균 Accuracy : 0.949\n",
      "현재 epoch-1의 train-데이터 셋에서 평균 Loss : 0.061, 평균 Accuracy : 0.981\n",
      "현재 epoch-1의 test-데이터 셋에서 평균 Loss : 0.159, 평균 Accuracy : 0.946\n",
      "현재 epoch-2의 train-데이터 셋에서 평균 Loss : 0.031, 평균 Accuracy : 0.991\n",
      "현재 epoch-2의 test-데이터 셋에서 평균 Loss : 0.060, 평균 Accuracy : 0.980\n",
      "현재 epoch-3의 train-데이터 셋에서 평균 Loss : 0.018, 평균 Accuracy : 0.995\n",
      "현재 epoch-3의 test-데이터 셋에서 평균 Loss : 0.040, 평균 Accuracy : 0.990\n",
      "현재 epoch-4의 train-데이터 셋에서 평균 Loss : 0.018, 평균 Accuracy : 0.995\n",
      "현재 epoch-4의 test-데이터 셋에서 평균 Loss : 0.094, 평균 Accuracy : 0.971\n",
      "현재 epoch-5의 train-데이터 셋에서 평균 Loss : 0.017, 평균 Accuracy : 0.995\n",
      "현재 epoch-5의 test-데이터 셋에서 평균 Loss : 0.102, 평균 Accuracy : 0.972\n",
      "현재 epoch-6의 train-데이터 셋에서 평균 Loss : 0.026, 평균 Accuracy : 0.992\n",
      "현재 epoch-6의 test-데이터 셋에서 평균 Loss : 0.086, 평균 Accuracy : 0.979\n",
      "현재 epoch-7의 train-데이터 셋에서 평균 Loss : 0.016, 평균 Accuracy : 0.995\n",
      "현재 epoch-7의 test-데이터 셋에서 평균 Loss : 0.076, 평균 Accuracy : 0.978\n",
      "현재 epoch-8의 train-데이터 셋에서 평균 Loss : 0.015, 평균 Accuracy : 0.996\n",
      "현재 epoch-8의 test-데이터 셋에서 평균 Loss : 0.270, 평균 Accuracy : 0.930\n",
      "현재 epoch-9의 train-데이터 셋에서 평균 Loss : 0.015, 평균 Accuracy : 0.996\n",
      "현재 epoch-9의 test-데이터 셋에서 평균 Loss : 0.054, 평균 Accuracy : 0.984\n",
      "현재 epoch-10의 train-데이터 셋에서 평균 Loss : 0.013, 평균 Accuracy : 0.996\n",
      "현재 epoch-10의 test-데이터 셋에서 평균 Loss : 0.031, 평균 Accuracy : 0.990\n",
      "현재 epoch-11의 train-데이터 셋에서 평균 Loss : 0.009, 평균 Accuracy : 0.998\n",
      "현재 epoch-11의 test-데이터 셋에서 평균 Loss : 0.039, 평균 Accuracy : 0.989\n",
      "현재 epoch-12의 train-데이터 셋에서 평균 Loss : 0.005, 평균 Accuracy : 0.999\n",
      "현재 epoch-12의 test-데이터 셋에서 평균 Loss : 0.022, 평균 Accuracy : 0.995\n",
      "현재 epoch-13의 train-데이터 셋에서 평균 Loss : 0.010, 평균 Accuracy : 0.997\n",
      "현재 epoch-13의 test-데이터 셋에서 평균 Loss : 0.114, 평균 Accuracy : 0.961\n",
      "현재 epoch-14의 train-데이터 셋에서 평균 Loss : 0.030, 평균 Accuracy : 0.990\n",
      "현재 epoch-14의 test-데이터 셋에서 평균 Loss : 0.064, 평균 Accuracy : 0.979\n",
      "현재 epoch-15의 train-데이터 셋에서 평균 Loss : 0.012, 평균 Accuracy : 0.997\n",
      "현재 epoch-15의 test-데이터 셋에서 평균 Loss : 0.013, 평균 Accuracy : 0.997\n",
      "현재 epoch-16의 train-데이터 셋에서 평균 Loss : 0.003, 평균 Accuracy : 0.999\n",
      "현재 epoch-16의 test-데이터 셋에서 평균 Loss : 0.014, 평균 Accuracy : 0.996\n",
      "현재 epoch-17의 train-데이터 셋에서 평균 Loss : 0.001, 평균 Accuracy : 1.000\n",
      "현재 epoch-17의 test-데이터 셋에서 평균 Loss : 0.011, 평균 Accuracy : 0.997\n",
      "현재 epoch-18의 train-데이터 셋에서 평균 Loss : 0.000, 평균 Accuracy : 1.000\n",
      "현재 epoch-18의 test-데이터 셋에서 평균 Loss : 0.006, 평균 Accuracy : 0.997\n",
      "현재 epoch-19의 train-데이터 셋에서 평균 Loss : 0.000, 평균 Accuracy : 1.000\n",
      "현재 epoch-19의 test-데이터 셋에서 평균 Loss : 0.007, 평균 Accuracy : 0.998\n",
      "학습 종료!\n",
      "최고 accuracy : 0.9978836178779602, 최고 낮은 loss : 0.006138972685712072\n"
     ]
    }
   ],
   "source": [
    "best_test_accuracy = 0.\n",
    "best_test_loss = 9999.\n",
    "\n",
    "for epoch in range(NUM_EPOCH):\n",
    "    for phase in [\"train\", \"test\"]:\n",
    "        running_loss = 0\n",
    "        running_acc = 0\n",
    "        if phase == \"train\":\n",
    "            resnet34.train()\n",
    "        elif phase == \"test\":\n",
    "            resnet34.eval()\n",
    "        for ind, (images, labels) in enumerate(dataloaders[phase]):\n",
    "            images = images.to(device)\n",
    "            labels = labels.to(device)\n",
    "            \n",
    "            optimizer.zero_grad()\n",
    "            \n",
    "            with torch.set_grad_enabled(phase == \"train\"):\n",
    "                logits = resnet34(images)\n",
    "                _, preds = torch.max(logits, 1)\n",
    "                loss = loss_fn(logits, labels)\n",
    "                \n",
    "                if phase == \"train\":\n",
    "                    loss.backward()\n",
    "                    optimizer.step()\n",
    "            running_loss += loss.item() * images.size(0)\n",
    "            running_acc += torch.sum(preds == labels.data)\n",
    "        epoch_loss = running_loss / len(dataloaders[phase].dataset)\n",
    "        epoch_acc = running_acc / len(dataloaders[phase].dataset)\n",
    "        \n",
    "        print(f\"현재 epoch-{epoch}의 {phase}-데이터 셋에서 평균 Loss : {epoch_loss:.3f}, 평균 Accuracy : {epoch_acc:.3f}\")\n",
    "        if phase == \"test\" and best_test_accuracy < epoch_acc:\n",
    "            best_test_accuracy = epoch_acc\n",
    "        if phase == \"test\" and best_test_loss > epoch_loss:\n",
    "            best_test_loss = epoch_loss\n",
    "print(\"학습 종료!\")\n",
    "print(f\"최고 accuracy : {best_test_accuracy}, 최고 낮은 loss : {best_test_loss}\")"
   ]
  },
  {
   "cell_type": "code",
   "execution_count": 25,
   "id": "66c94d31-f09b-4d1c-a961-8aec0bceb59c",
   "metadata": {},
   "outputs": [],
   "source": [
    "def func_eval(model, data_iter, device):\n",
    "    with torch.no_grad():\n",
    "        n_total, n_correct = 0,0\n",
    "        model.eval()\n",
    "        for batch_in, batch_out in data_iter:\n",
    "            y_trgt = batch_out.to(device)\n",
    "            model_pred = model.forward(batch_in.to(device))\n",
    "            _, y_pred = torch.max(model_pred, 1)\n",
    "            n_correct += (y_pred == y_trgt).sum().item()\n",
    "            n_total += batch_in.size(0)\n",
    "        val_accr = (n_correct/n_total)\n",
    "    return val_accr"
   ]
  },
  {
   "cell_type": "code",
   "execution_count": 26,
   "id": "17d7818b-ee28-420b-b7bc-549682c5fa95",
   "metadata": {},
   "outputs": [
    {
     "data": {
      "text/plain": [
       "0.9978835978835979"
      ]
     },
     "execution_count": 26,
     "metadata": {},
     "output_type": "execute_result"
    }
   ],
   "source": [
    "func_eval(resnet34, valid_dataloader, device)"
   ]
  },
  {
   "cell_type": "code",
   "execution_count": 27,
   "id": "964cce11-8822-4140-b5e1-952ff0a49ae8",
   "metadata": {},
   "outputs": [],
   "source": [
    "def check_eval(raw_data, dataloader, model, device):\n",
    "    result = []\n",
    "    with torch.no_grad():\n",
    "        model.eval()\n",
    "        for i, (X,y) in enumerate(dataloader):\n",
    "            model_pred = model.forward(X.to(device))\n",
    "            _, y_pred = torch.max(model_pred,1)\n",
    "            \n",
    "            result.append([valid.iloc[i]['path'], y_pred.cpu().numpy()[0], y.cpu().numpy()[0]])\n",
    "    result = pd.DataFrame(result, columns = ['path','pred','target'])\n",
    "    return result"
   ]
  },
  {
   "cell_type": "code",
   "execution_count": 28,
   "id": "2325610b-e70c-4860-a0d7-6955b6f40bec",
   "metadata": {},
   "outputs": [
    {
     "data": {
      "text/html": [
       "<div>\n",
       "<style scoped>\n",
       "    .dataframe tbody tr th:only-of-type {\n",
       "        vertical-align: middle;\n",
       "    }\n",
       "\n",
       "    .dataframe tbody tr th {\n",
       "        vertical-align: top;\n",
       "    }\n",
       "\n",
       "    .dataframe thead th {\n",
       "        text-align: right;\n",
       "    }\n",
       "</style>\n",
       "<table border=\"1\" class=\"dataframe\">\n",
       "  <thead>\n",
       "    <tr style=\"text-align: right;\">\n",
       "      <th></th>\n",
       "      <th>path</th>\n",
       "      <th>pred</th>\n",
       "      <th>target</th>\n",
       "    </tr>\n",
       "  </thead>\n",
       "  <tbody>\n",
       "    <tr>\n",
       "      <th>0</th>\n",
       "      <td>/opt/ml/input/data/train/images/006952_male_As...</td>\n",
       "      <td>0</td>\n",
       "      <td>0</td>\n",
       "    </tr>\n",
       "    <tr>\n",
       "      <th>1</th>\n",
       "      <td>/opt/ml/input/data/train/images/003235_female_...</td>\n",
       "      <td>6</td>\n",
       "      <td>6</td>\n",
       "    </tr>\n",
       "    <tr>\n",
       "      <th>2</th>\n",
       "      <td>/opt/ml/input/data/train/images/005052_male_As...</td>\n",
       "      <td>7</td>\n",
       "      <td>7</td>\n",
       "    </tr>\n",
       "    <tr>\n",
       "      <th>3</th>\n",
       "      <td>/opt/ml/input/data/train/images/000023_female_...</td>\n",
       "      <td>4</td>\n",
       "      <td>4</td>\n",
       "    </tr>\n",
       "    <tr>\n",
       "      <th>4</th>\n",
       "      <td>/opt/ml/input/data/train/images/003074_female_...</td>\n",
       "      <td>3</td>\n",
       "      <td>3</td>\n",
       "    </tr>\n",
       "    <tr>\n",
       "      <th>...</th>\n",
       "      <td>...</td>\n",
       "      <td>...</td>\n",
       "      <td>...</td>\n",
       "    </tr>\n",
       "    <tr>\n",
       "      <th>1885</th>\n",
       "      <td>/opt/ml/input/data/train/images/003676_male_As...</td>\n",
       "      <td>1</td>\n",
       "      <td>1</td>\n",
       "    </tr>\n",
       "    <tr>\n",
       "      <th>1886</th>\n",
       "      <td>/opt/ml/input/data/train/images/006163_female_...</td>\n",
       "      <td>3</td>\n",
       "      <td>3</td>\n",
       "    </tr>\n",
       "    <tr>\n",
       "      <th>1887</th>\n",
       "      <td>/opt/ml/input/data/train/images/006215_male_As...</td>\n",
       "      <td>0</td>\n",
       "      <td>0</td>\n",
       "    </tr>\n",
       "    <tr>\n",
       "      <th>1888</th>\n",
       "      <td>/opt/ml/input/data/train/images/006244_male_As...</td>\n",
       "      <td>3</td>\n",
       "      <td>3</td>\n",
       "    </tr>\n",
       "    <tr>\n",
       "      <th>1889</th>\n",
       "      <td>/opt/ml/input/data/train/images/001013_female_...</td>\n",
       "      <td>3</td>\n",
       "      <td>3</td>\n",
       "    </tr>\n",
       "  </tbody>\n",
       "</table>\n",
       "<p>1890 rows × 3 columns</p>\n",
       "</div>"
      ],
      "text/plain": [
       "                                                   path  pred  target\n",
       "0     /opt/ml/input/data/train/images/006952_male_As...     0       0\n",
       "1     /opt/ml/input/data/train/images/003235_female_...     6       6\n",
       "2     /opt/ml/input/data/train/images/005052_male_As...     7       7\n",
       "3     /opt/ml/input/data/train/images/000023_female_...     4       4\n",
       "4     /opt/ml/input/data/train/images/003074_female_...     3       3\n",
       "...                                                 ...   ...     ...\n",
       "1885  /opt/ml/input/data/train/images/003676_male_As...     1       1\n",
       "1886  /opt/ml/input/data/train/images/006163_female_...     3       3\n",
       "1887  /opt/ml/input/data/train/images/006215_male_As...     0       0\n",
       "1888  /opt/ml/input/data/train/images/006244_male_As...     3       3\n",
       "1889  /opt/ml/input/data/train/images/001013_female_...     3       3\n",
       "\n",
       "[1890 rows x 3 columns]"
      ]
     },
     "execution_count": 28,
     "metadata": {},
     "output_type": "execute_result"
    }
   ],
   "source": [
    "valid_testing_dataloader = DataLoader(valid_dataset, shuffle = False)\n",
    "check_eval_df = check_eval(valid, valid_testing_dataloader, resnet34, device)\n",
    "check_eval_df"
   ]
  },
  {
   "cell_type": "code",
   "execution_count": 29,
   "id": "50843653-cd13-41a2-99c2-f23ccd4a1ab3",
   "metadata": {},
   "outputs": [
    {
     "data": {
      "text/html": [
       "<div>\n",
       "<style scoped>\n",
       "    .dataframe tbody tr th:only-of-type {\n",
       "        vertical-align: middle;\n",
       "    }\n",
       "\n",
       "    .dataframe tbody tr th {\n",
       "        vertical-align: top;\n",
       "    }\n",
       "\n",
       "    .dataframe thead th {\n",
       "        text-align: right;\n",
       "    }\n",
       "</style>\n",
       "<table border=\"1\" class=\"dataframe\">\n",
       "  <thead>\n",
       "    <tr style=\"text-align: right;\">\n",
       "      <th></th>\n",
       "      <th>path</th>\n",
       "      <th>pred</th>\n",
       "      <th>target</th>\n",
       "    </tr>\n",
       "  </thead>\n",
       "  <tbody>\n",
       "    <tr>\n",
       "      <th>0</th>\n",
       "      <td>/opt/ml/input/data/train/images/001740_female_...</td>\n",
       "      <td>10</td>\n",
       "      <td>4</td>\n",
       "    </tr>\n",
       "    <tr>\n",
       "      <th>1</th>\n",
       "      <td>/opt/ml/input/data/train/images/001064_female_...</td>\n",
       "      <td>6</td>\n",
       "      <td>7</td>\n",
       "    </tr>\n",
       "    <tr>\n",
       "      <th>2</th>\n",
       "      <td>/opt/ml/input/data/train/images/004489_male_As...</td>\n",
       "      <td>0</td>\n",
       "      <td>6</td>\n",
       "    </tr>\n",
       "    <tr>\n",
       "      <th>3</th>\n",
       "      <td>/opt/ml/input/data/train/images/001042_male_As...</td>\n",
       "      <td>6</td>\n",
       "      <td>3</td>\n",
       "    </tr>\n",
       "  </tbody>\n",
       "</table>\n",
       "</div>"
      ],
      "text/plain": [
       "                                                path  pred  target\n",
       "0  /opt/ml/input/data/train/images/001740_female_...    10       4\n",
       "1  /opt/ml/input/data/train/images/001064_female_...     6       7\n",
       "2  /opt/ml/input/data/train/images/004489_male_As...     0       6\n",
       "3  /opt/ml/input/data/train/images/001042_male_As...     6       3"
      ]
     },
     "execution_count": 29,
     "metadata": {},
     "output_type": "execute_result"
    }
   ],
   "source": [
    "wrong_df = check_eval_df[check_eval_df['pred'] != check_eval_df['target']]\n",
    "wrong_df = wrong_df.reset_index(drop=True)\n",
    "wrong_df"
   ]
  },
  {
   "cell_type": "code",
   "execution_count": 30,
   "id": "0f2e5c99-f15c-4af0-807b-d57998593367",
   "metadata": {},
   "outputs": [
    {
     "data": {
      "text/plain": [
       "0.9978382690055593"
      ]
     },
     "execution_count": 30,
     "metadata": {},
     "output_type": "execute_result"
    }
   ],
   "source": [
    "from sklearn.metrics import accuracy_score, recall_score, precision_score, f1_score\n",
    "f1_score(check_eval_df['target'], check_eval_df['pred'], average='macro')"
   ]
  },
  {
   "cell_type": "code",
   "execution_count": 32,
   "id": "e05b9b49-5642-461f-a360-e482e7eb044b",
   "metadata": {},
   "outputs": [
    {
     "data": {
      "text/html": [
       "<div>\n",
       "<style scoped>\n",
       "    .dataframe tbody tr th:only-of-type {\n",
       "        vertical-align: middle;\n",
       "    }\n",
       "\n",
       "    .dataframe tbody tr th {\n",
       "        vertical-align: top;\n",
       "    }\n",
       "\n",
       "    .dataframe thead th {\n",
       "        text-align: right;\n",
       "    }\n",
       "</style>\n",
       "<table border=\"1\" class=\"dataframe\">\n",
       "  <thead>\n",
       "    <tr style=\"text-align: right;\">\n",
       "      <th></th>\n",
       "      <th>path</th>\n",
       "      <th>pred</th>\n",
       "      <th>target</th>\n",
       "    </tr>\n",
       "  </thead>\n",
       "  <tbody>\n",
       "    <tr>\n",
       "      <th>0</th>\n",
       "      <td>/opt/ml/input/data/train/images/006952_male_As...</td>\n",
       "      <td>0</td>\n",
       "      <td>0</td>\n",
       "    </tr>\n",
       "    <tr>\n",
       "      <th>1</th>\n",
       "      <td>/opt/ml/input/data/train/images/003235_female_...</td>\n",
       "      <td>6</td>\n",
       "      <td>6</td>\n",
       "    </tr>\n",
       "    <tr>\n",
       "      <th>2</th>\n",
       "      <td>/opt/ml/input/data/train/images/005052_male_As...</td>\n",
       "      <td>7</td>\n",
       "      <td>7</td>\n",
       "    </tr>\n",
       "    <tr>\n",
       "      <th>3</th>\n",
       "      <td>/opt/ml/input/data/train/images/000023_female_...</td>\n",
       "      <td>4</td>\n",
       "      <td>4</td>\n",
       "    </tr>\n",
       "    <tr>\n",
       "      <th>4</th>\n",
       "      <td>/opt/ml/input/data/train/images/003074_female_...</td>\n",
       "      <td>3</td>\n",
       "      <td>3</td>\n",
       "    </tr>\n",
       "    <tr>\n",
       "      <th>...</th>\n",
       "      <td>...</td>\n",
       "      <td>...</td>\n",
       "      <td>...</td>\n",
       "    </tr>\n",
       "    <tr>\n",
       "      <th>1885</th>\n",
       "      <td>/opt/ml/input/data/train/images/003676_male_As...</td>\n",
       "      <td>1</td>\n",
       "      <td>1</td>\n",
       "    </tr>\n",
       "    <tr>\n",
       "      <th>1886</th>\n",
       "      <td>/opt/ml/input/data/train/images/006163_female_...</td>\n",
       "      <td>3</td>\n",
       "      <td>3</td>\n",
       "    </tr>\n",
       "    <tr>\n",
       "      <th>1887</th>\n",
       "      <td>/opt/ml/input/data/train/images/006215_male_As...</td>\n",
       "      <td>0</td>\n",
       "      <td>0</td>\n",
       "    </tr>\n",
       "    <tr>\n",
       "      <th>1888</th>\n",
       "      <td>/opt/ml/input/data/train/images/006244_male_As...</td>\n",
       "      <td>3</td>\n",
       "      <td>3</td>\n",
       "    </tr>\n",
       "    <tr>\n",
       "      <th>1889</th>\n",
       "      <td>/opt/ml/input/data/train/images/001013_female_...</td>\n",
       "      <td>3</td>\n",
       "      <td>3</td>\n",
       "    </tr>\n",
       "  </tbody>\n",
       "</table>\n",
       "<p>1890 rows × 3 columns</p>\n",
       "</div>"
      ],
      "text/plain": [
       "                                                   path  pred  target\n",
       "0     /opt/ml/input/data/train/images/006952_male_As...     0       0\n",
       "1     /opt/ml/input/data/train/images/003235_female_...     6       6\n",
       "2     /opt/ml/input/data/train/images/005052_male_As...     7       7\n",
       "3     /opt/ml/input/data/train/images/000023_female_...     4       4\n",
       "4     /opt/ml/input/data/train/images/003074_female_...     3       3\n",
       "...                                                 ...   ...     ...\n",
       "1885  /opt/ml/input/data/train/images/003676_male_As...     1       1\n",
       "1886  /opt/ml/input/data/train/images/006163_female_...     3       3\n",
       "1887  /opt/ml/input/data/train/images/006215_male_As...     0       0\n",
       "1888  /opt/ml/input/data/train/images/006244_male_As...     3       3\n",
       "1889  /opt/ml/input/data/train/images/001013_female_...     3       3\n",
       "\n",
       "[1890 rows x 3 columns]"
      ]
     },
     "execution_count": 32,
     "metadata": {},
     "output_type": "execute_result"
    }
   ],
   "source": [
    "check_eval_df"
   ]
  },
  {
   "cell_type": "code",
   "execution_count": 33,
   "id": "84329384-d0b7-4052-a570-e52e86d36c76",
   "metadata": {},
   "outputs": [
    {
     "name": "stdout",
     "output_type": "stream",
     "text": [
      "1\n"
     ]
    }
   ],
   "source": [
    "print('1')"
   ]
  },
  {
   "cell_type": "code",
   "execution_count": 51,
   "id": "d556cbf3-927a-459c-a7d6-7f523b2f3360",
   "metadata": {},
   "outputs": [
    {
     "data": {
      "text/html": [
       "<div>\n",
       "<style scoped>\n",
       "    .dataframe tbody tr th:only-of-type {\n",
       "        vertical-align: middle;\n",
       "    }\n",
       "\n",
       "    .dataframe tbody tr th {\n",
       "        vertical-align: top;\n",
       "    }\n",
       "\n",
       "    .dataframe thead th {\n",
       "        text-align: right;\n",
       "    }\n",
       "</style>\n",
       "<table border=\"1\" class=\"dataframe\">\n",
       "  <thead>\n",
       "    <tr style=\"text-align: right;\">\n",
       "      <th></th>\n",
       "      <th>ImageID</th>\n",
       "      <th>ans</th>\n",
       "    </tr>\n",
       "  </thead>\n",
       "  <tbody>\n",
       "    <tr>\n",
       "      <th>0</th>\n",
       "      <td>cbc5c6e168e63498590db46022617123f1fe1268.jpg</td>\n",
       "      <td>0</td>\n",
       "    </tr>\n",
       "    <tr>\n",
       "      <th>1</th>\n",
       "      <td>0e72482bf56b3581c081f7da2a6180b8792c7089.jpg</td>\n",
       "      <td>0</td>\n",
       "    </tr>\n",
       "    <tr>\n",
       "      <th>2</th>\n",
       "      <td>b549040c49190cedc41327748aeb197c1670f14d.jpg</td>\n",
       "      <td>0</td>\n",
       "    </tr>\n",
       "    <tr>\n",
       "      <th>3</th>\n",
       "      <td>4f9cb2a045c6d5b9e50ad3459ea7b791eb6e18bc.jpg</td>\n",
       "      <td>0</td>\n",
       "    </tr>\n",
       "    <tr>\n",
       "      <th>4</th>\n",
       "      <td>248428d9a4a5b6229a7081c32851b90cb8d38d0c.jpg</td>\n",
       "      <td>0</td>\n",
       "    </tr>\n",
       "    <tr>\n",
       "      <th>...</th>\n",
       "      <td>...</td>\n",
       "      <td>...</td>\n",
       "    </tr>\n",
       "    <tr>\n",
       "      <th>12595</th>\n",
       "      <td>d71d4570505d6af8f777690e63edfa8d85ea4476.jpg</td>\n",
       "      <td>0</td>\n",
       "    </tr>\n",
       "    <tr>\n",
       "      <th>12596</th>\n",
       "      <td>6cf1300e8e218716728d5820c0bab553306c2cfd.jpg</td>\n",
       "      <td>0</td>\n",
       "    </tr>\n",
       "    <tr>\n",
       "      <th>12597</th>\n",
       "      <td>8140edbba31c3a824e817e6d5fb95343199e2387.jpg</td>\n",
       "      <td>0</td>\n",
       "    </tr>\n",
       "    <tr>\n",
       "      <th>12598</th>\n",
       "      <td>030d439efe6fb5a7bafda45a393fc19f2bf57f54.jpg</td>\n",
       "      <td>0</td>\n",
       "    </tr>\n",
       "    <tr>\n",
       "      <th>12599</th>\n",
       "      <td>f1e0b9594ae9f72571f0a9dc67406ad41f2edab0.jpg</td>\n",
       "      <td>0</td>\n",
       "    </tr>\n",
       "  </tbody>\n",
       "</table>\n",
       "<p>12600 rows × 2 columns</p>\n",
       "</div>"
      ],
      "text/plain": [
       "                                            ImageID  ans\n",
       "0      cbc5c6e168e63498590db46022617123f1fe1268.jpg    0\n",
       "1      0e72482bf56b3581c081f7da2a6180b8792c7089.jpg    0\n",
       "2      b549040c49190cedc41327748aeb197c1670f14d.jpg    0\n",
       "3      4f9cb2a045c6d5b9e50ad3459ea7b791eb6e18bc.jpg    0\n",
       "4      248428d9a4a5b6229a7081c32851b90cb8d38d0c.jpg    0\n",
       "...                                             ...  ...\n",
       "12595  d71d4570505d6af8f777690e63edfa8d85ea4476.jpg    0\n",
       "12596  6cf1300e8e218716728d5820c0bab553306c2cfd.jpg    0\n",
       "12597  8140edbba31c3a824e817e6d5fb95343199e2387.jpg    0\n",
       "12598  030d439efe6fb5a7bafda45a393fc19f2bf57f54.jpg    0\n",
       "12599  f1e0b9594ae9f72571f0a9dc67406ad41f2edab0.jpg    0\n",
       "\n",
       "[12600 rows x 2 columns]"
      ]
     },
     "execution_count": 51,
     "metadata": {},
     "output_type": "execute_result"
    }
   ],
   "source": [
    "test_path = '/opt/ml/input/data/eval'\n",
    "test_image_dir_path = os.path.join(test_path, 'images')\n",
    "test_path_df = pd.read_csv(test_path+'/info.csv')\n",
    "test_path_df"
   ]
  },
  {
   "cell_type": "code",
   "execution_count": 52,
   "id": "7a56bb00-553b-423d-9f6a-1b671327ea6e",
   "metadata": {
    "collapsed": true,
    "jupyter": {
     "outputs_hidden": true
    },
    "tags": []
   },
   "outputs": [
    {
     "data": {
      "text/plain": [
       "ResNet(\n",
       "  (conv1): Conv2d(3, 64, kernel_size=(7, 7), stride=(2, 2), padding=(3, 3), bias=False)\n",
       "  (bn1): BatchNorm2d(64, eps=1e-05, momentum=0.1, affine=True, track_running_stats=True)\n",
       "  (relu): ReLU(inplace=True)\n",
       "  (maxpool): MaxPool2d(kernel_size=3, stride=2, padding=1, dilation=1, ceil_mode=False)\n",
       "  (layer1): Sequential(\n",
       "    (0): BasicBlock(\n",
       "      (conv1): Conv2d(64, 64, kernel_size=(3, 3), stride=(1, 1), padding=(1, 1), bias=False)\n",
       "      (bn1): BatchNorm2d(64, eps=1e-05, momentum=0.1, affine=True, track_running_stats=True)\n",
       "      (relu): ReLU(inplace=True)\n",
       "      (conv2): Conv2d(64, 64, kernel_size=(3, 3), stride=(1, 1), padding=(1, 1), bias=False)\n",
       "      (bn2): BatchNorm2d(64, eps=1e-05, momentum=0.1, affine=True, track_running_stats=True)\n",
       "    )\n",
       "    (1): BasicBlock(\n",
       "      (conv1): Conv2d(64, 64, kernel_size=(3, 3), stride=(1, 1), padding=(1, 1), bias=False)\n",
       "      (bn1): BatchNorm2d(64, eps=1e-05, momentum=0.1, affine=True, track_running_stats=True)\n",
       "      (relu): ReLU(inplace=True)\n",
       "      (conv2): Conv2d(64, 64, kernel_size=(3, 3), stride=(1, 1), padding=(1, 1), bias=False)\n",
       "      (bn2): BatchNorm2d(64, eps=1e-05, momentum=0.1, affine=True, track_running_stats=True)\n",
       "    )\n",
       "    (2): BasicBlock(\n",
       "      (conv1): Conv2d(64, 64, kernel_size=(3, 3), stride=(1, 1), padding=(1, 1), bias=False)\n",
       "      (bn1): BatchNorm2d(64, eps=1e-05, momentum=0.1, affine=True, track_running_stats=True)\n",
       "      (relu): ReLU(inplace=True)\n",
       "      (conv2): Conv2d(64, 64, kernel_size=(3, 3), stride=(1, 1), padding=(1, 1), bias=False)\n",
       "      (bn2): BatchNorm2d(64, eps=1e-05, momentum=0.1, affine=True, track_running_stats=True)\n",
       "    )\n",
       "  )\n",
       "  (layer2): Sequential(\n",
       "    (0): BasicBlock(\n",
       "      (conv1): Conv2d(64, 128, kernel_size=(3, 3), stride=(2, 2), padding=(1, 1), bias=False)\n",
       "      (bn1): BatchNorm2d(128, eps=1e-05, momentum=0.1, affine=True, track_running_stats=True)\n",
       "      (relu): ReLU(inplace=True)\n",
       "      (conv2): Conv2d(128, 128, kernel_size=(3, 3), stride=(1, 1), padding=(1, 1), bias=False)\n",
       "      (bn2): BatchNorm2d(128, eps=1e-05, momentum=0.1, affine=True, track_running_stats=True)\n",
       "      (downsample): Sequential(\n",
       "        (0): Conv2d(64, 128, kernel_size=(1, 1), stride=(2, 2), bias=False)\n",
       "        (1): BatchNorm2d(128, eps=1e-05, momentum=0.1, affine=True, track_running_stats=True)\n",
       "      )\n",
       "    )\n",
       "    (1): BasicBlock(\n",
       "      (conv1): Conv2d(128, 128, kernel_size=(3, 3), stride=(1, 1), padding=(1, 1), bias=False)\n",
       "      (bn1): BatchNorm2d(128, eps=1e-05, momentum=0.1, affine=True, track_running_stats=True)\n",
       "      (relu): ReLU(inplace=True)\n",
       "      (conv2): Conv2d(128, 128, kernel_size=(3, 3), stride=(1, 1), padding=(1, 1), bias=False)\n",
       "      (bn2): BatchNorm2d(128, eps=1e-05, momentum=0.1, affine=True, track_running_stats=True)\n",
       "    )\n",
       "    (2): BasicBlock(\n",
       "      (conv1): Conv2d(128, 128, kernel_size=(3, 3), stride=(1, 1), padding=(1, 1), bias=False)\n",
       "      (bn1): BatchNorm2d(128, eps=1e-05, momentum=0.1, affine=True, track_running_stats=True)\n",
       "      (relu): ReLU(inplace=True)\n",
       "      (conv2): Conv2d(128, 128, kernel_size=(3, 3), stride=(1, 1), padding=(1, 1), bias=False)\n",
       "      (bn2): BatchNorm2d(128, eps=1e-05, momentum=0.1, affine=True, track_running_stats=True)\n",
       "    )\n",
       "    (3): BasicBlock(\n",
       "      (conv1): Conv2d(128, 128, kernel_size=(3, 3), stride=(1, 1), padding=(1, 1), bias=False)\n",
       "      (bn1): BatchNorm2d(128, eps=1e-05, momentum=0.1, affine=True, track_running_stats=True)\n",
       "      (relu): ReLU(inplace=True)\n",
       "      (conv2): Conv2d(128, 128, kernel_size=(3, 3), stride=(1, 1), padding=(1, 1), bias=False)\n",
       "      (bn2): BatchNorm2d(128, eps=1e-05, momentum=0.1, affine=True, track_running_stats=True)\n",
       "    )\n",
       "  )\n",
       "  (layer3): Sequential(\n",
       "    (0): BasicBlock(\n",
       "      (conv1): Conv2d(128, 256, kernel_size=(3, 3), stride=(2, 2), padding=(1, 1), bias=False)\n",
       "      (bn1): BatchNorm2d(256, eps=1e-05, momentum=0.1, affine=True, track_running_stats=True)\n",
       "      (relu): ReLU(inplace=True)\n",
       "      (conv2): Conv2d(256, 256, kernel_size=(3, 3), stride=(1, 1), padding=(1, 1), bias=False)\n",
       "      (bn2): BatchNorm2d(256, eps=1e-05, momentum=0.1, affine=True, track_running_stats=True)\n",
       "      (downsample): Sequential(\n",
       "        (0): Conv2d(128, 256, kernel_size=(1, 1), stride=(2, 2), bias=False)\n",
       "        (1): BatchNorm2d(256, eps=1e-05, momentum=0.1, affine=True, track_running_stats=True)\n",
       "      )\n",
       "    )\n",
       "    (1): BasicBlock(\n",
       "      (conv1): Conv2d(256, 256, kernel_size=(3, 3), stride=(1, 1), padding=(1, 1), bias=False)\n",
       "      (bn1): BatchNorm2d(256, eps=1e-05, momentum=0.1, affine=True, track_running_stats=True)\n",
       "      (relu): ReLU(inplace=True)\n",
       "      (conv2): Conv2d(256, 256, kernel_size=(3, 3), stride=(1, 1), padding=(1, 1), bias=False)\n",
       "      (bn2): BatchNorm2d(256, eps=1e-05, momentum=0.1, affine=True, track_running_stats=True)\n",
       "    )\n",
       "    (2): BasicBlock(\n",
       "      (conv1): Conv2d(256, 256, kernel_size=(3, 3), stride=(1, 1), padding=(1, 1), bias=False)\n",
       "      (bn1): BatchNorm2d(256, eps=1e-05, momentum=0.1, affine=True, track_running_stats=True)\n",
       "      (relu): ReLU(inplace=True)\n",
       "      (conv2): Conv2d(256, 256, kernel_size=(3, 3), stride=(1, 1), padding=(1, 1), bias=False)\n",
       "      (bn2): BatchNorm2d(256, eps=1e-05, momentum=0.1, affine=True, track_running_stats=True)\n",
       "    )\n",
       "    (3): BasicBlock(\n",
       "      (conv1): Conv2d(256, 256, kernel_size=(3, 3), stride=(1, 1), padding=(1, 1), bias=False)\n",
       "      (bn1): BatchNorm2d(256, eps=1e-05, momentum=0.1, affine=True, track_running_stats=True)\n",
       "      (relu): ReLU(inplace=True)\n",
       "      (conv2): Conv2d(256, 256, kernel_size=(3, 3), stride=(1, 1), padding=(1, 1), bias=False)\n",
       "      (bn2): BatchNorm2d(256, eps=1e-05, momentum=0.1, affine=True, track_running_stats=True)\n",
       "    )\n",
       "    (4): BasicBlock(\n",
       "      (conv1): Conv2d(256, 256, kernel_size=(3, 3), stride=(1, 1), padding=(1, 1), bias=False)\n",
       "      (bn1): BatchNorm2d(256, eps=1e-05, momentum=0.1, affine=True, track_running_stats=True)\n",
       "      (relu): ReLU(inplace=True)\n",
       "      (conv2): Conv2d(256, 256, kernel_size=(3, 3), stride=(1, 1), padding=(1, 1), bias=False)\n",
       "      (bn2): BatchNorm2d(256, eps=1e-05, momentum=0.1, affine=True, track_running_stats=True)\n",
       "    )\n",
       "    (5): BasicBlock(\n",
       "      (conv1): Conv2d(256, 256, kernel_size=(3, 3), stride=(1, 1), padding=(1, 1), bias=False)\n",
       "      (bn1): BatchNorm2d(256, eps=1e-05, momentum=0.1, affine=True, track_running_stats=True)\n",
       "      (relu): ReLU(inplace=True)\n",
       "      (conv2): Conv2d(256, 256, kernel_size=(3, 3), stride=(1, 1), padding=(1, 1), bias=False)\n",
       "      (bn2): BatchNorm2d(256, eps=1e-05, momentum=0.1, affine=True, track_running_stats=True)\n",
       "    )\n",
       "  )\n",
       "  (layer4): Sequential(\n",
       "    (0): BasicBlock(\n",
       "      (conv1): Conv2d(256, 512, kernel_size=(3, 3), stride=(2, 2), padding=(1, 1), bias=False)\n",
       "      (bn1): BatchNorm2d(512, eps=1e-05, momentum=0.1, affine=True, track_running_stats=True)\n",
       "      (relu): ReLU(inplace=True)\n",
       "      (conv2): Conv2d(512, 512, kernel_size=(3, 3), stride=(1, 1), padding=(1, 1), bias=False)\n",
       "      (bn2): BatchNorm2d(512, eps=1e-05, momentum=0.1, affine=True, track_running_stats=True)\n",
       "      (downsample): Sequential(\n",
       "        (0): Conv2d(256, 512, kernel_size=(1, 1), stride=(2, 2), bias=False)\n",
       "        (1): BatchNorm2d(512, eps=1e-05, momentum=0.1, affine=True, track_running_stats=True)\n",
       "      )\n",
       "    )\n",
       "    (1): BasicBlock(\n",
       "      (conv1): Conv2d(512, 512, kernel_size=(3, 3), stride=(1, 1), padding=(1, 1), bias=False)\n",
       "      (bn1): BatchNorm2d(512, eps=1e-05, momentum=0.1, affine=True, track_running_stats=True)\n",
       "      (relu): ReLU(inplace=True)\n",
       "      (conv2): Conv2d(512, 512, kernel_size=(3, 3), stride=(1, 1), padding=(1, 1), bias=False)\n",
       "      (bn2): BatchNorm2d(512, eps=1e-05, momentum=0.1, affine=True, track_running_stats=True)\n",
       "    )\n",
       "    (2): BasicBlock(\n",
       "      (conv1): Conv2d(512, 512, kernel_size=(3, 3), stride=(1, 1), padding=(1, 1), bias=False)\n",
       "      (bn1): BatchNorm2d(512, eps=1e-05, momentum=0.1, affine=True, track_running_stats=True)\n",
       "      (relu): ReLU(inplace=True)\n",
       "      (conv2): Conv2d(512, 512, kernel_size=(3, 3), stride=(1, 1), padding=(1, 1), bias=False)\n",
       "      (bn2): BatchNorm2d(512, eps=1e-05, momentum=0.1, affine=True, track_running_stats=True)\n",
       "    )\n",
       "  )\n",
       "  (avgpool): AdaptiveAvgPool2d(output_size=(1, 1))\n",
       "  (fc): Linear(in_features=512, out_features=18, bias=True)\n",
       ")"
      ]
     },
     "execution_count": 52,
     "metadata": {},
     "output_type": "execute_result"
    }
   ],
   "source": [
    "resnet34.eval()"
   ]
  },
  {
   "cell_type": "code",
   "execution_count": 53,
   "id": "d019687f-981b-41d2-913f-937a0e0fa264",
   "metadata": {},
   "outputs": [
    {
     "name": "stdout",
     "output_type": "stream",
     "text": [
      "cbc5c6e168e63498590db46022617123f1fe1268.jpg\n"
     ]
    }
   ],
   "source": [
    "print(test_path_df['ImageID'][0])"
   ]
  },
  {
   "cell_type": "code",
   "execution_count": 61,
   "id": "e97b4d14-4f25-42d8-8fd9-46e80047e2ef",
   "metadata": {},
   "outputs": [
    {
     "name": "stdout",
     "output_type": "stream",
     "text": [
      "tensor(10, device='cuda:0')\n"
     ]
    }
   ],
   "source": [
    "img = transform(img).to(device)\n",
    "img = torch.unsqueeze(img, 0)\n",
    "prediction = F.softmax(resnet34(img), dim=1)\n",
    "prediction = prediction.argmax()\n",
    "print(labels[prediction])"
   ]
  },
  {
   "cell_type": "code",
   "execution_count": 62,
   "id": "ab570885-7308-4981-94a2-7336c2e8f00d",
   "metadata": {},
   "outputs": [
    {
     "data": {
      "image/png": "[encoded data removed]",
      "text/plain": [
       "<Figure size 432x288 with 1 Axes>"
      ]
     },
     "metadata": {
      "needs_background": "light"
     },
     "output_type": "display_data"
    }
   ],
   "source": [
    "img = Image.open(os.path.join(test_image_dir_path, test_path_df['ImageID'][0])) \n",
    "plt.imshow(img)\n",
    "plt.show()"
   ]
  },
  {
   "cell_type": "code",
   "execution_count": 79,
   "id": "0a549bc4-10cb-4235-a673-3e5e9ded9523",
   "metadata": {},
   "outputs": [],
   "source": [
    "def myPredict(df,model,transform=transform):\n",
    "    predict_list = []\n",
    "    for i in range(len(df)):\n",
    "        img = Image.open(os.path.join(test_image_dir_path, test_path_df['ImageID'][i]))\n",
    "        img = transform(img).to(device)\n",
    "        img = torch.unsqueeze(img,0)\n",
    "        prediction = F.softmax(model(img), dim=1)\n",
    "        prediction = prediction.argmax()\n",
    "        predict_list.append(int(prediction))\n",
    "    return predict_list\n",
    "predict_df = myPredict(test_path_df, resnet34, transform)"
   ]
  },
  {
   "cell_type": "code",
   "execution_count": 80,
   "id": "e4bad9c9-8920-4ed3-a437-57a66016f038",
   "metadata": {
    "collapsed": true,
    "jupyter": {
     "outputs_hidden": true
    },
    "tags": []
   },
   "outputs": [
    {
     "name": "stdout",
     "output_type": "stream",
     "text": [
      "[4, 1, 4, 4, 3, 0, 7, 4, 4, 3, 4, 3, 6, 3, 0, 4, 1, 1, 7, 4, 3, 1, 1, 3, 1, 0, 7, 1, 1, 0, 0, 4, 3, 4, 1, 0, 3, 7, 4, 0, 1, 1, 7, 3, 4, 1, 4, 2, 0, 1, 4, 9, 4, 1, 1, 10, 1, 0, 3, 1, 1, 1, 1, 6, 1, 0, 9, 4, 1, 5, 7, 3, 2, 1, 1, 0, 4, 1, 4, 4, 1, 1, 0, 1, 0, 7, 3, 7, 4, 1, 3, 10, 1, 1, 0, 1, 1, 2, 10, 0, 10, 1, 1, 1, 0, 3, 1, 3, 4, 4, 0, 7, 0, 0, 4, 4, 10, 4, 3, 3, 4, 9, 10, 5, 6, 1, 1, 4, 0, 4, 4, 0, 7, 3, 3, 4, 1, 4, 0, 6, 1, 1, 3, 0, 0, 1, 9, 4, 0, 2, 1, 4, 4, 3, 4, 7, 3, 0, 6, 6, 3, 6, 4, 7, 0, 4, 4, 3, 1, 1, 4, 4, 1, 7, 7, 3, 3, 1, 3, 4, 1, 0, 1, 7, 6, 0, 4, 9, 7, 8, 4, 4, 0, 4, 0, 3, 3, 4, 3, 6, 4, 0, 0, 3, 2, 3, 10, 4, 0, 4, 7, 3, 1, 6, 1, 4, 7, 1, 3, 0, 4, 4, 1, 3, 0, 1, 1, 4, 0, 3, 1, 5, 4, 0, 8, 3, 1, 0, 4, 4, 4, 1, 0, 6, 6, 1, 0, 1, 3, 0, 3, 7, 7, 3, 4, 0, 0, 0, 4, 2, 1, 4, 0, 1, 1, 6, 1, 9, 7, 0, 1, 1, 9, 2, 3, 0, 1, 6, 2, 4, 1, 5, 7, 0, 5, 3, 1, 4, 0, 7, 3, 6, 1, 0, 4, 4, 0, 3, 4, 4, 4, 7, 6, 1, 0, 1, 6, 0, 1, 1, 0, 4, 0, 7, 0, 2, 0, 0, 1, 0, 10, 4, 1, 9, 3, 3, 0, 3, 5, 0, 3, 1, 0, 3, 3, 4, 7, 1, 7, 4, 10, 3, 6, 1, 3, 3, 3, 1, 4, 0, 7, 1, 3, 3, 9, 2, 4, 1, 3, 0, 1, 3, 4, 10, 4, 4, 1, 4, 3, 9, 1, 1, 7, 9, 4, 3, 1, 3, 3, 1, 4, 1, 0, 0, 4, 3, 3, 1, 3, 1, 0, 1, 5, 0, 0, 4, 4, 2, 7, 1, 0, 3, 3, 3, 4, 3, 4, 1, 3, 6, 4, 4, 4, 0, 1, 7, 1, 7, 4, 0, 4, 2, 1, 1, 4, 0, 3, 1, 1, 6, 1, 0, 1, 3, 4, 1, 9, 9, 6, 3, 0, 0, 10, 3, 4, 2, 1, 7, 1, 4, 1, 6, 5, 1, 1, 4, 1, 1, 1, 4, 5, 4, 9, 3, 0, 3, 6, 4, 3, 4, 3, 6, 4, 0, 3, 4, 4, 7, 3, 0, 1, 2, 1, 0, 1, 0, 0, 7, 0, 4, 7, 0, 3, 10, 4, 3, 1, 0, 4, 0, 1, 0, 3, 1, 1, 3, 0, 10, 0, 4, 4, 6, 1, 1, 0, 4, 1, 4, 0, 3, 7, 0, 6, 1, 0, 1, 0, 1, 3, 5, 0, 3, 7, 6, 1, 0, 1, 7, 4, 3, 3, 4, 3, 7, 0, 3, 3, 0, 1, 0, 0, 3, 3, 1, 4, 10, 1, 4, 0, 3, 0, 4, 7, 3, 0, 1, 1, 3, 8, 0, 4, 0, 0, 0, 0, 3, 0, 4, 1, 5, 3, 4, 4, 0, 0, 7, 3, 0, 3, 0, 3, 3, 0, 7, 1, 1, 4, 3, 1, 1, 3, 10, 3, 2, 1, 5, 1, 0, 4, 6, 4, 4, 0, 1, 6, 4, 7, 0, 7, 4, 0, 1, 0, 0, 4, 1, 1, 0, 1, 0, 10, 0, 4, 1, 0, 1, 1, 6, 5, 1, 0, 0, 1, 7, 1, 4, 7, 7, 1, 3, 7, 4, 1, 0, 1, 6, 4, 9, 6, 4, 7, 1, 1, 1, 3, 4, 7, 0, 6, 4, 1, 1, 7, 2, 1, 3, 4, 1, 0, 0, 4, 0, 3, 1, 1, 0, 6, 4, 1, 0, 1, 0, 4, 1, 0, 0, 4, 1, 4, 0, 6, 4, 6, 5, 0, 1, 4, 0, 0, 1, 4, 4, 1, 1, 0, 3, 0, 5, 4, 0, 1, 1, 4, 3, 4, 1, 1, 10, 4, 1, 3, 1, 4, 0, 2, 1, 4, 4, 0, 3, 10, 0, 0, 1, 4, 5, 3, 4, 9, 5, 1, 0, 7, 1, 3, 2, 3, 3, 4, 1, 0, 0, 3, 10, 8, 9, 1, 4, 0, 1, 0, 6, 6, 3, 6, 3, 4, 0, 0, 1, 3, 3, 4, 6, 2, 3, 3, 0, 7, 4, 10, 0, 3, 4, 0, 4, 0, 0, 4, 1, 4, 0, 7, 0, 1, 3, 6, 4, 4, 3, 3, 0, 1, 4, 4, 1, 0, 4, 1, 4, 6, 0, 7, 3, 1, 4, 3, 4, 3, 1, 4, 0, 0, 4, 1, 4, 1, 4, 2, 4, 0, 1, 0, 1, 3, 4, 0, 4, 3, 4, 6, 4, 4, 0, 7, 1, 4, 0, 3, 1, 4, 4, 1, 6, 0, 1, 3, 8, 3, 1, 0, 1, 3, 0, 1, 0, 3, 1, 3, 4, 1, 10, 6, 7, 0, 1, 3, 6, 3, 1, 1, 1, 1, 4, 0, 1, 6, 0, 3, 1, 0, 4, 10, 3, 1, 6, 0, 4, 0, 8, 2, 0, 1, 2, 0, 10, 8, 1, 1, 0, 2, 3, 3, 0, 7, 4, 0, 0, 1, 4, 6, 5, 10, 0, 1, 7, 3, 9, 4, 1, 9, 4, 4, 1, 0, 1, 0, 0, 4, 3, 4, 4, 10, 0, 1, 1, 1, 6, 1, 3, 4, 1, 4, 3, 1, 4, 4, 4, 5, 6, 3, 0, 3, 1, 1, 4, 0, 3, 0, 1, 1, 1, 1, 4, 4, 7, 6, 4, 2, 4, 4, 7, 2, 0, 0, 7, 1, 4, 0, 0, 3, 4, 3, 1, 0, 1, 0, 3, 1, 0, 3, 1, 0, 8, 5, 4, 1, 4, 6, 1, 7, 0, 1, 4, 0, 7, 0, 0, 2, 0, 4, 3, 0, 7, 4, 4, 0, 5, 1, 9, 5, 0, 1, 0, 11, 0, 0, 8, 4, 6, 4, 1, 4, 1, 3, 6, 1, 4, 9, 3, 4, 4, 3, 4, 1, 1, 1, 3, 1, 0, 1, 2, 0, 6, 0, 6, 4, 4, 4, 4, 0, 2, 0, 0, 3, 1, 1, 7, 4, 0, 0, 3, 1, 3, 10, 7, 0, 7, 1, 1, 0, 0, 1, 3, 7, 1, 4, 3, 1, 6, 0, 4, 7, 5, 1, 0, 9, 0, 3, 7, 0, 4, 4, 1, 4, 3, 4, 10, 1, 0, 3, 6, 0, 10, 0, 1, 3, 0, 4, 0, 4, 3, 1, 0, 2, 4, 0, 4, 9, 4, 4, 9, 6, 6, 0, 3, 2, 9, 1, 5, 4, 2, 9, 5, 4, 1, 0, 1, 0, 7, 0, 3, 4, 0, 4, 9, 1, 4, 0, 5, 3, 3, 0, 4, 1, 3, 2, 1, 1, 0, 6, 3, 0, 1, 4, 0, 0, 3, 3, 3, 0, 1, 4, 1, 0, 4, 3, 4, 1, 0, 0, 0, 2, 0, 1, 0, 4, 3, 3, 0, 6, 1, 0, 1, 1, 6, 1, 1, 4, 6, 1, 7, 1, 0, 3, 9, 3, 7, 1, 2, 5, 1, 1, 8, 3, 4, 0, 0, 0, 0, 1, 0, 3, 3, 1, 1, 5, 1, 6, 1, 1, 1, 0, 0, 5, 3, 0, 3, 0, 7, 0, 7, 7, 3, 3, 10, 6, 1, 0, 9, 0, 3, 3, 1, 0, 3, 1, 0, 1, 11, 1, 3, 4, 6, 1, 2, 1, 2, 1, 4, 4, 10, 1, 6, 1, 4, 3, 10, 4, 3, 3, 4, 0, 1, 0, 1, 7, 6, 1, 6, 3, 1, 0, 4, 0, 0, 3, 0, 0, 0, 4, 4, 0, 3, 0, 4, 1, 3, 3, 2, 0, 7, 4, 0, 7, 7, 4, 3, 1, 7, 1, 4, 7, 1, 4, 1, 7, 4, 3, 10, 0, 0, 7, 10, 4, 4, 3, 4, 0, 1, 7, 0, 0, 4, 4, 6, 4, 9, 3, 10, 4, 4, 4, 3, 3, 1, 3, 4, 2, 0, 4, 1, 8, 3, 1, 6, 1, 1, 0, 3, 1, 3, 4, 2, 6, 1, 0, 5, 9, 3, 0, 4, 0, 1, 3, 3, 1, 0, 4, 10, 7, 4, 7, 7, 0, 1, 1, 7, 4, 3, 1, 0, 0, 0, 3, 1, 3, 4, 1, 8, 10, 4, 3, 1, 11, 1, 3, 4, 0, 0, 0, 4, 3, 4, 1, 3, 4, 0, 5, 0, 4, 3, 4, 3, 1, 4, 1, 7, 4, 9, 9, 0, 3, 0, 0, 4, 1, 0, 0, 1, 0, 3, 6, 7, 7, 10, 3, 0, 7, 3, 7, 3, 0, 0, 10, 4, 6, 0, 4, 4, 1, 4, 7, 8, 1, 4, 0, 2, 3, 3, 2, 5, 7, 4, 0, 5, 7, 4, 1, 0, 4, 0, 1, 0, 3, 10, 1, 3, 5, 0, 1, 3, 3, 0, 2, 1, 9, 4, 1, 1, 1, 0, 6, 0, 6, 1, 5, 7, 6, 1, 4, 4, 7, 4, 0, 7, 0, 0, 1, 0, 1, 3, 4, 1, 0, 4, 7, 0, 0, 2, 7, 0, 4, 4, 3, 10, 1, 7, 0, 5, 1, 4, 0, 3, 8, 4, 1, 3, 11, 1, 3, 1, 2, 4, 11, 1, 3, 0, 4, 6, 0, 3, 0, 3, 6, 10, 3, 4, 1, 6, 1, 4, 2, 7, 4, 0, 1, 3, 7, 0, 0, 0, 3, 7, 7, 3, 0, 0, 3, 4, 0, 4, 0, 6, 3, 3, 4, 10, 0, 4, 3, 4, 3, 0, 1, 0, 1, 4, 6, 3, 1, 3, 3, 0, 4, 4, 1, 1, 10, 4, 0, 3, 5, 1, 4, 0, 1, 1, 6, 0, 1, 4, 1, 4, 9, 1, 0, 4, 3, 4, 0, 6, 0, 6, 3, 6, 0, 0, 7, 6, 0, 0, 0, 2, 4, 1, 6, 7, 4, 1, 10, 3, 3, 1, 0, 6, 0, 8, 0, 0, 1, 4, 0, 0, 3, 1, 1, 1, 1, 0, 1, 3, 1, 1, 1, 1, 4, 4, 1, 3, 0, 3, 3, 4, 3, 10, 4, 0, 4, 3, 4, 6, 4, 0, 5, 7, 4, 3, 0, 4, 1, 1, 3, 4, 6, 4, 7, 1, 1, 5, 3, 1, 4, 10, 0, 6, 1, 7, 1, 4, 0, 0, 1, 0, 9, 7, 4, 3, 3, 5, 6, 10, 0, 1, 0, 3, 0, 3, 4, 6, 1, 1, 0, 7, 3, 1, 1, 0, 4, 0, 6, 5, 6, 1, 0, 1, 6, 1, 1, 6, 6, 10, 4, 4, 6, 10, 1, 3, 9, 3, 4, 1, 3, 0, 1, 10, 3, 0, 1, 10, 7, 6, 6, 3, 7, 3, 1, 1, 7, 1, 1, 6, 3, 10, 4, 0, 5, 0, 6, 1, 1, 0, 6, 3, 3, 3, 3, 3, 0, 0, 1, 0, 0, 4, 10, 4, 1, 6, 4, 1, 4, 0, 1, 1, 2, 0, 0, 0, 1, 6, 4, 0, 0, 0, 4, 0, 1, 0, 1, 3, 5, 4, 10, 3, 1, 3, 1, 0, 4, 7, 1, 1, 3, 1, 0, 4, 3, 4, 2, 4, 1, 3, 10, 1, 1, 3, 7, 7, 4, 3, 1, 3, 9, 1, 6, 1, 1, 3, 0, 9, 10, 3, 3, 3, 1, 1, 0, 4, 5, 4, 1, 2, 6, 4, 1, 1, 4, 4, 3, 4, 1, 3, 3, 7, 4, 0, 6, 1, 6, 1, 0, 0, 0, 6, 1, 4, 4, 2, 1, 0, 3, 0, 3, 4, 1, 7, 3, 7, 4, 3, 3, 1, 0, 3, 4, 3, 3, 5, 3, 3, 0, 3, 1, 3, 1, 5, 4, 2, 0, 1, 3, 1, 0, 0, 7, 4, 1, 4, 4, 4, 1, 3, 6, 5, 7, 7, 6, 0, 9, 0, 3, 1, 6, 0, 2, 0, 4, 7, 0, 1, 2, 7, 0, 7, 4, 0, 1, 4, 4, 3, 0, 0, 3, 6, 1, 4, 0, 0, 3, 0, 3, 1, 1, 0, 6, 3, 8, 3, 3, 7, 0, 1, 3, 1, 7, 7, 3, 3, 1, 4, 5, 5, 7, 4, 1, 1, 4, 3, 4, 3, 0, 0, 6, 6, 0, 5, 10, 4, 1, 4, 2, 10, 3, 3, 4, 1, 3, 2, 4, 4, 1, 1, 0, 3, 1, 9, 6, 1, 3, 4, 3, 7, 2, 3, 4, 11, 4, 1, 4, 3, 1, 3, 1, 1, 3, 0, 7, 1, 7, 0, 4, 2, 2, 1, 4, 1, 5, 1, 5, 0, 3, 3, 3, 1, 3, 0, 4, 3, 3, 3, 4, 3, 3, 8, 0, 3, 0, 3, 7, 1, 0, 2, 4, 4, 4, 0, 4, 4, 4, 7, 1, 4, 0, 3, 0, 4, 6, 7, 7, 7, 0, 7, 7, 1, 1, 0, 9, 4, 7, 8, 4, 1, 0, 4, 9, 0, 4, 0, 4, 7, 1, 3, 4, 6, 10, 3, 1, 1, 0, 9, 3, 1, 4, 4, 4, 4, 0, 1, 4, 0, 4, 6, 7, 0, 3, 1, 0, 1, 7, 4, 0, 3, 4, 4, 4, 3, 0, 0, 0, 7, 4, 4, 1, 3, 3, 4, 0, 1, 0, 7, 0, 4, 6, 4, 1, 2, 1, 0, 3, 4, 1, 0, 4, 7, 3, 3, 6, 1, 1, 5, 0, 4, 0, 3, 1, 3, 9, 6, 0, 3, 7, 6, 1, 1, 4, 0, 1, 0, 1, 7, 0, 3, 4, 9, 4, 3, 4, 4, 0, 3, 7, 3, 4, 4, 3, 3, 1, 1, 9, 3, 4, 3, 1, 0, 3, 1, 3, 1, 4, 3, 2, 0, 4, 0, 7, 4, 4, 1, 1, 3, 3, 0, 6, 1, 4, 4, 0, 3, 6, 1, 8, 4, 3, 0, 0, 3, 0, 0, 0, 3, 3, 7, 7, 1, 6, 0, 0, 1, 0, 2, 1, 1, 0, 3, 1, 3, 7, 0, 4, 1, 4, 4, 3, 9, 0, 3, 0, 3, 0, 0, 4, 1, 2, 7, 3, 0, 7, 1, 0, 7, 4, 3, 6, 1, 1, 1, 3, 3, 7, 4, 7, 1, 0, 7, 7, 6, 5, 9, 3, 1, 0, 4, 0, 0, 7, 0, 0, 0, 3, 2, 3, 6, 3, 0, 6, 0, 0, 0, 3, 0, 6, 0, 2, 4, 4, 1, 0, 2, 6, 4, 1, 7, 4, 4, 2, 7, 3, 3, 1, 0, 9, 1, 8, 3, 1, 3, 4, 1, 0, 1, 4, 4, 4, 1, 4, 7, 1, 3, 4, 1, 0, 1, 4, 7, 9, 0, 4, 3, 10, 3, 4, 1, 1, 7, 1, 0, 3, 1, 4, 7, 0, 0, 0, 1, 0, 3, 4, 10, 3, 0, 3, 1, 0, 8, 3, 4, 0, 0, 1, 7, 0, 4, 7, 4, 4, 7, 1, 4, 0, 6, 6, 3, 3, 0, 3, 0, 10, 7, 1, 1, 10, 0, 1, 6, 9, 4, 1, 3, 4, 10, 0, 0, 1, 3, 4, 0, 0, 6, 7, 1, 6, 0, 6, 7, 1, 0, 1, 4, 2, 0, 4, 1, 1, 1, 1, 10, 3, 1, 3, 10, 3, 0, 1, 2, 1, 10, 6, 1, 1, 1, 7, 3, 1, 0, 1, 7, 8, 4, 1, 0, 4, 4, 1, 4, 9, 7, 3, 1, 4, 0, 4, 0, 1, 1, 4, 9, 1, 8, 7, 0, 1, 4, 4, 1, 3, 4, 4, 1, 1, 5, 7, 5, 3, 2, 7, 0, 7, 1, 10, 3, 1, 1, 10, 7, 3, 0, 9, 10, 3, 10, 3, 1, 3, 4, 3, 0, 3, 1, 0, 0, 1, 1, 7, 9, 4, 10, 0, 0, 7, 1, 8, 6, 1, 1, 1, 5, 7, 3, 10, 6, 1, 1, 0, 3, 3, 4, 4, 4, 6, 10, 1, 1, 3, 3, 7, 10, 0, 1, 3, 0, 1, 9, 10, 6, 0, 7, 0, 2, 6, 3, 3, 1, 1, 1, 1, 1, 1, 9, 1, 4, 7, 7, 0, 6, 1, 11, 4, 4, 4, 1, 3, 3, 4, 1, 1, 1, 7, 1, 4, 5, 4, 1, 4, 6, 1, 8, 1, 4, 3, 7, 3, 11, 4, 5, 4, 3, 3, 1, 1, 7, 1, 10, 9, 3, 1, 1, 1, 0, 1, 1, 5, 1, 9, 1, 1, 4, 1, 9, 0, 1, 4, 5, 9, 1, 1, 4, 10, 0, 3, 9, 3, 3, 1, 1, 7, 4, 1, 6, 3, 1, 6, 1, 1, 3, 1, 0, 3, 1, 1, 4, 0, 4, 4, 5, 4, 3, 1, 2, 3, 4, 6, 1, 1, 1, 1, 4, 4, 1, 4, 2, 4, 7, 10, 10, 6, 1, 3, 2, 2, 6, 4, 0, 3, 4, 3, 7, 1, 7, 3, 4, 2, 4, 1, 1, 4, 4, 3, 1, 1, 1, 2, 4, 1, 0, 0, 4, 7, 0, 3, 1, 0, 10, 1, 1, 1, 7, 4, 3, 4, 7, 9, 4, 0, 1, 1, 3, 0, 1, 1, 2, 5, 0, 0, 6, 1, 1, 1, 1, 0, 0, 7, 3, 4, 4, 3, 4, 0, 7, 4, 4, 10, 10, 6, 0, 0, 4, 10, 4, 3, 3, 7, 7, 1, 4, 5, 1, 2, 4, 3, 0, 8, 0, 1, 6, 4, 4, 6, 0, 4, 3, 5, 5, 2, 6, 1, 7, 3, 4, 6, 2, 3, 3, 4, 3, 4, 3, 0, 3, 4, 8, 6, 1, 4, 4, 1, 3, 4, 5, 2, 6, 3, 10, 1, 0, 1, 0, 3, 0, 3, 3, 3, 7, 0, 7, 3, 0, 11, 1, 0, 1, 4, 4, 1, 4, 1, 0, 10, 3, 3, 9, 0, 8, 1, 0, 7, 0, 4, 6, 1, 9, 1, 1, 4, 1, 3, 4, 2, 6, 3, 2, 6, 0, 3, 0, 1, 3, 7, 3, 1, 4, 3, 10, 1, 1, 0, 0, 2, 4, 3, 1, 0, 6, 7, 0, 2, 1, 3, 7, 3, 1, 4, 1, 0, 0, 3, 3, 0, 7, 1, 0, 1, 7, 1, 0, 7, 7, 1, 1, 1, 0, 3, 0, 1, 1, 6, 0, 0, 3, 1, 6, 0, 1, 6, 0, 7, 6, 6, 1, 0, 3, 6, 1, 4, 7, 3, 0, 4, 0, 1, 1, 1, 1, 6, 1, 3, 0, 1, 1, 3, 3, 0, 3, 3, 4, 1, 7, 7, 1, 1, 3, 4, 4, 6, 7, 1, 3, 0, 1, 4, 4, 1, 1, 7, 3, 4, 6, 0, 4, 3, 6, 3, 3, 4, 0, 0, 4, 1, 1, 9, 7, 6, 3, 3, 1, 3, 1, 4, 0, 7, 4, 3, 1, 0, 6, 4, 6, 0, 5, 10, 4, 2, 0, 4, 0, 1, 0, 3, 4, 0, 4, 1, 6, 1, 0, 1, 4, 3, 0, 4, 4, 1, 0, 3, 0, 10, 6, 3, 3, 1, 0, 0, 1, 1, 1, 1, 1, 1, 7, 4, 6, 2, 1, 1, 4, 7, 4, 6, 1, 5, 2, 0, 1, 1, 1, 10, 4, 1, 7, 4, 3, 4, 0, 6, 3, 3, 7, 0, 10, 1, 1, 4, 4, 6, 1, 3, 4, 1, 9, 5, 0, 3, 7, 1, 0, 3, 1, 1, 1, 1, 3, 3, 4, 0, 1, 4, 7, 7, 1, 0, 1, 5, 11, 3, 1, 10, 3, 4, 0, 1, 4, 1, 3, 1, 6, 1, 4, 4, 0, 3, 6, 0, 3, 6, 1, 0, 3, 3, 1, 7, 0, 4, 1, 1, 0, 1, 3, 3, 0, 0, 4, 10, 1, 3, 1, 4, 1, 0, 0, 3, 4, 5, 8, 0, 7, 3, 4, 0, 3, 1, 0, 4, 5, 1, 7, 2, 1, 1, 0, 3, 4, 4, 0, 4, 1, 4, 2, 3, 3, 7, 2, 0, 1, 1, 1, 8, 0, 3, 9, 4, 9, 1, 4, 0, 6, 1, 1, 0, 10, 5, 3, 0, 0, 4, 1, 7, 7, 4, 4, 4, 0, 0, 0, 6, 0, 3, 0, 1, 1, 3, 9, 7, 1, 0, 1, 2, 6, 0, 1, 7, 1, 7, 7, 1, 10, 4, 5, 1, 0, 1, 4, 6, 4, 10, 4, 0, 1, 5, 3, 3, 1, 8, 1, 6, 1, 1, 0, 1, 1, 0, 1, 1, 3, 3, 4, 2, 3, 0, 4, 3, 4, 1, 1, 0, 10, 2, 8, 4, 3, 3, 1, 7, 4, 1, 1, 4, 0, 1, 6, 5, 7, 0, 6, 1, 7, 2, 0, 3, 4, 1, 7, 6, 5, 0, 1, 11, 3, 3, 7, 0, 9, 1, 3, 2, 2, 4, 1, 3, 10, 5, 7, 3, 1, 0, 3, 1, 1, 0, 9, 4, 4, 2, 0, 1, 0, 4, 0, 6, 5, 0, 3, 3, 0, 7, 0, 4, 1, 3, 1, 6, 3, 3, 6, 6, 1, 1, 1, 7, 0, 4, 1, 3, 0, 3, 6, 0, 4, 4, 4, 6, 7, 0, 1, 3, 1, 1, 1, 10, 6, 3, 1, 1, 3, 0, 2, 9, 0, 4, 7, 11, 8, 1, 1, 1, 3, 9, 4, 3, 1, 4, 1, 9, 7, 0, 1, 3, 6, 9, 5, 2, 1, 3, 1, 1, 0, 0, 0, 1, 1, 0, 1, 4, 9, 3, 4, 10, 3, 0, 1, 4, 0, 4, 0, 7, 4, 4, 1, 3, 3, 7, 1, 6, 3, 0, 4, 1, 0, 10, 0, 3, 1, 0, 1, 2, 4, 3, 3, 3, 3, 0, 4, 6, 1, 1, 7, 7, 8, 4, 3, 4, 4, 1, 6, 3, 4, 3, 4, 4, 1, 6, 7, 1, 4, 0, 1, 4, 0, 3, 4, 1, 4, 7, 11, 7, 1, 10, 4, 1, 1, 3, 2, 0, 4, 10, 2, 2, 7, 6, 7, 1, 6, 0, 4, 7, 0, 6, 0, 1, 4, 6, 7, 4, 3, 6, 1, 0, 1, 1, 4, 4, 10, 0, 7, 5, 10, 5, 0, 9, 1, 7, 4, 3, 4, 4, 7, 1, 1, 3, 0, 9, 1, 10, 1, 4, 3, 7, 4, 1, 1, 4, 6, 0, 3, 2, 4, 7, 7, 1, 0, 9, 3, 2, 1, 3, 7, 7, 9, 4, 4, 7, 3, 1, 0, 3, 1, 1, 4, 6, 0, 3, 6, 4, 4, 4, 1, 3, 1, 1, 1, 6, 0, 4, 1, 2, 1, 0, 1, 3, 1, 1, 1, 6, 0, 10, 7, 3, 1, 3, 4, 7, 4, 5, 4, 0, 1, 4, 1, 3, 0, 1, 4, 1, 6, 4, 5, 0, 0, 4, 3, 3, 4, 1, 3, 0, 3, 3, 1, 3, 0, 0, 1, 3, 4, 9, 1, 1, 0, 7, 0, 1, 0, 4, 4, 8, 4, 4, 1, 1, 4, 9, 4, 7, 1, 3, 2, 4, 1, 4, 7, 0, 0, 0, 0, 3, 0, 0, 1, 6, 0, 10, 4, 2, 0, 7, 3, 7, 3, 3, 9, 1, 0, 1, 7, 0, 0, 0, 3, 4, 6, 0, 3, 4, 7, 4, 7, 0, 0, 4, 6, 1, 7, 1, 4, 4, 4, 1, 0, 0, 1, 0, 5, 0, 0, 4, 3, 1, 6, 3, 1, 4, 0, 10, 9, 9, 6, 0, 7, 3, 1, 0, 4, 4, 0, 3, 4, 3, 4, 6, 8, 1, 4, 5, 0, 4, 6, 6, 0, 4, 1, 0, 4, 5, 7, 0, 3, 6, 4, 1, 3, 10, 1, 3, 0, 1, 0, 4, 1, 4, 1, 2, 1, 2, 3, 4, 7, 2, 1, 7, 1, 3, 0, 1, 3, 1, 3, 3, 0, 10, 1, 3, 2, 1, 6, 1, 0, 1, 6, 4, 10, 1, 2, 7, 7, 1, 4, 4, 1, 0, 10, 8, 1, 1, 7, 0, 0, 9, 0, 11, 1, 3, 10, 3, 4, 1, 3, 11, 1, 1, 3, 3, 7, 4, 1, 4, 4, 8, 3, 0, 4, 4, 0, 7, 4, 4, 6, 3, 3, 1, 0, 0, 1, 4, 6, 0, 3, 3, 0, 0, 1, 3, 8, 1, 1, 1, 3, 1, 9, 11, 2, 3, 0, 4, 4, 3, 7, 3, 1, 0, 1, 0, 0, 6, 0, 1, 4, 1, 7, 4, 1, 0, 9, 3, 1, 5, 6, 1, 4, 3, 0, 10, 3, 0, 0, 9, 2, 7, 4, 0, 8, 10, 3, 3, 4, 1, 3, 3, 4, 3, 1, 2, 4, 10, 3, 1, 0, 3, 6, 1, 3, 1, 1, 4, 9, 1, 1, 0, 7, 4, 7, 7, 1, 1, 4, 3, 2, 4, 3, 0, 0, 1, 1, 10, 1, 4, 2, 1, 1, 4, 0, 7, 3, 7, 3, 1, 0, 0, 1, 6, 0, 3, 1, 3, 4, 4, 4, 0, 7, 4, 2, 4, 5, 8, 4, 1, 3, 4, 1, 4, 2, 6, 2, 1, 1, 1, 1, 0, 0, 6, 7, 5, 1, 9, 0, 3, 1, 6, 9, 9, 1, 4, 6, 4, 0, 7, 7, 1, 0, 1, 0, 4, 3, 0, 3, 2, 0, 0, 4, 2, 0, 7, 0, 3, 4, 1, 1, 6, 3, 3, 7, 0, 1, 4, 7, 0, 1, 4, 3, 5, 3, 3, 1, 1, 1, 4, 4, 0, 6, 1, 5, 4, 4, 1, 0, 1, 3, 4, 1, 1, 3, 6, 7, 4, 1, 1, 1, 0, 8, 0, 7, 4, 0, 8, 1, 7, 6, 4, 0, 3, 4, 1, 3, 3, 6, 3, 4, 4, 0, 10, 9, 2, 6, 0, 0, 3, 1, 4, 4, 1, 7, 9, 0, 1, 4, 3, 10, 0, 7, 4, 2, 10, 4, 0, 3, 7, 3, 1, 1, 2, 0, 2, 6, 1, 4, 11, 1, 3, 4, 1, 7, 0, 3, 4, 3, 0, 3, 9, 1, 10, 0, 6, 3, 9, 6, 3, 0, 11, 4, 4, 2, 1, 4, 6, 4, 0, 1, 1, 7, 1, 3, 10, 6, 7, 4, 9, 4, 1, 6, 0, 0, 6, 4, 0, 4, 1, 0, 0, 7, 0, 4, 1, 3, 1, 1, 3, 3, 4, 1, 0, 9, 3, 4, 3, 6, 1, 9, 7, 1, 0, 4, 6, 10, 3, 6, 7, 4, 6, 0, 4, 3, 6, 0, 1, 0, 0, 1, 7, 0, 0, 6, 5, 10, 4, 1, 0, 3, 0, 1, 3, 0, 4, 1, 3, 1, 7, 3, 3, 10, 3, 9, 0, 6, 2, 6, 0, 1, 7, 10, 3, 4, 4, 4, 4, 7, 1, 4, 4, 0, 8, 1, 4, 3, 0, 4, 3, 2, 1, 8, 1, 3, 0, 3, 4, 10, 3, 4, 0, 1, 3, 1, 3, 3, 4, 1, 3, 0, 1, 7, 1, 1, 3, 4, 3, 3, 10, 10, 4, 4, 3, 0, 6, 4, 7, 0, 0, 0, 1, 6, 4, 0, 6, 4, 2, 2, 1, 8, 0, 9, 4, 0, 1, 3, 1, 5, 6, 2, 3, 9, 1, 6, 4, 1, 3, 3, 3, 3, 4, 3, 3, 3, 1, 1, 2, 4, 7, 1, 0, 4, 1, 1, 4, 0, 4, 3, 0, 0, 0, 4, 0, 4, 7, 1, 4, 0, 0, 4, 7, 0, 0, 0, 1, 3, 1, 1, 4, 1, 4, 6, 6, 0, 0, 4, 3, 1, 1, 1, 4, 4, 4, 6, 4, 0, 0, 3, 0, 5, 1, 2, 3, 1, 3, 1, 1, 7, 0, 0, 3, 1, 1, 0, 1, 0, 6, 3, 0, 10, 3, 1, 10, 3, 4, 3, 3, 1, 4, 4, 1, 3, 4, 6, 10, 3, 1, 4, 7, 3, 4, 0, 1, 3, 3, 7, 1, 0, 4, 0, 1, 1, 10, 1, 0, 9, 0, 4, 0, 8, 2, 4, 3, 1, 1, 3, 1, 2, 4, 1, 7, 3, 0, 1, 3, 0, 9, 6, 6, 0, 10, 0, 6, 1, 3, 4, 1, 6, 3, 6, 2, 5, 3, 3, 4, 7, 1, 5, 6, 1, 0, 0, 0, 0, 2, 6, 3, 3, 4, 3, 4, 1, 0, 0, 4, 1, 0, 4, 7, 7, 0, 3, 0, 0, 7, 0, 1, 3, 4, 7, 3, 3, 3, 0, 4, 0, 4, 3, 3, 4, 4, 7, 4, 0, 0, 1, 4, 0, 4, 4, 0, 3, 0, 1, 1, 1, 0, 4, 4, 3, 3, 1, 6, 1, 4, 7, 5, 4, 6, 1, 3, 10, 1, 10, 3, 4, 4, 1, 1, 6, 3, 3, 0, 6, 7, 0, 4, 3, 0, 7, 5, 9, 4, 1, 0, 3, 1, 6, 10, 0, 6, 7, 1, 4, 0, 4, 4, 11, 6, 0, 4, 3, 0, 6, 0, 1, 0, 4, 4, 6, 0, 0, 1, 3, 6, 4, 6, 7, 4, 1, 1, 4, 1, 3, 4, 1, 0, 3, 0, 3, 4, 6, 3, 1, 1, 3, 1, 4, 0, 1, 2, 1, 9, 7, 4, 0, 0, 8, 0, 1, 0, 0, 0, 4, 9, 0, 0, 7, 0, 4, 0, 2, 0, 6, 0, 7, 3, 1, 3, 0, 4, 1, 1, 1, 4, 1, 10, 4, 6, 7, 4, 6, 1, 7, 0, 3, 4, 3, 3, 7, 7, 3, 1, 1, 1, 0, 1, 4, 4, 0, 6, 0, 0, 0, 8, 4, 7, 1, 1, 7, 3, 3, 1, 4, 3, 0, 1, 0, 4, 6, 1, 3, 1, 4, 1, 3, 3, 0, 6, 1, 1, 1, 0, 0, 1, 9, 3, 1, 3, 1, 4, 1, 9, 3, 6, 0, 1, 6, 7, 4, 0, 7, 3, 2, 1, 4, 1, 1, 2, 1, 1, 5, 3, 4, 10, 1, 3, 7, 4, 4, 0, 10, 1, 0, 0, 0, 3, 3, 0, 0, 5, 3, 6, 4, 4, 1, 7, 4, 4, 0, 1, 7, 10, 4, 1, 4, 0, 4, 10, 0, 1, 1, 0, 4, 0, 0, 4, 9, 4, 1, 9, 1, 1, 0, 1, 0, 0, 3, 7, 0, 8, 0, 1, 6, 8, 5, 10, 4, 1, 0, 3, 7, 0, 0, 2, 4, 1, 0, 1, 3, 0, 1, 3, 3, 1, 1, 0, 9, 1, 0, 4, 0, 4, 6, 0, 1, 0, 1, 3, 4, 3, 0, 3, 3, 4, 1, 3, 7, 0, 0, 5, 10, 0, 1, 0, 4, 3, 3, 3, 0, 4, 1, 3, 0, 0, 1, 0, 10, 3, 6, 1, 1, 3, 4, 7, 4, 4, 4, 1, 10, 0, 1, 3, 2, 1, 1, 0, 4, 10, 5, 1, 4, 0, 10, 2, 0, 0, 8, 4, 0, 1, 4, 7, 0, 1, 6, 0, 1, 0, 1, 1, 3, 3, 1, 9, 4, 9, 1, 10, 4, 4, 0, 1, 1, 4, 1, 0, 3, 0, 6, 0, 4, 4, 5, 0, 1, 4, 1, 0, 8, 7, 4, 1, 6, 4, 4, 1, 1, 1, 4, 3, 4, 0, 0, 0, 0, 0, 1, 6, 10, 6, 7, 4, 3, 7, 6, 1, 4, 0, 7, 1, 6, 6, 5, 0, 4, 0, 3, 10, 7, 11, 4, 3, 10, 1, 1, 4, 9, 3, 4, 8, 1, 7, 0, 7, 7, 0, 6, 3, 4, 7, 4, 3, 3, 3, 6, 0, 7, 1, 6, 3, 0, 4, 4, 6, 1, 1, 0, 7, 1, 0, 5, 1, 3, 0, 3, 1, 1, 2, 4, 3, 0, 1, 7, 4, 6, 4, 0, 0, 0, 7, 2, 0, 4, 11, 0, 3, 3, 6, 9, 1, 1, 4, 0, 3, 0, 3, 6, 5, 1, 5, 3, 0, 0, 6, 3, 1, 9, 4, 0, 7, 0, 6, 0, 7, 7, 4, 0, 6, 5, 3, 1, 3, 1, 7, 1, 0, 3, 3, 7, 1, 4, 0, 1, 3, 0, 3, 0, 0, 7, 3, 0, 1, 4, 0, 0, 3, 0, 3, 0, 1, 1, 0, 9, 6, 6, 3, 8, 3, 4, 3, 7, 4, 8, 1, 1, 1, 7, 7, 4, 1, 0, 4, 7, 6, 10, 11, 4, 2, 7, 0, 1, 5, 1, 6, 7, 1, 4, 6, 1, 4, 0, 1, 3, 1, 10, 4, 0, 4, 3, 7, 10, 4, 1, 0, 1, 0, 3, 2, 6, 1, 1, 1, 4, 3, 1, 3, 0, 4, 3, 1, 6, 3, 6, 6, 4, 5, 1, 7, 0, 1, 0, 0, 1, 0, 0, 3, 0, 6, 0, 9, 3, 4, 1, 0, 2, 0, 7, 4, 4, 7, 3, 1, 9, 7, 0, 0, 2, 9, 0, 3, 3, 4, 1, 0, 4, 3, 3, 4, 3, 6, 7, 6, 5, 0, 3, 0, 4, 3, 1, 1, 7, 3, 1, 1, 0, 4, 4, 1, 1, 4, 1, 4, 3, 1, 7, 6, 3, 9, 3, 8, 4, 4, 3, 1, 6, 4, 3, 4, 4, 1, 1, 3, 1, 0, 10, 0, 3, 3, 4, 0, 3, 1, 1, 7, 4, 1, 1, 4, 0, 4, 3, 3, 5, 0, 3, 1, 10, 7, 4, 6, 0, 0, 1, 4, 4, 4, 0, 1, 0, 6, 0, 0, 5, 1, 0, 0, 0, 9, 4, 3, 0, 6, 1, 1, 0, 11, 1, 0, 0, 2, 1, 3, 0, 1, 4, 3, 2, 5, 8, 0, 4, 4, 0, 4, 1, 0, 0, 0, 7, 6, 6, 3, 1, 1, 1, 0, 4, 3, 4, 3, 3, 1, 4, 1, 10, 0, 4, 6, 0, 6, 1, 1, 0, 4, 4, 4, 2, 9, 4, 1, 1, 4, 6, 3, 0, 5, 1, 4, 4, 1, 4, 1, 4, 1, 4, 0, 4, 0, 6, 3, 4, 1, 1, 10, 3, 6, 4, 1, 3, 4, 4, 5, 1, 3, 4, 7, 0, 3, 1, 4, 4, 3, 4, 7, 4, 3, 4, 0, 6, 3, 1, 0, 4, 2, 1, 3, 8, 0, 3, 4, 4, 0, 5, 0, 1, 0, 7, 1, 4, 10, 3, 4, 7, 9, 4, 3, 0, 4, 7, 6, 1, 1, 1, 4, 6, 1, 9, 1, 1, 0, 3, 4, 2, 4, 1, 10, 1, 1, 3, 4, 8, 1, 0, 1, 3, 7, 3, 1, 1, 3, 6, 1, 6, 1, 9, 7, 1, 4, 0, 3, 4, 0, 3, 1, 6, 0, 3, 3, 3, 3, 1, 0, 1, 6, 0, 1, 7, 3, 1, 4, 3, 3, 1, 6, 7, 1, 9, 3, 0, 2, 3, 3, 3, 1, 4, 0, 1, 3, 4, 3, 0, 4, 0, 0, 0, 6, 8, 1, 0, 0, 7, 1, 9, 1, 6, 0, 3, 1, 1, 4, 1, 6, 4, 3, 1, 2, 0, 3, 1, 1, 2, 1, 10, 1, 3, 0, 1, 1, 6, 3, 7, 4, 8, 0, 3, 3, 5, 6, 3, 3, 4, 0, 9, 0, 3, 3, 0, 1, 1, 1, 0, 1, 1, 1, 10, 6, 1, 10, 4, 7, 8, 0, 4, 1, 1, 9, 3, 7, 1, 0, 1, 2, 1, 2, 7, 6, 9, 1, 3, 6, 3, 6, 3, 4, 1, 4, 0, 3, 4, 4, 0, 7, 9, 4, 4, 0, 9, 4, 10, 4, 0, 3, 1, 0, 1, 7, 3, 1, 2, 4, 9, 2, 0, 1, 1, 10, 0, 0, 3, 1, 1, 1, 1, 1, 4, 10, 0, 4, 6, 9, 3, 0, 0, 1, 10, 1, 1, 6, 4, 4, 4, 3, 7, 3, 4, 4, 1, 3, 1, 4, 0, 0, 0, 4, 6, 10, 3, 9, 3, 3, 4, 7, 4, 9, 6, 4, 4, 1, 4, 6, 7, 0, 8, 7, 3, 1, 4, 4, 1, 4, 0, 1, 1, 1, 6, 7, 1, 2, 6, 1, 0, 3, 0, 4, 0, 3, 4, 0, 1, 2, 3, 0, 1, 4, 4, 2, 2, 1, 0, 5, 3, 8, 4, 0, 1, 4, 11, 1, 1, 1, 0, 0, 7, 1, 0, 1, 1, 0, 4, 3, 3, 4, 7, 6, 4, 4, 0, 7, 0, 3, 3, 1, 9, 1, 4, 1, 1, 0, 0, 1, 7, 1, 3, 4, 0, 1, 1, 1, 4, 1, 1, 4, 0, 1, 3, 3, 3, 1, 0, 7, 3, 0, 6, 0, 6, 3, 0, 7, 3, 3, 0, 3, 3, 4, 1, 3, 10, 1, 1, 4, 0, 7, 1, 4, 7, 3, 3, 9, 1, 10, 0, 3, 7, 10, 3, 0, 1, 3, 4, 0, 1, 6, 1, 1, 0, 0, 1, 5, 4, 3, 3, 3, 0, 7, 9, 1, 8, 0, 4, 1, 10, 2, 1, 6, 3, 0, 3, 10, 6, 4, 0, 3, 4, 1, 4, 1, 3, 1, 1, 1, 4, 7, 7, 3, 0, 3, 3, 0, 0, 4, 7, 4, 4, 9, 0, 0, 4, 1, 1, 0, 7, 9, 4, 6, 1, 8, 0, 1, 4, 3, 4, 1, 1, 0, 1, 1, 6, 1, 4, 0, 0, 1, 4, 4, 1, 1, 1, 10, 4, 2, 4, 4, 3, 3, 0, 3, 7, 4, 4, 0, 4, 1, 4, 0, 1, 9, 7, 10, 7, 9, 0, 0, 1, 5, 1, 3, 3, 8, 9, 9, 1, 4, 1, 4, 1, 1, 4, 0, 3, 4, 1, 1, 7, 1, 1, 1, 6, 2, 9, 3, 4, 3, 3, 0, 0, 7, 4, 0, 2, 1, 0, 4, 1, 8, 0, 1, 3, 4, 1, 7, 2, 3, 0, 5, 0, 5, 0, 6, 0, 4, 1, 3, 3, 0, 0, 10, 9, 4, 4, 1, 7, 0, 3, 0, 3, 3, 6, 0, 7, 3, 7, 7, 4, 1, 4, 7, 11, 6, 1, 0, 0, 5, 0, 0, 0, 1, 3, 1, 4, 3, 1, 4, 9, 10, 0, 1, 5, 7, 1, 5, 7, 6, 4, 3, 2, 3, 6, 1, 3, 3, 3, 7, 4, 7, 4, 2, 7, 7, 3, 5, 7, 7, 1, 1, 7, 0, 0, 0, 10, 3, 1, 3, 10, 4, 0, 3, 9, 0, 6, 7, 3, 2, 3, 2, 1, 7, 3, 7, 0, 3, 5, 0, 10, 4, 4, 4, 4, 1, 0, 0, 0, 9, 1, 0, 0, 0, 7, 1, 0, 0, 6, 4, 3, 6, 4, 7, 3, 4, 3, 4, 4, 0, 4, 7, 4, 1, 3, 1, 10, 0, 4, 1, 2, 3, 2, 0, 1, 3, 0, 1, 0, 1, 7, 4, 4, 3, 0, 3, 1, 6, 1, 3, 0, 6, 0, 6, 0, 1, 1, 4, 4, 10, 1, 4, 0, 5, 9, 1, 3, 1, 1, 3, 4, 3, 1, 0, 4, 1, 4, 0, 10, 0, 7, 5, 0, 1, 1, 0, 0, 6, 3, 4, 3, 4, 1, 3, 4, 1, 7, 4, 0, 3, 4, 5, 0, 0, 1, 4, 1, 0, 0, 3, 10, 1, 0, 6, 0, 1, 1, 4, 1, 10, 3, 1, 3, 4, 4, 1, 4, 4, 1, 0, 1, 0, 0, 4, 4, 3, 0, 3, 0, 1, 4, 4, 1, 4, 3, 4, 4, 4, 4, 3, 0, 6, 6, 0, 3, 1, 3, 4, 0, 1, 3, 7, 1, 4, 4, 4, 9, 0, 7, 1, 9, 3, 0, 6, 7, 3, 6, 1, 10, 3, 0, 3, 4, 4, 5, 1, 7, 3, 0, 1, 3, 4, 4, 0, 0, 9, 1, 10, 0, 3, 10, 5, 3, 7, 0, 0, 4, 4, 9, 3, 1, 4, 1, 4, 7, 10, 3, 0, 3, 4, 7, 7, 2, 1, 0, 4, 2, 0, 3, 1, 5, 3, 6, 1, 1, 6, 3, 3, 10, 9, 0, 4, 0, 0, 4, 4, 2, 1, 0, 1, 7, 2, 3, 9, 4, 3, 0, 1, 4, 3, 7, 4, 11, 1, 0, 5, 3, 4, 9, 4, 0, 0, 1, 4, 0, 4, 0, 0, 0, 4, 4, 1, 1, 3, 4, 0, 6, 3, 1, 7, 3, 9, 9, 0, 6, 4, 4, 2, 1, 3, 4, 11, 0, 3, 4, 4, 0, 1, 4, 7, 3, 3, 3, 4, 7, 3, 1, 6, 0, 7, 1, 6, 4, 2, 3, 0, 0, 1, 7, 9, 1, 4, 4, 1, 6, 4, 3, 0, 1, 1, 1, 4, 6, 1, 0, 4, 4, 1, 0, 8, 4, 0, 0, 0, 7, 3, 4, 0, 4, 6, 0, 4, 3, 2, 0, 4, 0, 0, 0, 0, 4, 1, 4, 10, 1, 2, 3, 5, 5, 0, 1, 1, 7, 3, 3, 7, 0, 1, 4, 3, 3, 0, 0, 7, 1, 9, 1, 1, 6, 9, 4, 1, 1, 1, 7, 8, 7, 7, 5, 7, 7, 8, 4, 4, 10, 4, 1, 1, 0, 4, 1, 3, 1, 0, 4, 1, 1, 1, 4, 1, 6, 3, 7, 4, 4, 1, 1, 9, 4, 9, 4, 1, 4, 0, 4, 1, 1, 0, 0, 7, 4, 7, 10, 2, 6, 1, 0, 0, 4, 7, 2, 6, 0, 1, 3, 7, 0, 4, 0, 1, 1, 0, 1, 0, 10, 0, 2, 0, 4, 0, 1, 3, 1, 1, 5, 0, 1, 7, 3, 6, 4, 4, 4, 1, 3, 6, 3, 1, 4, 4, 7, 7, 4, 4, 4, 3, 0, 3, 1, 0, 3, 4, 1, 1, 1, 6, 5, 0, 3, 2, 4, 0, 0, 7, 1, 1, 1, 1, 0, 1, 1, 9, 4, 7, 3, 1, 1, 4, 2, 4, 2, 1, 3, 3, 4, 7, 9, 1, 6, 4, 3, 4, 3, 3, 7, 4, 3, 0, 6, 4, 9, 1, 6, 3, 0, 4, 1, 1, 0, 6, 10, 1, 4, 3, 3, 0, 4, 7, 0, 1, 0, 3, 6, 1, 3, 1, 4, 3, 1, 10, 3, 4, 0, 0, 0, 3, 4, 3, 7, 6, 5, 0, 2, 0, 0, 0, 1, 0, 3, 1, 4, 0, 9, 0, 0, 0, 1, 0, 4, 4, 3, 1, 7, 7, 0, 7, 2, 4, 4, 1, 10, 4, 9, 0, 0, 3, 3, 7, 0, 4, 1, 0, 3, 4, 3, 3, 3, 0, 9, 3, 4, 3, 4, 5, 6, 1, 6, 7, 3, 3, 3, 1, 4, 4, 3, 1, 1, 7, 1, 6, 4, 6, 8, 1, 0, 5, 1, 10, 4, 7, 7, 0, 2, 5, 3, 1, 6, 0, 0, 4, 0, 0, 3, 6, 4, 3, 3, 8, 1, 5, 4, 1, 4, 6, 2, 1, 0, 10, 0, 1, 3, 10, 7, 3, 4, 1, 4, 0, 0, 1, 4, 11, 4, 4, 0, 4, 1, 3, 3, 6, 1, 0, 5, 6, 3, 1, 1, 0, 1, 7, 2, 0, 3, 5, 0, 1, 6, 0, 3, 3, 7, 3, 0, 4, 0, 7, 1, 3, 7, 9, 0, 0, 1, 3, 0, 0, 2, 0, 0, 1, 2, 3, 4, 4, 1, 0, 3, 10, 6, 9, 3, 7, 1, 10, 4, 4, 4, 6, 7, 0, 7, 4, 3, 1, 4, 1, 1, 0, 1, 1, 4, 5, 0, 9, 7, 1, 4, 3, 3, 3, 3, 7, 2, 7, 1, 1, 3, 3, 4, 0, 1, 1, 4, 0, 7, 9, 0, 1, 0, 4, 1, 6, 3, 1, 4, 1, 1, 3, 10, 4, 1, 1, 0, 0, 6, 4, 3, 1, 4, 3, 0, 0, 4, 3, 0, 4, 3, 1, 3, 0, 7, 4, 8, 3, 1, 0, 4, 1, 10, 1, 1, 6, 7, 7, 1, 3, 1, 4, 0, 3, 6, 7, 1, 4, 1, 1, 4, 1, 4, 0, 4, 0, 4, 4, 0, 7, 0, 4, 4, 3, 1, 3, 0, 6, 3, 1, 1, 0, 0, 4, 0, 9, 0, 1, 0, 7, 3, 1, 4, 3, 0, 0, 3, 1, 4, 0, 1, 4, 7, 3, 6, 3, 0, 5, 3, 10, 4, 0, 5, 0, 7, 6, 4, 3, 8, 11, 7, 0, 0, 10, 2, 4, 8, 2, 5, 4, 3, 1, 3, 7, 0, 3, 7, 3, 3, 4, 4, 10, 4, 1, 1, 2, 3, 1, 3, 0, 4, 1, 4, 0, 4, 3, 0, 0, 2, 4, 3, 3, 4, 0, 4, 5, 3, 4, 3, 10, 1, 10, 1, 0, 3, 3, 6, 7, 0, 4, 4, 0, 0, 0, 1, 4, 3, 3, 1, 5, 3, 4, 1, 1, 0, 4, 6, 1, 3, 0, 6, 0, 4, 6, 3, 4, 9, 5, 4, 2, 4, 10, 4, 10, 1, 5, 4, 1, 0, 5, 10, 1, 2, 1, 5, 5, 3, 0, 1, 1, 0, 1, 3, 10, 3, 1, 3, 0, 1, 3, 7, 1, 6, 3, 4, 1, 1, 3, 0, 2, 1, 1, 4, 5, 1, 0, 3, 5, 0, 0, 0, 1, 4, 4, 7, 0, 0, 0, 0, 0, 4, 3, 4, 4, 0, 1, 10, 0, 3, 1, 1, 0, 1, 4, 1, 3, 0, 0, 0, 4, 0, 6, 2, 7, 1, 8, 0, 4, 0, 7, 0, 5, 1, 1, 4, 1, 7, 1, 4, 0, 1, 10, 3, 3, 3, 1, 0, 6, 4, 1, 1, 3, 4, 4, 9, 4, 7, 4, 0, 0, 7, 10, 0, 4, 6, 3, 1, 9, 3, 1, 4, 1, 3, 3, 1, 4, 0, 1, 7, 8, 3, 0, 3, 0, 0, 3, 4, 1, 1, 4, 6, 4, 3, 3, 3, 1, 7, 3, 4, 3, 1, 4, 1, 0, 4, 4, 6, 4, 9, 0, 9, 3, 5, 4, 10, 10, 4, 0, 3, 7, 4, 4, 7, 4, 0, 10, 0, 4, 3, 4, 1, 0, 5, 6, 1, 7, 3, 2, 0, 4, 5, 0, 6, 3, 2, 4, 0, 6, 1, 3, 10, 0, 0, 0, 4, 4, 10, 5, 3, 4, 1, 9, 6, 1, 1, 1, 5, 6, 0, 4, 1, 1, 4, 3, 0, 1, 4, 9, 0, 6, 3, 1, 3, 10, 3, 4, 0, 7, 3, 3, 7, 4, 9, 3, 4, 0, 7, 0, 1, 2, 0, 7, 5, 2, 0, 4, 1, 1, 0, 4, 0, 3, 3, 4, 6, 0, 1, 9, 1, 3, 7, 9, 7, 1, 0, 7, 3, 3, 0, 4, 1, 1, 0, 7, 3, 4, 0, 1, 0, 3, 7, 9, 0, 1, 4, 1, 4, 4, 3, 1, 4, 3, 0, 6, 7, 3, 0, 3, 4, 4, 3, 0, 3, 5, 0, 3, 6, 1, 1, 1, 8, 0, 4, 7, 4, 4, 4, 10, 7, 3, 4, 3, 9, 1, 0, 1, 10, 0, 6, 1, 4, 3, 4, 4, 4, 3, 7, 1, 3, 4, 7, 3, 6, 0, 5, 4, 2, 9, 1, 1, 0, 6, 7, 7, 0, 0, 6, 4, 7, 1, 0, 6, 1, 6, 5, 3, 6, 2, 0, 1, 1, 4, 1, 1, 1, 3, 1, 3, 5, 3, 3, 6, 6, 3, 4, 4, 3, 1, 3, 3, 1, 1, 1, 6, 6, 0, 7, 1, 7, 4, 1, 3, 7, 5, 0, 4, 2, 4, 7, 0, 4, 10, 3, 6, 3, 4, 6, 3, 4, 4, 3, 3, 6, 7, 0, 0, 4, 0, 3, 0, 1, 1, 1, 1, 4, 0, 7, 0, 10, 4, 7, 0, 9, 0, 4, 0, 4, 0, 8, 1, 1, 3, 1, 4, 1, 7, 1, 1, 5, 1, 5, 7, 1, 7, 1, 0, 1, 1, 4, 4, 1, 0, 10, 6, 0, 3, 1, 4, 6, 7, 1, 3, 3, 1, 3, 1, 0, 3, 3, 3, 4, 10, 7, 3, 1, 0, 6, 1, 3, 7, 7, 5, 4, 0, 0, 1, 4, 1, 4, 4, 4, 4, 7, 0, 0, 1, 7, 3, 11, 5, 1, 4, 1, 1, 1, 7, 2, 1, 3, 1, 1, 4, 4, 3, 0, 6, 4, 10, 1, 0, 0, 1, 6, 3, 7, 6, 5, 6, 1, 0, 9, 6, 1, 4, 1, 1, 2, 10, 4, 1, 4, 1, 0, 3, 1, 3, 4, 5, 0, 3, 10, 3, 4, 3, 5, 7, 4, 0, 10, 9, 6, 4, 4, 2, 1, 1, 7, 10, 1, 1, 3, 0, 3, 4, 3, 3, 1, 0, 4, 1, 1, 9, 10, 3, 1, 0, 7, 2, 2, 3, 8, 4, 3, 4, 7, 4, 1, 7, 10, 7, 3, 3, 4, 4, 5, 6, 0, 1, 1, 1, 1, 3, 1, 7, 10, 0, 3, 3, 1, 0, 3, 1, 3, 3, 0, 4, 1, 6, 4, 6, 4, 3, 0, 4, 4, 4, 3, 4, 3, 7, 10, 4, 1, 0, 1, 4, 4, 5, 1, 0, 6, 0, 4, 1, 8, 0, 3, 0, 1, 1, 1, 0, 1, 1, 6, 4, 0, 6, 7, 0, 1, 9, 1, 2, 0, 1, 4, 1, 2, 4, 4, 6, 7, 4, 1, 3, 4, 3, 5, 1, 3, 0, 1, 4, 3, 0, 4, 0, 1, 0, 7, 0, 1, 1, 2, 7, 6, 7, 0, 1, 0, 1, 3, 1, 2, 3, 4, 0, 1, 3, 1, 0, 7, 2, 10, 1, 7, 1, 1, 0, 0, 0, 3, 3, 3, 4, 0, 0, 1, 4, 5, 3, 1, 4, 6, 3, 4, 3, 1, 1, 4, 4, 4, 6, 0, 5, 3, 7, 4, 4, 1, 0, 0, 4, 2, 1, 1, 7, 4, 4, 1, 7, 6, 3, 7, 4, 6, 4, 7, 6, 1, 1, 6, 4, 4, 1, 7, 7, 7, 4, 1, 4, 1, 1, 1, 4, 1, 4, 0, 4, 1, 8, 1, 1, 6, 4, 4, 4, 0, 0, 0, 1, 3, 6, 1, 0, 3, 4, 4, 1, 1, 3, 6, 1, 4, 7, 0, 10, 10, 1, 10, 6, 3, 3, 7, 4, 3, 3, 1, 0, 3, 7, 3, 2, 4, 3, 4, 4, 4, 3, 1, 4, 10, 0, 9, 0, 3, 3, 1, 1, 0, 1, 3, 3, 6, 6, 3, 1, 0, 1, 4, 0, 4, 6, 6, 7, 4, 7, 6, 4, 4, 9, 10, 6, 4, 0, 0, 1, 4, 0, 3, 4, 1, 6, 3, 4, 1, 4, 4, 1, 4, 6, 2, 7, 0, 3, 1, 6, 0, 5, 1, 1, 4, 1, 2, 0, 3, 7, 1, 1, 1, 4, 4, 10, 7, 1, 3, 9, 6, 1, 3, 0, 1, 4, 6, 0, 3, 1, 4, 0, 0, 0, 1, 4, 5, 4, 10, 0, 3, 7, 0, 1, 0, 0, 4, 5, 4, 7, 9, 6, 3, 4, 8, 7, 2, 4, 2, 3, 0, 1, 3, 6, 4, 1, 5, 0, 4, 4, 0, 0, 0, 4, 3, 8, 0, 6, 0, 4, 3, 1, 0, 5, 1, 0, 4, 0, 4, 1, 4, 4, 3, 0, 4, 1, 1, 0, 0, 6, 6, 0, 4, 9, 0, 3, 3, 3, 0, 3, 0, 6, 7, 3, 0, 3, 6, 2, 3, 1, 0, 1, 3, 6, 1, 9, 6, 3, 0, 6, 4, 6, 2, 3, 1, 2, 4, 3, 0, 4, 0, 4, 3, 1, 4, 0, 6, 6, 3, 6, 1, 1, 0, 1, 7, 4, 0, 1, 3, 1, 4, 1, 1, 1, 1, 0, 4, 1, 0, 9, 0, 1, 4, 4, 4, 10, 6, 0, 3, 4, 2, 0, 1, 3, 1, 5, 1, 4, 1, 4, 11, 2, 7, 0, 2, 2, 0, 3, 7, 1, 5, 3, 4, 10, 6, 3, 0, 3, 4, 3, 7, 1, 3, 0, 7, 3, 0, 2, 3, 0, 9, 0, 9, 4, 1, 0, 4, 2, 1, 4, 1, 3, 4, 1, 0, 7, 4, 1, 3, 0, 4, 3, 4, 3, 3, 1, 4, 3, 7, 3, 3, 1, 0, 7, 0, 6, 0, 0, 3, 7, 4, 1, 1, 0, 5, 4, 4, 2, 2, 3, 4, 4, 4, 4, 0, 2, 0, 0, 4, 1, 2, 0, 1, 1, 1, 6, 9, 7, 1, 7, 3, 0, 0, 9, 1, 4, 6, 6, 4, 4, 3, 9, 0, 4, 4, 1, 6, 1, 3, 1, 0, 1, 10, 6, 1, 1, 1, 6, 10, 9, 4, 4, 0, 1, 7, 10, 6, 4, 4, 2, 6, 1, 1, 0, 1, 4, 1, 10, 4, 4, 3, 1, 10, 1, 1, 1, 4, 3, 9, 10, 7, 1, 3, 1, 1, 4, 4, 1, 1, 0, 3, 5, 0, 0, 3, 10, 2, 1, 1, 0, 1, 0, 1, 5, 6, 0, 1, 4, 3, 3, 1, 7, 0, 10, 9, 3, 0, 4, 7, 1, 0, 7, 1, 3, 1, 0, 10, 3, 7, 1, 3, 0, 4, 2, 5, 1, 0, 4, 3, 4, 6, 0, 0, 3, 1, 3, 1, 1, 3, 7, 8, 0, 10, 1, 1, 1, 1, 1, 9, 1, 1, 0, 0, 0, 1, 1, 1, 0, 1, 4, 1, 1, 10, 1, 0, 0, 7, 3, 0, 4, 7, 5, 0, 2, 4, 1, 4, 6, 4, 3, 1, 9, 6, 4, 6, 7, 1, 0, 4, 4, 6, 4, 7, 0, 7, 0, 7, 3, 1, 4, 10, 5, 7, 9, 1, 3, 6, 7, 4, 1, 0, 1, 0, 4, 0, 0, 5, 4, 0, 6, 3, 2, 0, 1, 1, 5, 5, 1, 5, 0, 7, 4, 1, 3, 3, 2, 1, 4, 4, 10, 0, 1, 1, 3, 4, 8, 6, 1, 0, 1, 4, 0, 4, 1, 0, 0, 4, 10, 4, 0, 0, 1, 0, 1, 3, 1, 4, 0, 3, 1, 0, 3, 4, 5, 1, 3, 6, 7, 0, 7, 0, 4, 10, 3, 3, 4, 10, 1, 7, 3, 1, 1, 0, 1, 4, 0, 6, 1, 0, 1, 0, 4, 4, 2, 3, 3, 1, 3, 3, 6, 3, 1, 1, 3, 3, 0, 4, 4, 2, 0, 1, 0, 0, 3, 2, 3, 0, 1, 0, 1, 1, 7, 4, 10, 4, 3, 1, 1, 1, 6, 0, 0, 0, 0, 4, 4, 4, 1, 0, 7, 3, 4, 2, 3, 1, 9, 3, 4, 0, 0, 3, 1, 1, 0, 6, 4, 1, 1, 10, 4, 4, 4, 4, 3, 2, 1, 1, 1, 3, 0, 0, 4, 0, 2, 1, 6, 3, 5, 1, 0, 4, 3, 1, 1, 1, 3, 7, 10, 1, 0, 4, 4, 0, 4, 10, 8, 1, 4, 10, 6, 1, 4, 0, 4, 0, 0, 1, 1, 4, 1, 4, 9, 1, 3, 0, 2, 3, 1, 2, 6, 1, 1, 1, 1, 2, 5, 0, 6, 3, 8, 0, 1, 7, 0, 1, 3, 1, 6, 10, 3, 0, 8, 7, 3, 0, 0, 1, 1, 1, 4, 8, 1, 5, 0, 6, 5, 7, 1, 1, 7, 6, 0, 4, 1, 6, 1, 1, 0, 10, 0, 1, 0, 0, 4, 4, 2, 4, 3, 4, 0, 0, 10, 1, 10, 0, 2, 7, 1, 0, 4, 10, 3, 0, 1, 0, 4, 1, 0, 5, 1, 3, 11, 3, 0, 3, 0, 0, 4, 1, 1, 7, 6, 6, 4, 4, 7, 2, 1, 4, 6, 3, 4, 7, 4, 7, 4, 1, 0, 0, 1, 1, 1, 2, 6, 5, 7, 5, 3, 4, 2, 10, 4, 4, 3, 0, 4, 7, 4, 6, 3, 4, 3, 3, 2, 0, 1, 1, 1, 6, 9, 4, 6, 2, 3, 7, 0, 7, 3, 4, 10, 7, 4, 1, 4, 4, 3, 10, 3, 5, 0, 2, 2, 0, 4, 0, 4, 4, 9, 0, 0, 0, 6, 1, 3, 4, 4, 6, 1, 6, 7, 0, 0, 3, 3, 1, 9, 1, 4, 3, 3, 0, 6, 0, 7, 4, 4, 0, 5, 0, 6, 0, 6, 5, 0, 6, 3, 0, 4, 4, 0, 3, 2, 4, 7, 10, 4, 2, 0, 0, 6, 7, 4, 3, 0, 4, 2, 0, 3, 5, 7, 1, 3, 0, 0, 3, 1, 1, 4, 4, 1, 0, 0, 0, 7, 1, 2, 2, 0, 0, 4, 6, 1, 4, 0, 0, 1, 1, 0, 0, 5, 3, 1, 4, 4, 1, 6, 7, 3, 1, 4, 3, 7, 4, 9, 1, 1, 9, 1, 3, 1, 0, 4, 0, 6, 1, 3, 1, 4, 4, 4, 0, 0, 1, 2, 1, 10, 4, 1, 0, 3, 3, 6, 7, 6, 7, 3, 2, 7, 0, 4, 5, 3, 1, 0, 1, 4, 4, 0, 0, 2, 1, 0, 4, 4, 7, 4, 3, 6, 3, 1, 2, 1, 3, 0, 1, 1, 0, 1, 0, 1, 6, 1, 7, 7, 0, 4, 4, 1, 1, 2, 9, 4, 0, 3, 7, 7, 0, 7, 4, 3, 10, 5, 0, 0, 3, 0, 7, 0, 7, 0, 1, 0, 5, 1, 7, 3, 4, 9, 1, 3, 4, 3, 0, 4, 0, 4, 0, 0, 9, 2, 0, 7, 4, 3, 10, 1, 0, 0, 4, 6, 6, 7, 3, 1, 0, 4, 4, 4, 0, 3, 1, 4, 3, 0, 3, 3, 0, 0, 9, 4, 1, 1, 0, 0, 1, 2, 1, 0, 6, 1, 1, 0, 4, 0, 3, 0, 3, 7, 4, 1, 3, 4, 3, 6, 7, 3, 0, 6, 2, 0, 3, 9, 0, 7, 4, 7, 2, 5, 3, 4, 6, 0, 6, 0, 1, 0, 1, 4, 4, 4, 1, 1, 3, 1, 10, 3, 0, 7, 3, 7, 1, 3, 1, 6, 6, 7, 3, 0, 3, 4, 1, 3, 6, 0, 4, 0, 1, 3, 3, 7, 4, 2, 6, 1, 4, 4, 3, 7, 0, 0, 1, 4, 2, 10, 0, 3, 1, 7, 1, 4, 3, 7, 4, 6, 2, 0, 1, 9, 3, 9, 1, 0, 5, 3, 3, 0, 4, 4, 1, 6, 1, 1, 0, 0, 1, 3, 0, 3, 0, 3, 0, 4, 8, 4, 4, 4, 3, 0, 1, 3, 4, 7, 3, 0, 0, 1, 3, 4, 6, 4, 1, 7, 4, 3, 1, 6, 0, 3, 4, 1, 1, 0, 4, 4, 3, 3, 1, 1, 0, 0, 1, 1, 4, 0, 2, 4, 1, 2, 1, 3, 8, 1, 0, 0, 4, 1, 3, 0, 0, 4, 3, 9, 6, 1, 6, 3, 3, 10, 0, 7, 3, 3, 0, 3, 0, 3, 1, 0, 2, 4, 4, 4, 0, 4, 4, 1, 6, 0, 0, 1, 0, 3, 1, 3, 0, 0, 3, 1, 4, 3, 3, 6, 9, 7, 4, 6, 0, 6, 6, 3, 4, 7, 7, 4, 0, 4, 4, 10, 6, 6, 7, 7, 1, 0, 0, 6, 4, 3, 0, 0, 1, 0, 0, 0, 0, 4, 6, 4, 2, 3, 1, 1, 0, 0, 4, 4, 3, 6, 1, 1, 1, 1, 1, 6, 5, 0, 3, 1, 6, 1, 0, 4, 0, 1, 4, 4, 7, 4, 1, 4, 4, 4, 0, 4, 6, 7, 1, 1, 4, 0, 3, 1, 1, 1, 0, 0, 4, 1, 1, 0, 4, 0, 6, 0, 1, 4, 1, 0, 1, 4, 7, 4, 4, 0, 3, 4, 1, 1, 0, 3, 0, 4, 5, 9, 10, 0, 0, 7, 4, 4, 5, 1, 0, 3, 3, 0, 4, 4, 3, 1, 4, 0, 3, 7, 3, 7, 3, 2, 0, 6, 10, 4, 3, 0, 3, 8, 2, 6, 4, 4, 4, 1, 5, 4, 4, 2, 4, 6, 3, 0, 0, 0, 4, 1, 4, 1, 1, 0, 1, 0, 4, 3, 0, 4, 3, 0, 6, 8, 1, 5, 3, 1, 0, 1, 0, 4, 3, 3, 0, 3, 3, 8, 2, 0, 0, 1, 1, 1, 0, 0, 0, 1, 7, 1, 1, 3, 0, 1, 1, 3, 7, 1, 0, 3, 9, 1, 0, 10, 4, 3, 1, 3, 0, 0, 1, 1, 0, 1, 3, 2, 0, 1, 1, 4, 0, 1, 3, 1, 0, 1, 4, 4, 1, 1, 4, 4, 9, 3, 0, 1, 0, 0, 3, 6, 3, 0, 4, 6, 0, 3, 0, 4, 1, 4, 3, 0, 2, 4, 4, 1, 3, 4, 5, 5, 1, 1, 0, 0, 4, 10, 0, 1, 4, 7, 0, 3, 1, 4, 3, 4, 4, 7, 7, 4, 1, 3, 0, 1, 1, 4, 4, 6, 7, 6, 0, 1, 1, 7, 6, 1, 1, 10, 0, 1, 3, 1, 1, 3, 0, 4, 3, 6, 6, 6, 3, 0, 1, 6, 4, 1, 4, 2, 1, 6, 4, 0, 4, 5, 3, 4, 1, 0, 3, 0, 0, 0, 0, 7, 4, 4, 4, 3, 1, 3, 9, 3, 0, 0, 0, 5, 3, 4, 0, 1, 3, 7, 1, 3, 0, 0, 4, 6, 0, 6, 0, 4, 1, 10, 0, 10, 1, 0, 7, 4, 7, 1, 4, 9, 0, 1, 7, 3, 0, 1, 2, 3, 1, 6, 10, 7, 7, 4, 4, 1, 0, 1, 0, 10, 2, 0, 11, 4, 0, 7, 4, 0, 7, 0, 4, 5, 9, 3, 1, 3, 1, 1, 1, 3, 1, 7, 0, 7, 3, 4, 7, 0, 1, 6, 1, 6, 1, 0, 6, 7, 1, 1, 4, 0, 4, 1, 0, 5, 4, 10, 1, 0, 4, 3, 7, 1, 3, 4, 2, 4, 1, 7, 6, 3, 0, 1, 4, 10, 3, 4, 0, 3, 4, 5, 6, 1, 7, 3, 0, 5, 0, 0, 7, 7, 3, 0, 10, 9, 7, 1, 1, 7, 3, 1, 2, 1, 0, 9, 0, 3, 3, 0, 1, 4, 4, 1, 1, 0, 1, 1, 4, 1, 4, 3, 3, 3, 3, 0, 6, 1, 10, 1, 4, 1, 6, 7, 4, 0, 8, 7, 1, 9, 1, 8, 0, 3, 3, 1, 3, 1, 0, 1, 7, 4, 4, 3, 4, 1, 6, 4, 9, 1, 0, 3, 1, 1, 0, 4, 2, 4, 4, 0, 1, 7, 1, 8, 4, 4, 4, 3, 10, 3, 3, 0, 3, 3, 2, 3, 1, 4, 7, 1, 9, 3, 1, 1, 1, 0, 3, 0, 4, 7, 3, 6, 3, 3, 1, 3, 4, 1, 7, 1, 7, 4, 0, 9, 7, 4, 5, 4, 0, 1, 3, 2, 1, 1, 10, 4, 6, 1, 7, 4, 0, 3, 4, 8, 0, 4, 1, 4, 9, 4, 4, 1, 0, 3, 1, 1, 1, 1, 9, 1, 4, 3, 4, 1, 4, 3, 3, 0, 1, 1, 7, 3, 4, 1, 3, 4, 0, 4, 0, 4, 5, 6, 0, 9, 4, 4, 7, 0, 1, 4, 7, 3, 3, 0, 1, 4, 0, 3, 3, 1, 4, 4, 4, 3, 0, 4, 0, 0, 0, 6, 1, 1, 4, 6, 1, 4, 1, 3, 4, 3, 3, 0, 6, 0, 4, 1, 6, 6, 4, 0, 1, 4, 0, 10, 4, 9, 4, 3, 3, 9, 0, 3, 0, 0, 0, 6, 0, 5, 1, 0, 2, 4, 1, 4, 4, 0, 1, 6, 0, 6, 3, 4, 8, 6, 1, 0, 0, 0, 1, 3, 3, 3, 4, 0, 0, 0, 1, 1, 4, 4, 6, 1, 3, 1, 3, 1, 4, 1, 4, 0, 1, 1, 7, 5, 3, 1, 3, 7, 9, 3, 1, 10, 1, 4, 4, 1, 1, 0, 0, 1, 1, 4, 4, 1, 0, 1, 1, 4, 2, 3, 2, 0, 4, 1, 2, 2, 4, 1, 5, 0, 6, 5, 1, 1, 3, 3, 3, 7, 6, 0, 6, 0, 1, 3, 0, 1, 4, 0, 9, 0, 1, 6, 3, 6, 1, 7, 1, 6, 2, 3, 0, 1, 4, 1, 3, 4, 1, 3, 4, 0, 0, 7, 1, 4, 1, 0, 3, 1, 4, 5, 0, 4, 4, 5, 4, 1, 0, 2, 4, 3, 1, 1, 0, 4, 4, 1, 1, 4, 4, 3, 2, 1, 4, 1, 4, 3, 6, 8, 0, 6, 4, 4, 4, 4, 2, 0, 0, 3, 1, 3, 0, 1, 1, 3, 7, 3, 9, 5, 4, 7, 1, 5, 3, 4, 1, 2, 4, 4, 6, 9, 10, 10, 3, 10, 4, 3, 0, 1, 3, 4, 4, 6, 1, 1, 4, 3, 4, 1, 7, 0, 0, 3, 4, 0, 0, 4, 0, 1, 1, 4, 0, 0, 3, 1, 0, 1, 1, 6, 3, 1, 3, 7, 1, 0, 4, 1, 1, 10, 0, 1, 3, 1, 9, 0, 1, 0, 0, 3, 0, 4, 1, 0, 1, 10, 4, 0, 1, 8, 0, 4, 1, 3, 3, 7, 3, 3, 5, 1, 0, 0, 4, 7, 4, 2, 7, 4, 0, 0, 6, 0, 10, 0, 4, 1, 3, 8, 1, 7, 1, 3, 2, 1, 0, 0, 3, 7, 1, 0, 0, 0, 5, 7, 10, 0, 3, 1, 7, 6, 1, 3, 4, 1, 1, 4, 3, 1, 0, 4, 4, 1, 4, 0, 3, 0, 1, 0, 0, 7, 9, 1, 1, 0, 3, 7, 1, 4, 4, 1, 4, 5, 0, 4, 0, 4, 3, 0, 1, 0, 4, 1, 0, 1, 4, 7, 6, 1, 0, 2, 1, 0, 0, 6, 1, 3, 4, 4, 3, 1, 1, 0, 7, 1, 7, 4, 0, 6, 0, 4, 3, 3, 4, 3, 4, 9, 0, 7, 4, 3, 4, 4, 11, 3, 1, 1, 4, 9, 3, 6, 0, 3, 0, 3, 6, 1, 4, 3, 1, 3, 4, 4, 1, 3, 3, 0, 1, 1, 1, 3, 7, 5, 0, 3, 3, 1, 0, 3, 4, 1, 0, 3, 7, 1, 9, 4, 0, 0, 1, 4, 0, 4, 1, 7, 0, 1, 3, 2, 0, 10, 0, 5, 2, 9, 4, 1, 6, 3, 4, 3, 1, 7, 6, 1, 6, 1, 5, 0, 3, 4, 0, 1, 0, 3, 1, 4, 1, 3, 3, 3, 7, 4, 1, 5, 0, 7, 1, 3, 3, 4, 3, 0, 1, 0, 1, 0, 3, 2, 0, 4, 4, 0, 1, 6, 1, 6, 1, 7, 3, 0, 1, 5, 1, 4, 1, 1, 1, 1, 4, 7, 6, 9, 0, 0, 3, 7, 0, 4, 3, 1, 1, 4, 3, 4, 0, 1, 0, 4, 0, 6, 10, 6, 1, 4, 3, 4, 4, 7, 7, 3, 1, 4, 6, 4, 4, 1, 0, 7, 0, 6, 1, 6, 0, 0, 3, 1, 6, 7, 4, 0, 3, 0, 5, 1, 3, 4, 0, 3, 1, 1, 0, 0, 4, 4, 6, 6, 1, 1, 4, 6, 0, 4, 5, 1, 4, 7, 1, 3, 4, 3, 4, 3, 1, 7, 3, 4, 6, 3, 0, 0, 6, 1, 1, 1, 9, 3, 0, 4, 3, 4, 3, 3, 3, 0, 3, 10, 1, 3, 4, 3, 6, 1, 3, 0, 1, 7, 4, 3, 3, 4, 1, 4, 4, 7, 3, 0, 3, 2, 3, 2, 4, 7, 6, 1, 1, 0, 4, 3, 4, 4, 4, 4, 4, 5, 4, 2, 7, 4, 0, 3, 4, 4, 0, 1, 1, 0, 0, 1, 4, 6, 0, 3, 1, 3, 3, 4, 1, 0, 4, 0, 7, 1, 1, 4, 1, 0, 6, 4, 4, 1, 4, 1, 0, 3, 3, 10, 5, 7, 3, 7, 2, 1, 4, 6, 4, 6, 0, 3, 0, 3, 1, 6, 0, 7, 9, 7, 0, 6, 0, 4, 1, 4, 1, 0, 0, 7, 1, 0, 9, 7, 7, 4, 4, 0, 2, 7, 10, 1, 3, 4, 2, 4, 0, 3, 4, 1, 3, 0, 4, 7, 1, 0, 1, 5, 2, 1, 4, 0, 9, 4, 0, 0, 4, 3, 4, 4, 7, 3, 7, 4, 3, 3, 4, 1, 7, 4, 7, 4, 1, 3, 3, 3, 4, 0, 0, 3, 4, 2, 6, 0, 4, 6, 6, 6, 1, 0, 4, 4, 3, 0, 9, 3, 0, 3, 7, 4, 4, 0, 1, 3, 3, 1, 4, 0, 3, 0, 4, 3, 4, 6, 4, 6, 0, 0, 3, 0, 10, 0, 6, 1, 0, 4, 4, 1, 3, 1, 7, 3, 3, 7, 8, 0, 0, 0, 7, 2, 3, 7, 5, 4, 3, 0, 7, 1, 3, 1, 4, 4, 3, 0, 1, 4, 10, 4, 3, 7, 3, 0, 0, 10, 6, 7, 3, 3, 3, 0, 0, 3, 1, 1, 0, 1, 3, 1, 3, 2, 1, 4, 2, 7, 1, 1, 1, 7, 0, 6, 1, 0, 4, 3, 4, 4, 6, 3, 1, 3, 1, 4, 1, 4, 7, 1, 7, 7, 1, 1, 0, 1, 1, 6, 4, 4, 9, 10, 3, 4, 4, 0, 3, 3, 2, 0, 0, 1, 1, 4, 1, 0, 3, 3, 0, 3, 1, 0, 3, 4, 0, 6, 0, 3, 7, 4, 5, 1, 1, 1, 0, 3, 3, 1, 2, 1, 3, 7, 4, 3, 0, 5, 2, 1, 1, 0, 4, 3, 1, 4, 4, 3, 1, 4, 3, 4, 3, 1, 0, 1, 7, 1, 3, 9, 5, 9, 4, 4, 3, 7, 9, 0, 1, 0, 3, 10, 1, 7, 3, 0, 1, 0, 1, 1, 7, 1, 1, 1, 1, 3, 4, 6, 5, 4, 1, 4, 7, 6, 6, 0, 4, 3, 3, 0, 3, 1, 5, 1, 10, 3, 0, 3, 3, 0, 5, 1, 0, 7, 1, 3, 0, 4, 4, 3, 3, 4, 2, 3, 6, 4, 0, 4, 7, 2, 4, 1, 0, 1, 4, 3, 0, 3, 4, 3, 1, 4, 1, 4, 10, 0, 0, 0, 9, 4, 4, 4, 7, 3, 9, 4, 4, 3, 4, 0, 3, 3, 1, 4, 7, 10, 4, 5, 7, 1, 0, 6, 7, 1, 4, 1, 6, 4, 0, 4, 0, 4, 1, 3, 0, 4, 2, 3, 4, 7, 9, 10, 0, 0, 4, 0, 6, 6, 3, 7, 9, 0, 6, 1, 0, 4, 3, 0, 9, 0, 5, 1, 7, 1, 0, 4, 4, 3, 0, 3, 0, 1, 7, 1, 4, 6, 4, 1, 0, 3, 1, 4, 3, 2, 6, 2, 1, 1, 0, 3, 4, 4, 1, 0, 0, 1, 3, 6, 7, 2, 4, 4, 1, 2, 6, 0, 7, 0, 0, 1, 4, 4, 1, 2, 4, 1, 1, 0, 0, 1, 10, 3, 0, 1, 0, 3, 4, 7, 0, 1, 3, 10, 10, 0, 1, 3, 4, 3, 7, 4, 4, 10, 4, 7, 5, 4, 1, 2, 3, 3, 1, 3, 0, 1, 5, 5, 1, 3, 1, 1, 3, 3, 8, 0, 4, 1, 4, 1, 4, 0, 1, 9, 0, 0, 6, 2, 3, 1, 3, 5, 7, 3, 1, 5, 3, 4, 4, 3, 3, 0, 9, 0, 4, 8, 1, 4, 10, 3, 5, 3, 1, 1, 3, 4, 0, 4, 9, 7, 1, 1, 4, 0, 0, 4, 1, 3, 4, 10, 0, 0, 0, 0, 1, 0, 0, 4, 0, 3, 3, 3, 3, 0, 6, 3, 4, 4, 1, 6, 0, 0, 0, 1, 6, 4, 4, 1, 3, 0, 0, 1, 0, 3, 2, 4, 0, 3, 0, 0, 1, 5, 2, 0, 4, 2, 7, 4, 1, 0, 1, 0, 1, 0, 4, 1, 9, 1, 5, 4, 3, 0, 3, 3, 1, 1, 6, 0, 3, 4, 4, 1, 0, 5, 4, 3, 0, 1, 4, 0, 0, 0, 4, 4, 6, 1, 5, 4, 0, 4, 7, 9, 7, 1, 7, 0, 1, 4, 3, 3, 1, 4, 4, 0, 7, 1, 7, 0, 7, 3, 1, 0, 0, 4, 3, 1, 9, 4, 1, 2, 9, 9, 1, 4, 1, 9, 1, 0, 4, 4, 3, 0, 1, 5, 1, 3, 1, 2, 3, 0, 4, 6, 3, 1, 0, 0, 0, 0, 0, 0, 0, 3, 3, 7, 1, 2, 7, 1, 1, 10, 0, 4, 3, 3, 0, 0, 6, 1, 1, 3, 4, 0, 0, 3, 4, 3, 4, 0, 0, 1, 1, 0, 4, 0, 0, 0, 6, 7, 2, 4, 3, 1, 0, 0, 1, 4, 2, 1, 4, 0, 1, 1, 6, 1, 4, 1, 3, 0, 1, 0, 5, 5, 9, 4, 1, 4, 4, 4, 1, 1, 4, 4, 0, 0, 11, 1, 4, 0, 1, 7, 1, 0, 6, 1, 7, 6, 1, 4, 6, 0, 4, 6, 1, 1, 3, 1, 5, 4, 1, 1, 0, 1, 3, 1, 6, 3, 1, 3, 0, 7, 0, 4, 0, 3, 6, 4, 6, 3, 6, 1, 1, 3, 1, 2, 5, 1, 6, 0, 3, 6, 0, 3, 0, 9, 1, 8, 0, 7, 10, 3, 7, 10, 0, 4, 1, 6, 6, 3, 4, 0, 7, 1, 4, 1, 1, 7, 0, 4, 1, 3, 6, 0, 5, 0, 1, 1, 7, 7, 6, 5, 4, 0, 4, 4, 4, 1, 2, 6, 1, 1, 7, 0, 4, 9, 9, 7, 1, 9, 7, 1, 5, 4, 0, 10, 3, 1, 1, 0, 1, 1, 2, 0, 0, 3, 3, 4, 1, 4, 1, 0, 1, 7, 10, 6, 2, 6, 1, 1, 4, 0, 7, 1, 7, 0, 6, 10, 3, 6, 0, 3, 1, 6, 1, 3, 3, 2, 1, 11, 3, 0, 0, 0, 4, 7, 1, 3, 1, 0, 4, 0, 3, 3, 6, 9, 7, 2, 8, 1, 10, 4, 3, 1, 3, 0, 4, 6, 6, 1, 1, 4, 1, 4, 3, 8, 0, 0, 6, 0, 10, 10, 3, 4, 0, 4, 4, 1, 9, 2, 3, 6, 7, 1, 6, 4, 4, 10, 10, 1, 4, 3, 1, 4, 1, 7, 1, 0, 1, 1, 7, 9, 4, 0, 1, 11, 6, 4, 5, 4, 7, 4, 3, 1, 0, 0, 0, 7, 9, 1, 3, 1, 4, 3, 3, 7, 4, 0, 1, 9, 0, 1, 0, 0, 6, 2, 4, 1, 4, 6, 0, 2, 1, 9, 3, 1, 4, 3, 9, 3, 1, 4, 4, 0, 5, 3, 1, 4, 4, 0, 0, 9, 7, 1, 0, 6, 4, 1, 1, 3, 4, 8, 1, 0, 6, 7, 0, 4, 0, 1, 0, 7, 7, 2, 4, 0, 6, 1, 4, 3, 4, 4, 1, 1, 0, 2, 1, 3, 0, 3, 0, 4, 7, 0, 0, 1, 0, 1, 4, 7, 1, 1, 1, 4, 3, 4, 7, 1, 3, 3, 4, 10, 4, 0, 3, 2, 1, 0, 4, 6, 4, 6, 4, 5, 1, 0, 4, 3, 4, 3, 0, 4, 10, 1, 0, 7, 4, 4, 7, 9, 1, 1, 0, 4, 1, 6, 4, 4, 1, 7, 1, 4, 0, 0, 10, 4, 10, 3, 1, 4, 5, 4, 4, 7, 3, 0, 1, 7, 7, 4, 0, 0, 7, 0, 7, 7, 0, 1, 1, 5, 0, 4, 8, 3, 11, 9, 4, 0, 3, 7, 4, 4, 6, 3, 4, 4, 1, 4, 3, 0, 3, 4, 0, 7, 1, 1, 4, 4, 3, 0, 1, 1, 1, 0, 0, 1, 4, 4, 0, 1, 6, 0, 0, 4, 7, 4, 1, 9, 0, 1, 4, 4, 3, 1, 9, 1, 7, 3, 0, 1, 1, 7, 1, 4, 4, 4, 4, 4, 4, 8, 3, 1, 6, 0, 10, 4, 0, 1, 0, 3, 4, 6, 1, 3, 4, 1, 5, 1, 7, 0, 6, 0, 4, 3, 3, 3, 3, 5, 4, 7, 9, 0, 4, 1, 3, 1, 0, 3, 1, 7, 4, 1, 6, 4, 4, 3, 3, 0, 1, 3, 8, 10, 3, 1, 1, 5, 6, 4, 4, 1, 0, 1, 7, 3, 5, 7, 1, 9, 0, 1, 0, 2, 7, 7, 4, 1, 6, 7, 3, 7, 2, 1, 3, 10, 4, 1, 5, 6, 2, 6, 1, 4, 1, 1, 9, 7, 7, 7, 1, 1, 3, 7, 6, 3, 1, 1, 5, 1, 0, 0, 3, 0, 1, 0, 3, 6, 9, 7, 2, 5, 6, 1, 10, 3, 0, 1, 6, 1, 0, 6, 1, 1, 0, 0, 1, 4, 9, 1, 7]\n"
     ]
    }
   ],
   "source": [
    "print(predict_df)"
   ]
  },
  {
   "cell_type": "code",
   "execution_count": 78,
   "id": "1b0713b2-f84b-40f9-9df7-a532418e13b1",
   "metadata": {},
   "outputs": [
    {
     "name": "stdout",
     "output_type": "stream",
     "text": [
      "4\n"
     ]
    }
   ],
   "source": [
    "print(int(predict_df[0]))"
   ]
  },
  {
   "cell_type": "code",
   "execution_count": 81,
   "id": "365218f9-d175-434f-b84f-3050e4307a5d",
   "metadata": {},
   "outputs": [
    {
     "data": {
      "text/html": [
       "<div>\n",
       "<style scoped>\n",
       "    .dataframe tbody tr th:only-of-type {\n",
       "        vertical-align: middle;\n",
       "    }\n",
       "\n",
       "    .dataframe tbody tr th {\n",
       "        vertical-align: top;\n",
       "    }\n",
       "\n",
       "    .dataframe thead th {\n",
       "        text-align: right;\n",
       "    }\n",
       "</style>\n",
       "<table border=\"1\" class=\"dataframe\">\n",
       "  <thead>\n",
       "    <tr style=\"text-align: right;\">\n",
       "      <th></th>\n",
       "      <th>ImageID</th>\n",
       "      <th>ans</th>\n",
       "    </tr>\n",
       "  </thead>\n",
       "  <tbody>\n",
       "    <tr>\n",
       "      <th>0</th>\n",
       "      <td>cbc5c6e168e63498590db46022617123f1fe1268.jpg</td>\n",
       "      <td>4</td>\n",
       "    </tr>\n",
       "    <tr>\n",
       "      <th>1</th>\n",
       "      <td>0e72482bf56b3581c081f7da2a6180b8792c7089.jpg</td>\n",
       "      <td>1</td>\n",
       "    </tr>\n",
       "    <tr>\n",
       "      <th>2</th>\n",
       "      <td>b549040c49190cedc41327748aeb197c1670f14d.jpg</td>\n",
       "      <td>4</td>\n",
       "    </tr>\n",
       "    <tr>\n",
       "      <th>3</th>\n",
       "      <td>4f9cb2a045c6d5b9e50ad3459ea7b791eb6e18bc.jpg</td>\n",
       "      <td>4</td>\n",
       "    </tr>\n",
       "    <tr>\n",
       "      <th>4</th>\n",
       "      <td>248428d9a4a5b6229a7081c32851b90cb8d38d0c.jpg</td>\n",
       "      <td>3</td>\n",
       "    </tr>\n",
       "    <tr>\n",
       "      <th>...</th>\n",
       "      <td>...</td>\n",
       "      <td>...</td>\n",
       "    </tr>\n",
       "    <tr>\n",
       "      <th>12595</th>\n",
       "      <td>d71d4570505d6af8f777690e63edfa8d85ea4476.jpg</td>\n",
       "      <td>1</td>\n",
       "    </tr>\n",
       "    <tr>\n",
       "      <th>12596</th>\n",
       "      <td>6cf1300e8e218716728d5820c0bab553306c2cfd.jpg</td>\n",
       "      <td>4</td>\n",
       "    </tr>\n",
       "    <tr>\n",
       "      <th>12597</th>\n",
       "      <td>8140edbba31c3a824e817e6d5fb95343199e2387.jpg</td>\n",
       "      <td>9</td>\n",
       "    </tr>\n",
       "    <tr>\n",
       "      <th>12598</th>\n",
       "      <td>030d439efe6fb5a7bafda45a393fc19f2bf57f54.jpg</td>\n",
       "      <td>1</td>\n",
       "    </tr>\n",
       "    <tr>\n",
       "      <th>12599</th>\n",
       "      <td>f1e0b9594ae9f72571f0a9dc67406ad41f2edab0.jpg</td>\n",
       "      <td>7</td>\n",
       "    </tr>\n",
       "  </tbody>\n",
       "</table>\n",
       "<p>12600 rows × 2 columns</p>\n",
       "</div>"
      ],
      "text/plain": [
       "                                            ImageID  ans\n",
       "0      cbc5c6e168e63498590db46022617123f1fe1268.jpg    4\n",
       "1      0e72482bf56b3581c081f7da2a6180b8792c7089.jpg    1\n",
       "2      b549040c49190cedc41327748aeb197c1670f14d.jpg    4\n",
       "3      4f9cb2a045c6d5b9e50ad3459ea7b791eb6e18bc.jpg    4\n",
       "4      248428d9a4a5b6229a7081c32851b90cb8d38d0c.jpg    3\n",
       "...                                             ...  ...\n",
       "12595  d71d4570505d6af8f777690e63edfa8d85ea4476.jpg    1\n",
       "12596  6cf1300e8e218716728d5820c0bab553306c2cfd.jpg    4\n",
       "12597  8140edbba31c3a824e817e6d5fb95343199e2387.jpg    9\n",
       "12598  030d439efe6fb5a7bafda45a393fc19f2bf57f54.jpg    1\n",
       "12599  f1e0b9594ae9f72571f0a9dc67406ad41f2edab0.jpg    7\n",
       "\n",
       "[12600 rows x 2 columns]"
      ]
     },
     "execution_count": 81,
     "metadata": {},
     "output_type": "execute_result"
    }
   ],
   "source": [
    "test_path_df['ans'] = predict_df\n",
    "test_path_df"
   ]
  },
  {
   "cell_type": "code",
   "execution_count": 82,
   "id": "be900f9f-fbad-4335-b3fa-6e6939191dc1",
   "metadata": {},
   "outputs": [],
   "source": [
    "test_path_df.to_csv('Resnet34.csv')"
   ]
  },
  {
   "cell_type": "code",
   "execution_count": null,
   "id": "84a526ae-0b0e-41c8-b6be-979945e5465f",
   "metadata": {},
   "outputs": [],
   "source": [
    "def data_random_print(df, num = 5):\n",
    "    "
   ]
  }
 ],
 "metadata": {
  "kernelspec": {
   "display_name": "Python 3 (ipykernel)",
   "language": "python",
   "name": "python3"
  },
  "language_info": {
   "codemirror_mode": {
    "name": "ipython",
    "version": 3
   },
   "file_extension": ".py",
   "mimetype": "text/x-python",
   "name": "python",
   "nbconvert_exporter": "python",
   "pygments_lexer": "ipython3",
   "version": "3.8.5"
  }
 },
 "nbformat": 4,
 "nbformat_minor": 5
}
