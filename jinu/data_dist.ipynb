{
 "cells": [
  {
   "cell_type": "code",
   "execution_count": 1,
   "id": "62436cd0-bf78-4340-91e8-d12586bc85cd",
   "metadata": {},
   "outputs": [],
   "source": [
    "from glob import glob\n",
    "import pandas as pd\n",
    "\n",
    "DATA_PATH = glob('/opt/ml/input/data/train/images/*/*') # 모든 train 이미지에 대한 경로를 리스트로 받아옵니다."
   ]
  },
  {
   "cell_type": "code",
   "execution_count": 2,
   "id": "dc6448b9-9837-42b1-a6bd-32d62078db4e",
   "metadata": {},
   "outputs": [],
   "source": [
    "def age_group(x): # 김준재님 코드 참고\n",
    "    return min(2, x // 30)\n",
    "\n",
    "def preprocess_train_dataframe(total_train_images):\n",
    "\n",
    "    new_train_df = pd.DataFrame(columns={\"id\", \"gender\", \"race\", \"age\", \"mask\", \"img_path\", \"path\"})\n",
    "    total_id, total_gender, total_race, total_age, total_img_path, total_mask, total_folder = [], [], [], [], [], [], []\n",
    "\n",
    "    for img_path in total_train_images:\n",
    "\n",
    "        split_list = img_path.split(\"/\")\n",
    "        file_name = split_list[-1]\n",
    "        path = split_list[-2]\n",
    "\n",
    "        path_split = path.split(\"_\")\n",
    "        id_ = path_split[0]\n",
    "        gender = 0 if path_split[1] == \"male\" else 1\n",
    "        race = path_split[2]\n",
    "        age = int(path_split[3])\n",
    "        \n",
    "        if \"normal\" in file_name:\n",
    "            mask = 2\n",
    "        elif \"incorrect\" in file_name:\n",
    "            mask = 1\n",
    "        else:\n",
    "            mask = 0\n",
    "\n",
    "        total_id.append(id_)\n",
    "        total_gender.append(gender)\n",
    "        total_race.append(race)\n",
    "        total_age.append(age)\n",
    "        total_mask.append(mask)\n",
    "        total_img_path.append(img_path)\n",
    "        total_folder.append(path)   \n",
    "\n",
    "    new_train_df['id'] = total_id\n",
    "    new_train_df['gender'] = total_gender\n",
    "    new_train_df['race'] = total_race\n",
    "    new_train_df['age'] = total_age\n",
    "    new_train_df['mask'] = total_mask\n",
    "    new_train_df['img_path'] = total_img_path\n",
    "    new_train_df['path'] = total_folder\n",
    "    \n",
    "    # age group 생성\n",
    "    new_train_df['age_group'] = new_train_df['age'].apply(lambda x : age_group(x))\n",
    "\n",
    "    # label 생성 - 신규범님 코드 참고\n",
    "    new_train_df['label'] = new_train_df['mask'] * 6 + new_train_df['gender']*3 + new_train_df['age_group']\n",
    "    return new_train_df.sort_values(by='id').reset_index(drop=True)\n",
    "\n",
    "new_train_df = preprocess_train_dataframe(DATA_PATH)"
   ]
  },
  {
   "cell_type": "code",
   "execution_count": 3,
   "id": "1c6e1975-5cba-4b0d-a7e9-a87638e941db",
   "metadata": {},
   "outputs": [
    {
     "data": {
      "image/png": "[encoded data removed]",
      "text/plain": [
       "<Figure size 1080x504 with 1 Axes>"
      ]
     },
     "metadata": {
      "needs_background": "light"
     },
     "output_type": "display_data"
    }
   ],
   "source": [
    "import matplotlib.pyplot as plt\n",
    "import seaborn as sns\n",
    "\n",
    "fig, ax = plt.subplots(1, 1, figsize=(15, 7))\n",
    "ax = sns.countplot(x=\"label\", data=new_train_df, ax=ax)\n",
    "for p in ax.patches:\n",
    "        ax.annotate('{}'.format(p.get_height()), (p.get_x()+0.15, p.get_height()+30))"
   ]
  },
  {
   "cell_type": "code",
   "execution_count": null,
   "id": "008b4f4a-eaa0-4dcc-ba53-689ca7dc146c",
   "metadata": {},
   "outputs": [],
   "source": []
  }
 ],
 "metadata": {
  "kernelspec": {
   "display_name": "Python 3 (ipykernel)",
   "language": "python",
   "name": "python3"
  },
  "language_info": {
   "codemirror_mode": {
    "name": "ipython",
    "version": 3
   },
   "file_extension": ".py",
   "mimetype": "text/x-python",
   "name": "python",
   "nbconvert_exporter": "python",
   "pygments_lexer": "ipython3",
   "version": "3.8.5"
  }
 },
 "nbformat": 4,
 "nbformat_minor": 5
}
